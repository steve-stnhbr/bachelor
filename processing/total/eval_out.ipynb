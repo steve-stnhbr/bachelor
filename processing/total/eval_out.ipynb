{
 "cells": [
  {
   "cell_type": "code",
   "execution_count": 17,
   "id": "7fcbe57f-af17-404b-89e6-5c3530fed7d1",
   "metadata": {
    "tags": []
   },
   "outputs": [],
   "source": [
    "import os\n",
    "import cv2\n",
    "import glob\n",
    "import math\n",
    "import pickle\n",
    "import random\n",
    "import numpy as np\n",
    "from tqdm import tqdm\n",
    "import matplotlib.pyplot as plt"
   ]
  },
  {
   "cell_type": "code",
   "execution_count": 18,
   "id": "af874cd7-65b3-4a2d-bded-856da1f94ca7",
   "metadata": {
    "tags": []
   },
   "outputs": [],
   "source": [
    "INT_S2_DIR = sorted([d for d in glob.glob(\"_intermediate/stage2_plantdoc/*\") if os.path.isdir(d)])[-1]"
   ]
  },
  {
   "cell_type": "code",
   "execution_count": 19,
   "id": "18a1b3d9-ff9f-4cb0-b830-6a8005ad38bd",
   "metadata": {
    "tags": []
   },
   "outputs": [
    {
     "data": {
      "text/plain": [
       "'_intermediate/stage2_plantdoc/2024_12_06_19_30_57'"
      ]
     },
     "execution_count": 19,
     "metadata": {},
     "output_type": "execute_result"
    }
   ],
   "source": [
    "INT_S2_DIR"
   ]
  },
  {
   "cell_type": "code",
   "execution_count": 20,
   "id": "9aa59054-aea3-4573-9b0e-a37072f6f036",
   "metadata": {
    "tags": []
   },
   "outputs": [],
   "source": [
    "names = [d for d in os.listdir(INT_S2_DIR) if os.path.isdir(os.path.join(INT_S2_DIR, d))]"
   ]
  },
  {
   "cell_type": "code",
   "execution_count": 21,
   "id": "9f92750f-d22a-4da6-aafa-7abc1d04a336",
   "metadata": {
    "tags": []
   },
   "outputs": [
    {
     "data": {
      "text/plain": [
       "['(SAM + Inception) + (AlexNet)',\n",
       " '(SAM + YOLOv8) + (InceptionV3)',\n",
       " '(SAM + YOLOv8) + (ResNet152V2)',\n",
       " '(SAM + ResNet) + (ResNet152V2)',\n",
       " '(SAM + ResNet) + (InceptionV3)',\n",
       " '(SAM + YOLOv8) + (AlexNet)',\n",
       " '(SAM + Inception) + (InceptionV3)',\n",
       " '(SAM + Inception) + (ResNet152V2)',\n",
       " '(SAM + ResNet) + (AlexNet)']"
      ]
     },
     "execution_count": 21,
     "metadata": {},
     "output_type": "execute_result"
    }
   ],
   "source": [
    "names"
   ]
  },
  {
   "cell_type": "raw",
   "id": "1a02a193-cf89-4808-ba6e-987ff00d0cf8",
   "metadata": {
    "tags": []
   },
   "source": [
    "with open(os.path.join(INT_S2_DIR, \"total.pkl\"), \"rb\") as file:\n",
    "    stage2_results = pickle.load(file)"
   ]
  },
  {
   "cell_type": "raw",
   "id": "6500c515-b671-4888-be95-054050b646f0",
   "metadata": {
    "tags": []
   },
   "source": [
    "print(len(stage2_results), stage2_results.keys())"
   ]
  },
  {
   "cell_type": "code",
   "execution_count": 22,
   "id": "9e3b9a54-bd01-4bee-af9e-7c7b5322948a",
   "metadata": {
    "tags": []
   },
   "outputs": [],
   "source": [
    "def select_leaves_area_k(data, k=1, offset=0):\n",
    "    preds, masks = data\n",
    "    ma_all = sorted(range(len(masks)), key=lambda k: masks[k]['patch'].shape[0] * masks[k]['patch'].shape[1])\n",
    "    if offset == 0:\n",
    "        ma_index = ma_all[-k:]\n",
    "    else:\n",
    "        ma_index = ma_all[-(k+offset):-offset]\n",
    "    if k >= len(ma_all):\n",
    "        ma_index = ma_all\n",
    "    ma_preds = [preds[i] for i in ma_index]\n",
    "    ma_masks = [masks[i] for i in ma_index]\n",
    "    return ma_preds, ma_masks"
   ]
  },
  {
   "cell_type": "code",
   "execution_count": 23,
   "id": "b9750ffa-a14c-4115-9555-4b43dcf8f97b",
   "metadata": {},
   "outputs": [],
   "source": [
    "def select_leaves_area(data, threshold=1_280):\n",
    "    preds, masks = data\n",
    "    indices = [i for i, mask in enumerate(masks) if mask['patch'].shape[0] * mask['patch'].shape[1] > threshold]\n",
    "    preds = [data[0][i] for i in indices]\n",
    "    masks = [data[1][i] for i in indices]\n",
    "    return preds, masks"
   ]
  },
  {
   "cell_type": "code",
   "execution_count": 24,
   "id": "ca380668-8ec2-42a0-8322-6c52b10aa75f",
   "metadata": {
    "tags": []
   },
   "outputs": [],
   "source": [
    "def select_leaves_area_relative(data, ratio):\n",
    "    preds, masks = data\n",
    "    if len(masks) == 0:\n",
    "        return preds, masks\n",
    "    image_area = masks[0]['segmentation'].shape[0] * masks[0]['segmentation'].shape[1]\n",
    "    indices = [i for i, mask in enumerate(masks) if mask['patch'].shape[0] * mask['patch'].shape[1] > image_area * ratio]\n",
    "    preds = [data[0][i] for i in indices]\n",
    "    masks = [data[1][i] for i in indices]\n",
    "    return preds, masks"
   ]
  },
  {
   "cell_type": "code",
   "execution_count": 25,
   "id": "be134c69-42ae-42f1-8f89-530bb7dba756",
   "metadata": {
    "tags": []
   },
   "outputs": [],
   "source": [
    "def select_leaves_all(data):\n",
    "    preds, masks = data\n",
    "    return preds, masks"
   ]
  },
  {
   "cell_type": "code",
   "execution_count": 26,
   "id": "6b919378-340d-40ab-abdc-8bf391a86543",
   "metadata": {
    "tags": []
   },
   "outputs": [],
   "source": [
    "def select_leaves_probability_k(data, k=1):\n",
    "    preds, masks = data\n",
    "    for i, mask in enumerate(masks):\n",
    "        try:\n",
    "            len(mask['leaf_probability'])\n",
    "        except TypeError:\n",
    "            pass\n",
    "        else:\n",
    "             mask['leaf_probability'] = mask['leaf_probability'][0]\n",
    "    ma_index = sorted(range(len(masks)), key=lambda k: masks[k]['leaf_probability'])[-k:]\n",
    "    ma_preds = [preds[i] for i in ma_index]\n",
    "    ma_masks = [masks[i] for i in ma_index]\n",
    "    return ma_preds, ma_masks"
   ]
  },
  {
   "cell_type": "code",
   "execution_count": 27,
   "id": "9c6b50b6-0a18-4eaa-83a7-6b5b29038247",
   "metadata": {
    "tags": []
   },
   "outputs": [],
   "source": [
    "def select_leaves_probability(data, threshold=.9):\n",
    "    masks = []\n",
    "    preds = []\n",
    "    for i, mask in enumerate(data[1]):\n",
    "        if 'leaf_probability' not in mask.keys():\n",
    "            continue\n",
    "        try:\n",
    "            len(mask['leaf_probability'])\n",
    "        except TypeError:\n",
    "            pass\n",
    "        else:\n",
    "             mask['leaf_probability'] = mask['leaf_probability'][0]\n",
    "        #print(mask['leaf_probability'])\n",
    "        if mask['leaf_probability'] < threshold:\n",
    "            continue\n",
    "        masks.append(mask)\n",
    "        preds.append(data[0][i])\n",
    "    return preds, masks"
   ]
  },
  {
   "cell_type": "code",
   "execution_count": 28,
   "id": "e21b2384-64c7-4b60-be36-6d764481fa36",
   "metadata": {
    "tags": []
   },
   "outputs": [],
   "source": [
    "def select_leaves_combined(data, k=1):\n",
    "    preds, masks = data\n",
    "    for i, mask in enumerate(masks):\n",
    "        try:\n",
    "            len(mask['leaf_probability'])\n",
    "        except TypeError:\n",
    "            pass\n",
    "        else:\n",
    "             mask['leaf_probability'] = mask['leaf_probability'][0]\n",
    "    def score(k):\n",
    "        return math.sqrt(math.sqrt(masks[k]['patch'].shape[0] * masks[k]['patch'].shape[1])) * masks[k]['leaf_probability']\n",
    "    ma_index = sorted(range(len(masks)), key=score)[-k:]\n",
    "    ma_preds = [preds[i] for i in ma_index]\n",
    "    ma_masks = [masks[i] for i in ma_index]\n",
    "    return ma_preds, ma_masks"
   ]
  },
  {
   "cell_type": "code",
   "execution_count": 29,
   "id": "14d02e6f-20bd-42e9-8dac-474bb02972d9",
   "metadata": {
    "tags": []
   },
   "outputs": [],
   "source": [
    "def select_leaves_sharpness_k(data, k=3):\n",
    "    preds, masks = data\n",
    "    def score(index):\n",
    "        array = cv2.cvtColor(masks[index]['patch'], cv2.COLOR_RGB2GRAY)\n",
    "        gy, gx = np.gradient(array)\n",
    "        mask = array > 0\n",
    "        gnorm = np.sqrt((gx * mask)**2 + (gy * mask)**2)\n",
    "        sharpness = np.average(gnorm)\n",
    "        return sharpness\n",
    "    ma_index = sorted(range(len(masks)), key=score, reverse=True)[:k]\n",
    "    ma_preds = [preds[i] for i in ma_index]\n",
    "    ma_masks = [masks[i] for i in ma_index]\n",
    "    return ma_preds, ma_masks"
   ]
  },
  {
   "cell_type": "code",
   "execution_count": null,
   "id": "4490434b-d42b-41b8-a0cd-26e8bc2c256c",
   "metadata": {
    "scrolled": true,
    "tags": []
   },
   "outputs": [],
   "source": [
    "k = 3\n",
    "fig, axes = plt.subplots(len(names), k, figsize=(15, 5 * len(names)))  # Adjust figure size\n",
    "axes = np.array(axes).reshape(len(names), k)  # Ensure axes are in a 2D array if len(names) == 1\n",
    "\n",
    "# Sample a single image_id to be used across all iterations\n",
    "with open(os.path.join(INT_S2_DIR, names[0], \"data.pkl\"), \"rb\") as file:\n",
    "    first_result = pickle.load(file)\n",
    "image_id = random.sample(list(first_result.keys()), k=1)[0]\n",
    "del first_result\n",
    "\n",
    "for axs, name in zip(axes, names):\n",
    "    print(name)\n",
    "    with open(os.path.join(INT_S2_DIR, name, \"data.pkl\"), \"rb\") as file:\n",
    "        result = pickle.load(file)\n",
    "    print(len(result[image_id]['masks']))\n",
    "    # Use the pre-selected image_id\n",
    "    selected = (result[image_id]['predictions'], result[image_id]['masks'])\n",
    "    selected = select_leaves_probability((result[image_id]['predictions'], result[image_id]['masks']), .95)\n",
    "    selected = select_leaves_area_k(selected, k=6, offset=1)\n",
    "    selected = select_leaves_sharpness_k(selected, 2)\n",
    "    amount = len(selected[0])\n",
    "    print(selected[0])\n",
    "    print(result[image_id]['healthy'])\n",
    "\n",
    "    # Draw subplots\n",
    "    for ax, (prob, mask) in zip(axs, zip(selected[0], selected[1])):\n",
    "        ax.imshow(mask['patch'])\n",
    "        ax.axis('off')\n",
    "        ax.set_title(f\"{name}: {prob}\")\n",
    "    # Set title for each subfigure\n",
    "\n",
    "plt.tight_layout()\n",
    "plt.show()"
   ]
  },
  {
   "cell_type": "code",
   "execution_count": 64,
   "id": "9d4f3159-d623-47c5-991f-96da4cda68c0",
   "metadata": {
    "scrolled": true,
    "tags": []
   },
   "outputs": [
    {
     "name": "stderr",
     "output_type": "stream",
     "text": [
      "Processing (SAM + Inception) + (AlexNet):   0%|          | 0/9 [00:00<?, ?it/s]/tmp/ipykernel_753574/1815435888.py:68: FutureWarning: The behavior of DataFrame concatenation with empty or all-NA entries is deprecated. In a future version, this will no longer exclude empty or all-NA columns when determining the result dtypes. To retain the old behavior, exclude the relevant entries before the concat operation.\n",
      "  log_df = pd.concat([log_df, pd.DataFrame([{**params, 'name': name, 'auc': auc}])], ignore_index=True)\n",
      "Processing (SAM + ResNet) + (AlexNet): 100%|██████████| 9/9 [1:20:50<00:00, 538.99s/it]       "
     ]
    },
    {
     "name": "stdout",
     "output_type": "stream",
     "text": [
      "Best Configuration: {'DISEASED_THRESHOLD_SINGLE': 0.95, 'MIN_LEAF_PROBABILITY': 0.95, 'N_SELECT_AREA': 2, 'OFFSET_SELECT_AREA': 0, 'N_SELECT_SHARPNESS': 2}\n",
      "Best AUC: 0.8333333333333334\n",
      "Best Name: (SAM + Inception) + (AlexNet)\n"
     ]
    },
    {
     "name": "stderr",
     "output_type": "stream",
     "text": [
      "\n"
     ]
    }
   ],
   "source": [
    "import itertools\n",
    "import pandas as pd\n",
    "from sklearn.metrics import roc_auc_score\n",
    "from tqdm import tqdm\n",
    "import pickle\n",
    "import os\n",
    "\n",
    "# Define the ranges for hyperparameters\n",
    "hyperparameter_space = {\n",
    "    'DISEASED_THRESHOLD_SINGLE': [0.8, 0.85, 0.9, 0.925, 0,9375, 0.95],\n",
    "    'MIN_LEAF_PROBABILITY': [0.8, 0.85, 0.9, 0.925, 0,9375, 0.95],\n",
    "    'N_SELECT_AREA': [2, 3, 4],\n",
    "    'OFFSET_SELECT_AREA': [0, 1],\n",
    "    'N_SELECT_SHARPNESS': [2, 3, 4],\n",
    "}\n",
    "\n",
    "# Generate all combinations of hyperparameters\n",
    "hyperparameter_combinations = list(itertools.product(*hyperparameter_space.values()))\n",
    "\n",
    "# DataFrame to log scores\n",
    "log_df = pd.DataFrame(columns=list(hyperparameter_space.keys()) + ['name', 'auc'])\n",
    "\n",
    "# To store the best configuration\n",
    "best_config = None\n",
    "best_auc = -1\n",
    "best_name = None\n",
    "\n",
    "p_bar = tqdm(names)\n",
    "# Process each dataset separately to reduce memory usage\n",
    "for name in p_bar:\n",
    "    p_bar.set_description(f\"Processing {name}\")\n",
    "    try:\n",
    "        # Unpickle data for the current file\n",
    "        with open(os.path.join(INT_S2_DIR, name, \"data.pkl\"), \"rb\") as file:\n",
    "            result = pickle.load(file)\n",
    "        \n",
    "        # Iterate over hyperparameter combinations\n",
    "        for combo in hyperparameter_combinations:\n",
    "            # Assign the hyperparameters\n",
    "            params = dict(zip(hyperparameter_space.keys(), combo))\n",
    "            DISEASED_THRESHOLD_SINGLE = params['DISEASED_THRESHOLD_SINGLE']\n",
    "            MIN_LEAF_PROBABILITY = params['MIN_LEAF_PROBABILITY']\n",
    "            N_SELECT_AREA = params['N_SELECT_AREA']\n",
    "            OFFSET_SELECT_AREA = params['OFFSET_SELECT_AREA']\n",
    "            N_SELECT_SHARPNESS = params['N_SELECT_SHARPNESS']\n",
    "            \n",
    "            # Initialize results for the current combination\n",
    "            results_conv = {'y_true': [], 'y_pred': []}\n",
    "            for image_id, data in result.items():\n",
    "                if len(data['masks']) == 0:\n",
    "                    continue\n",
    "                selected = (data['predictions'], data['masks'])\n",
    "                selected = select_leaves_probability(selected, MIN_LEAF_PROBABILITY)\n",
    "                selected = select_leaves_area_k(selected, k=N_SELECT_AREA, offset=OFFSET_SELECT_AREA)\n",
    "                selected = select_leaves_sharpness_k(selected, N_SELECT_SHARPNESS)\n",
    "                for pred, mask in zip(selected[0], selected[1]):\n",
    "                    results_conv['y_pred'].append(int(mask['prob_diseased'] > DISEASED_THRESHOLD_SINGLE))\n",
    "                    results_conv['y_true'].append(1 - int(data['healthy']))\n",
    "            \n",
    "            # Skip if no results are available\n",
    "            if len(results_conv['y_true']) == 0:\n",
    "                continue\n",
    "            \n",
    "            # Calculate AUC for the current combination\n",
    "            try:\n",
    "#                print(results_conv)\n",
    "                auc = roc_auc_score(results_conv['y_true'], results_conv['y_pred'])\n",
    "                log_df = pd.concat([log_df, pd.DataFrame([{**params, 'name': name, 'auc': auc}])], ignore_index=True)\n",
    "                if auc > best_auc:\n",
    "                    best_auc = auc\n",
    "                    best_config = params\n",
    "                    best_name = name\n",
    "            except Exception as e:\n",
    "                print(f\"Error calculating AUC for {name} with {params}: {e}\")\n",
    "                continue\n",
    "    except Exception as e:\n",
    "        print(f\"Error processing file {name}: {e}\")\n",
    "        continue\n",
    "\n",
    "# Save results to CSV\n",
    "log_df.to_csv(\"hyperparameter_search_log.csv\", index=False)\n",
    "\n",
    "# Print the best configuration and its AUC\n",
    "print(f\"Best Configuration: {best_config}\")\n",
    "print(f\"Best AUC: {best_auc}\")\n",
    "print(f\"Best Name: {best_name}\")"
   ]
  },
  {
   "cell_type": "code",
   "execution_count": 39,
   "id": "1dd5f598-760a-43e7-ad39-c1cc4ecb3884",
   "metadata": {
    "scrolled": true,
    "tags": []
   },
   "outputs": [
    {
     "name": "stdout",
     "output_type": "stream",
     "text": [
      "Index(['DISEASED_THRESHOLD_SINGLE', 'MIN_LEAF_PROBABILITY', 'N_SELECT_AREA',\n",
      "       'OFFSET_SELECT_AREA', 'N_SELECT_SHARPNESS', 'name', 'auc'],\n",
      "      dtype='object')\n"
     ]
    },
    {
     "name": "stderr",
     "output_type": "stream",
     "text": [
      "Unpickling (SAM + Inception) + (AlexNet):   0%|          | 0/9 [00:00<?, ?it/s]"
     ]
    },
    {
     "name": "stdout",
     "output_type": "stream",
     "text": [
      "using config {'DISEASED_THRESHOLD_SINGLE': 0.95, 'MIN_LEAF_PROBABILITY': 0.95, 'N_SELECT_AREA': 2, 'OFFSET_SELECT_AREA': 0, 'N_SELECT_SHARPNESS': 2}\n"
     ]
    },
    {
     "name": "stderr",
     "output_type": "stream",
     "text": [
      "Unpickling (SAM + YOLOv8) + (InceptionV3):  11%|█         | 1/9 [00:05<00:47,  5.99s/it]"
     ]
    },
    {
     "name": "stdout",
     "output_type": "stream",
     "text": [
      "using config {'DISEASED_THRESHOLD_SINGLE': 0.925, 'MIN_LEAF_PROBABILITY': 0.95, 'N_SELECT_AREA': 4, 'OFFSET_SELECT_AREA': 1, 'N_SELECT_SHARPNESS': 4}\n"
     ]
    },
    {
     "name": "stderr",
     "output_type": "stream",
     "text": [
      "Unpickling (SAM + YOLOv8) + (ResNet152V2):  22%|██▏       | 2/9 [00:18<01:08,  9.80s/it]"
     ]
    },
    {
     "name": "stdout",
     "output_type": "stream",
     "text": [
      "using config {'DISEASED_THRESHOLD_SINGLE': 0.0, 'MIN_LEAF_PROBABILITY': 0.9, 'N_SELECT_AREA': 2, 'OFFSET_SELECT_AREA': 0, 'N_SELECT_SHARPNESS': 2}\n"
     ]
    },
    {
     "name": "stderr",
     "output_type": "stream",
     "text": [
      "Unpickling (SAM + ResNet) + (ResNet152V2):  33%|███▎      | 3/9 [00:35<01:17, 12.93s/it]"
     ]
    },
    {
     "name": "stdout",
     "output_type": "stream",
     "text": [
      "using config {'DISEASED_THRESHOLD_SINGLE': 0.0, 'MIN_LEAF_PROBABILITY': 0.0, 'N_SELECT_AREA': 2, 'OFFSET_SELECT_AREA': 0, 'N_SELECT_SHARPNESS': 2}\n"
     ]
    },
    {
     "name": "stderr",
     "output_type": "stream",
     "text": [
      "Unpickling (SAM + ResNet) + (InceptionV3):  44%|████▍     | 4/9 [00:53<01:14, 14.94s/it]"
     ]
    },
    {
     "name": "stdout",
     "output_type": "stream",
     "text": [
      "using config {'DISEASED_THRESHOLD_SINGLE': 0.925, 'MIN_LEAF_PROBABILITY': 0.0, 'N_SELECT_AREA': 2, 'OFFSET_SELECT_AREA': 0, 'N_SELECT_SHARPNESS': 2}\n"
     ]
    },
    {
     "name": "stderr",
     "output_type": "stream",
     "text": [
      "Unpickling (SAM + YOLOv8) + (AlexNet):  56%|█████▌    | 5/9 [01:10<01:02, 15.74s/it]    "
     ]
    },
    {
     "name": "stdout",
     "output_type": "stream",
     "text": [
      "using config {'DISEASED_THRESHOLD_SINGLE': 0.0, 'MIN_LEAF_PROBABILITY': 0.9, 'N_SELECT_AREA': 2, 'OFFSET_SELECT_AREA': 0, 'N_SELECT_SHARPNESS': 2}\n"
     ]
    },
    {
     "name": "stderr",
     "output_type": "stream",
     "text": [
      "Unpickling (SAM + Inception) + (InceptionV3):  67%|██████▋   | 6/9 [01:25<00:46, 15.60s/it]"
     ]
    },
    {
     "name": "stdout",
     "output_type": "stream",
     "text": [
      "using config {'DISEASED_THRESHOLD_SINGLE': 0.925, 'MIN_LEAF_PROBABILITY': 0.0, 'N_SELECT_AREA': 2, 'OFFSET_SELECT_AREA': 0, 'N_SELECT_SHARPNESS': 2}\n"
     ]
    },
    {
     "name": "stderr",
     "output_type": "stream",
     "text": [
      "Unpickling (SAM + Inception) + (ResNet152V2):  78%|███████▊  | 7/9 [01:42<00:32, 16.05s/it]"
     ]
    },
    {
     "name": "stdout",
     "output_type": "stream",
     "text": [
      "using config {'DISEASED_THRESHOLD_SINGLE': 0.9, 'MIN_LEAF_PROBABILITY': 0.9, 'N_SELECT_AREA': 2, 'OFFSET_SELECT_AREA': 0, 'N_SELECT_SHARPNESS': 2}\n"
     ]
    },
    {
     "name": "stderr",
     "output_type": "stream",
     "text": [
      "Unpickling (SAM + ResNet) + (AlexNet):  89%|████████▉ | 8/9 [01:58<00:15, 15.94s/it]       "
     ]
    },
    {
     "name": "stdout",
     "output_type": "stream",
     "text": [
      "using config {'DISEASED_THRESHOLD_SINGLE': 0.0, 'MIN_LEAF_PROBABILITY': 0.0, 'N_SELECT_AREA': 2, 'OFFSET_SELECT_AREA': 0, 'N_SELECT_SHARPNESS': 2}\n"
     ]
    },
    {
     "name": "stderr",
     "output_type": "stream",
     "text": [
      "Converting (SAM + ResNet) + (AlexNet): 100%|██████████| 9/9 [02:14<00:00, 14.91s/it]\n"
     ]
    }
   ],
   "source": [
    "results_conv = {}\n",
    "DISEASED_THRESHOLD = 2.8\n",
    "DISEASED_THRESHOLD_SINGLE = .95\n",
    "MIN_LEAF_PROBABILITY = .95\n",
    "N_SELECT_AREA = 2\n",
    "OFFSET_SELECT_AREA = 0\n",
    "N_SELECT_SHARPNESS = 2\n",
    "\n",
    "df = pd.read_csv(\"hyperparameter_search_log.csv\")\n",
    "# Find the best configuration for each model\n",
    "\n",
    "print(df.columns)\n",
    "\n",
    "best_configs_df = df.loc[df.groupby('name')['auc'].idxmax()]\n",
    "\n",
    "# Convert to dictionary format\n",
    "best_configs = best_configs_df.set_index('name').drop(columns=['auc']).to_dict(orient='index')\n",
    "\n",
    "p_bar = tqdm(names)\n",
    "results_conv = {}\n",
    "\n",
    "for name in p_bar:\n",
    "    # Fetch the best hyperparameters for the current model\n",
    "    if name in best_configs:\n",
    "        config = best_configs[name]\n",
    "        print(\"using config\", config)\n",
    "        DISEASED_THRESHOLD_SINGLE = config[\"DISEASED_THRESHOLD_SINGLE\"]\n",
    "        MIN_LEAF_PROBABILITY = config[\"MIN_LEAF_PROBABILITY\"]\n",
    "        N_SELECT_AREA = config[\"N_SELECT_AREA\"]\n",
    "        OFFSET_SELECT_AREA = config[\"OFFSET_SELECT_AREA\"]\n",
    "        N_SELECT_SHARPNESS = config[\"N_SELECT_SHARPNESS\"]\n",
    "    else:\n",
    "        print(f\"No best configuration found for {name}, using defaults.\")\n",
    "        continue\n",
    "\n",
    "    p_bar.set_description(\"Unpickling \" + name)\n",
    "    with open(os.path.join(INT_S2_DIR, name, \"data.pkl\"), \"rb\") as file:\n",
    "        result = pickle.load(file)\n",
    "    p_bar.set_description(\"Converting \" + name)\n",
    "    results_conv[name] = {\n",
    "        'y_true': [],\n",
    "        'y_pred': []\n",
    "    }\n",
    "    for image_id, data in result.items():\n",
    "        if len(data['masks']) == 0:\n",
    "            continue\n",
    "        selected = (data['predictions'], data['masks'])\n",
    "        selected = select_leaves_probability((result[image_id]['predictions'], result[image_id]['masks']), MIN_LEAF_PROBABILITY)\n",
    "        selected = select_leaves_area_k(selected, k=N_SELECT_AREA, offset=OFFSET_SELECT_AREA)\n",
    "        selected = select_leaves_sharpness_k(selected, N_SELECT_SHARPNESS)\n",
    "        for pred, mask in zip(selected[0], selected[1]):\n",
    "            results_conv[name]['y_pred'].append(int(mask['prob_diseased'] > DISEASED_THRESHOLD_SINGLE))\n",
    "            results_conv[name]['y_true'].append(1 - int(data['healthy']))\n",
    "    if len(results_conv[name]['y_true']) == 0:\n",
    "        print(f\"{name} has no results\")\n",
    "        del results_conv[name]\n",
    "    del result"
   ]
  },
  {
   "cell_type": "code",
   "execution_count": 40,
   "id": "0feff53c-1367-4593-bc4a-cf1ef566cacb",
   "metadata": {
    "tags": []
   },
   "outputs": [
    {
     "name": "stdout",
     "output_type": "stream",
     "text": [
      "(SAM + Inception) + (AlexNet) 4\n",
      "(SAM + YOLOv8) + (InceptionV3) 1552\n",
      "(SAM + YOLOv8) + (ResNet152V2) 1014\n",
      "(SAM + ResNet) + (ResNet152V2) 1023\n",
      "(SAM + ResNet) + (InceptionV3) 1023\n",
      "(SAM + YOLOv8) + (AlexNet) 1014\n",
      "(SAM + Inception) + (InceptionV3) 1023\n",
      "(SAM + Inception) + (ResNet152V2) 5\n",
      "(SAM + ResNet) + (AlexNet) 1023\n"
     ]
    }
   ],
   "source": [
    "for name, data in results_conv.items():\n",
    "    print(name, len(data['y_pred']))"
   ]
  },
  {
   "cell_type": "code",
   "execution_count": 23,
   "id": "091e6524-f5bf-4ba1-ac01-88c06ffbadf3",
   "metadata": {
    "tags": []
   },
   "outputs": [],
   "source": [
    "import pickle\n",
    "with open(os.path.join(\"_intermediate\", \"results_conv_masked.pkl\"), \"wb+\") as file:\n",
    "          pickle.dump(results_conv, file)"
   ]
  },
  {
   "cell_type": "code",
   "execution_count": 24,
   "id": "56193384-8c06-4535-8101-bdac09af75ce",
   "metadata": {
    "tags": []
   },
   "outputs": [],
   "source": [
    "import pickle\n",
    "with open(os.path.join(\"_intermediate\", \"results_conv.pkl\"), \"rb\") as file:\n",
    "        results_conv = pickle.load(file)"
   ]
  },
  {
   "cell_type": "code",
   "execution_count": 43,
   "id": "3fbdd427-f999-4def-bc8c-0f4ccd8d7315",
   "metadata": {},
   "outputs": [
    {
     "name": "stderr",
     "output_type": "stream",
     "text": [
      "/home/stefan.steinheber/.conda/envs/pt_12.4/lib/python3.12/site-packages/sklearn/metrics/_classification.py:1531: UndefinedMetricWarning: Precision is ill-defined and being set to 0.0 in labels with no predicted samples. Use `zero_division` parameter to control this behavior.\n",
      "  _warn_prf(average, modifier, f\"{metric.capitalize()} is\", len(result))\n",
      "/home/stefan.steinheber/.conda/envs/pt_12.4/lib/python3.12/site-packages/sklearn/metrics/_classification.py:1531: UndefinedMetricWarning: Precision is ill-defined and being set to 0.0 in labels with no predicted samples. Use `zero_division` parameter to control this behavior.\n",
      "  _warn_prf(average, modifier, f\"{metric.capitalize()} is\", len(result))\n",
      "/home/stefan.steinheber/.conda/envs/pt_12.4/lib/python3.12/site-packages/sklearn/metrics/_classification.py:1531: UndefinedMetricWarning: Precision is ill-defined and being set to 0.0 in labels with no predicted samples. Use `zero_division` parameter to control this behavior.\n",
      "  _warn_prf(average, modifier, f\"{metric.capitalize()} is\", len(result))\n",
      "/home/stefan.steinheber/.conda/envs/pt_12.4/lib/python3.12/site-packages/sklearn/metrics/_classification.py:1531: UndefinedMetricWarning: Precision is ill-defined and being set to 0.0 in labels with no predicted samples. Use `zero_division` parameter to control this behavior.\n",
      "  _warn_prf(average, modifier, f\"{metric.capitalize()} is\", len(result))\n",
      "/home/stefan.steinheber/.conda/envs/pt_12.4/lib/python3.12/site-packages/sklearn/metrics/_classification.py:1531: UndefinedMetricWarning: Precision is ill-defined and being set to 0.0 in labels with no predicted samples. Use `zero_division` parameter to control this behavior.\n",
      "  _warn_prf(average, modifier, f\"{metric.capitalize()} is\", len(result))\n",
      "/home/stefan.steinheber/.conda/envs/pt_12.4/lib/python3.12/site-packages/sklearn/metrics/_classification.py:1531: UndefinedMetricWarning: Precision is ill-defined and being set to 0.0 in labels with no predicted samples. Use `zero_division` parameter to control this behavior.\n",
      "  _warn_prf(average, modifier, f\"{metric.capitalize()} is\", len(result))\n",
      "/home/stefan.steinheber/.conda/envs/pt_12.4/lib/python3.12/site-packages/sklearn/metrics/_classification.py:1531: UndefinedMetricWarning: Precision is ill-defined and being set to 0.0 in labels with no predicted samples. Use `zero_division` parameter to control this behavior.\n",
      "  _warn_prf(average, modifier, f\"{metric.capitalize()} is\", len(result))\n",
      "/home/stefan.steinheber/.conda/envs/pt_12.4/lib/python3.12/site-packages/sklearn/metrics/_classification.py:1531: UndefinedMetricWarning: Precision is ill-defined and being set to 0.0 in labels with no predicted samples. Use `zero_division` parameter to control this behavior.\n",
      "  _warn_prf(average, modifier, f\"{metric.capitalize()} is\", len(result))\n",
      "/home/stefan.steinheber/.conda/envs/pt_12.4/lib/python3.12/site-packages/sklearn/metrics/_classification.py:1531: UndefinedMetricWarning: Precision is ill-defined and being set to 0.0 in labels with no predicted samples. Use `zero_division` parameter to control this behavior.\n",
      "  _warn_prf(average, modifier, f\"{metric.capitalize()} is\", len(result))\n",
      "/home/stefan.steinheber/.conda/envs/pt_12.4/lib/python3.12/site-packages/sklearn/metrics/_classification.py:1531: UndefinedMetricWarning: Precision is ill-defined and being set to 0.0 in labels with no predicted samples. Use `zero_division` parameter to control this behavior.\n",
      "  _warn_prf(average, modifier, f\"{metric.capitalize()} is\", len(result))\n",
      "/home/stefan.steinheber/.conda/envs/pt_12.4/lib/python3.12/site-packages/sklearn/metrics/_classification.py:1531: UndefinedMetricWarning: Precision is ill-defined and being set to 0.0 in labels with no predicted samples. Use `zero_division` parameter to control this behavior.\n",
      "  _warn_prf(average, modifier, f\"{metric.capitalize()} is\", len(result))\n",
      "/home/stefan.steinheber/.conda/envs/pt_12.4/lib/python3.12/site-packages/sklearn/metrics/_classification.py:1531: UndefinedMetricWarning: Precision is ill-defined and being set to 0.0 in labels with no predicted samples. Use `zero_division` parameter to control this behavior.\n",
      "  _warn_prf(average, modifier, f\"{metric.capitalize()} is\", len(result))\n",
      "/home/stefan.steinheber/.conda/envs/pt_12.4/lib/python3.12/site-packages/sklearn/metrics/_classification.py:1531: UndefinedMetricWarning: Precision is ill-defined and being set to 0.0 in labels with no predicted samples. Use `zero_division` parameter to control this behavior.\n",
      "  _warn_prf(average, modifier, f\"{metric.capitalize()} is\", len(result))\n",
      "/home/stefan.steinheber/.conda/envs/pt_12.4/lib/python3.12/site-packages/sklearn/metrics/_classification.py:1531: UndefinedMetricWarning: Precision is ill-defined and being set to 0.0 in labels with no predicted samples. Use `zero_division` parameter to control this behavior.\n",
      "  _warn_prf(average, modifier, f\"{metric.capitalize()} is\", len(result))\n",
      "/home/stefan.steinheber/.conda/envs/pt_12.4/lib/python3.12/site-packages/sklearn/metrics/_classification.py:1531: UndefinedMetricWarning: Precision is ill-defined and being set to 0.0 in labels with no predicted samples. Use `zero_division` parameter to control this behavior.\n",
      "  _warn_prf(average, modifier, f\"{metric.capitalize()} is\", len(result))\n"
     ]
    }
   ],
   "source": [
    "from sklearn.metrics import classification_report, accuracy_score, balanced_accuracy_score, roc_auc_score\n",
    "import pandas as pd\n",
    "\n",
    "report_df = pd.DataFrame(columns=['precision', 'recall', 'f1-score', 'accuracy', 'auc'])\n",
    "\n",
    "for name, data in results_conv.items():\n",
    "    total = len(data['y_true'])\n",
    "    unique, counts = np.unique(data['y_true'], return_counts=True)\n",
    "    label_weights = 1 - (counts / total)\n",
    "    sample_weight = np.array([label_weights[label] for label in data['y_true']])\n",
    "    report = classification_report(data['y_true'], data['y_pred'], sample_weight=sample_weight, output_dict=True)['weighted avg']\n",
    "    del report['support']\n",
    "    report['accuracy'] = balanced_accuracy_score(data['y_true'], data['y_pred'], sample_weight=sample_weight)\n",
    "    report['auc'] = roc_auc_score(data['y_true'], data['y_pred'])\n",
    "    \n",
    "    report_df.loc[name] = list(report.values())"
   ]
  },
  {
   "cell_type": "code",
   "execution_count": 44,
   "id": "b97fce1d-99fe-42f8-ad63-86528ecbaa17",
   "metadata": {},
   "outputs": [
    {
     "data": {
      "text/html": [
       "<div>\n",
       "<style scoped>\n",
       "    .dataframe tbody tr th:only-of-type {\n",
       "        vertical-align: middle;\n",
       "    }\n",
       "\n",
       "    .dataframe tbody tr th {\n",
       "        vertical-align: top;\n",
       "    }\n",
       "\n",
       "    .dataframe thead th {\n",
       "        text-align: right;\n",
       "    }\n",
       "</style>\n",
       "<table border=\"1\" class=\"dataframe\">\n",
       "  <thead>\n",
       "    <tr style=\"text-align: right;\">\n",
       "      <th></th>\n",
       "      <th>precision</th>\n",
       "      <th>recall</th>\n",
       "      <th>f1-score</th>\n",
       "      <th>accuracy</th>\n",
       "      <th>auc</th>\n",
       "    </tr>\n",
       "  </thead>\n",
       "  <tbody>\n",
       "    <tr>\n",
       "      <th>(SAM + Inception) + (AlexNet)</th>\n",
       "      <td>0.875000</td>\n",
       "      <td>0.833333</td>\n",
       "      <td>0.828571</td>\n",
       "      <td>0.833333</td>\n",
       "      <td>0.833333</td>\n",
       "    </tr>\n",
       "    <tr>\n",
       "      <th>(SAM + YOLOv8) + (InceptionV3)</th>\n",
       "      <td>0.614861</td>\n",
       "      <td>0.593921</td>\n",
       "      <td>0.574530</td>\n",
       "      <td>0.593921</td>\n",
       "      <td>0.593921</td>\n",
       "    </tr>\n",
       "    <tr>\n",
       "      <th>(SAM + YOLOv8) + (ResNet152V2)</th>\n",
       "      <td>0.250000</td>\n",
       "      <td>0.500000</td>\n",
       "      <td>0.333333</td>\n",
       "      <td>0.500000</td>\n",
       "      <td>0.500000</td>\n",
       "    </tr>\n",
       "    <tr>\n",
       "      <th>(SAM + ResNet) + (ResNet152V2)</th>\n",
       "      <td>0.250000</td>\n",
       "      <td>0.500000</td>\n",
       "      <td>0.333333</td>\n",
       "      <td>0.500000</td>\n",
       "      <td>0.500000</td>\n",
       "    </tr>\n",
       "    <tr>\n",
       "      <th>(SAM + ResNet) + (InceptionV3)</th>\n",
       "      <td>0.581369</td>\n",
       "      <td>0.525978</td>\n",
       "      <td>0.428763</td>\n",
       "      <td>0.525978</td>\n",
       "      <td>0.525978</td>\n",
       "    </tr>\n",
       "    <tr>\n",
       "      <th>(SAM + YOLOv8) + (AlexNet)</th>\n",
       "      <td>0.250000</td>\n",
       "      <td>0.500000</td>\n",
       "      <td>0.333333</td>\n",
       "      <td>0.500000</td>\n",
       "      <td>0.500000</td>\n",
       "    </tr>\n",
       "    <tr>\n",
       "      <th>(SAM + Inception) + (InceptionV3)</th>\n",
       "      <td>0.581369</td>\n",
       "      <td>0.525978</td>\n",
       "      <td>0.428763</td>\n",
       "      <td>0.525978</td>\n",
       "      <td>0.525978</td>\n",
       "    </tr>\n",
       "    <tr>\n",
       "      <th>(SAM + Inception) + (ResNet152V2)</th>\n",
       "      <td>0.250000</td>\n",
       "      <td>0.500000</td>\n",
       "      <td>0.333333</td>\n",
       "      <td>0.500000</td>\n",
       "      <td>0.500000</td>\n",
       "    </tr>\n",
       "    <tr>\n",
       "      <th>(SAM + ResNet) + (AlexNet)</th>\n",
       "      <td>0.250000</td>\n",
       "      <td>0.500000</td>\n",
       "      <td>0.333333</td>\n",
       "      <td>0.500000</td>\n",
       "      <td>0.500000</td>\n",
       "    </tr>\n",
       "  </tbody>\n",
       "</table>\n",
       "</div>"
      ],
      "text/plain": [
       "                                   precision    recall  f1-score  accuracy  \\\n",
       "(SAM + Inception) + (AlexNet)       0.875000  0.833333  0.828571  0.833333   \n",
       "(SAM + YOLOv8) + (InceptionV3)      0.614861  0.593921  0.574530  0.593921   \n",
       "(SAM + YOLOv8) + (ResNet152V2)      0.250000  0.500000  0.333333  0.500000   \n",
       "(SAM + ResNet) + (ResNet152V2)      0.250000  0.500000  0.333333  0.500000   \n",
       "(SAM + ResNet) + (InceptionV3)      0.581369  0.525978  0.428763  0.525978   \n",
       "(SAM + YOLOv8) + (AlexNet)          0.250000  0.500000  0.333333  0.500000   \n",
       "(SAM + Inception) + (InceptionV3)   0.581369  0.525978  0.428763  0.525978   \n",
       "(SAM + Inception) + (ResNet152V2)   0.250000  0.500000  0.333333  0.500000   \n",
       "(SAM + ResNet) + (AlexNet)          0.250000  0.500000  0.333333  0.500000   \n",
       "\n",
       "                                        auc  \n",
       "(SAM + Inception) + (AlexNet)      0.833333  \n",
       "(SAM + YOLOv8) + (InceptionV3)     0.593921  \n",
       "(SAM + YOLOv8) + (ResNet152V2)     0.500000  \n",
       "(SAM + ResNet) + (ResNet152V2)     0.500000  \n",
       "(SAM + ResNet) + (InceptionV3)     0.525978  \n",
       "(SAM + YOLOv8) + (AlexNet)         0.500000  \n",
       "(SAM + Inception) + (InceptionV3)  0.525978  \n",
       "(SAM + Inception) + (ResNet152V2)  0.500000  \n",
       "(SAM + ResNet) + (AlexNet)         0.500000  "
      ]
     },
     "execution_count": 44,
     "metadata": {},
     "output_type": "execute_result"
    }
   ],
   "source": [
    "report_df"
   ]
  },
  {
   "cell_type": "code",
   "execution_count": 45,
   "id": "7d11f7d8-0991-4981-96dc-a43803eb7655",
   "metadata": {
    "tags": []
   },
   "outputs": [],
   "source": [
    "report_df.to_csv(\"report_individual_hyperparameters.csv\", index=False)"
   ]
  },
  {
   "cell_type": "code",
   "execution_count": 46,
   "id": "84eebb11-30bb-42c1-a933-5626bec97cac",
   "metadata": {
    "tags": []
   },
   "outputs": [
    {
     "data": {
      "text/plain": [
       "'\\\\begin{tabular}{lrrrrr}\\n\\\\toprule\\n & precision & recall & f1-score & accuracy & auc \\\\\\\\\\n\\\\midrule\\n(SAM + Inception) + (AlexNet) & 0.8750 & 0.8333 & 0.8286 & 0.8333 & 0.8333 \\\\\\\\\\n(SAM + YOLOv8) + (InceptionV3) & 0.6149 & 0.5939 & 0.5745 & 0.5939 & 0.5939 \\\\\\\\\\n(SAM + YOLOv8) + (ResNet152V2) & 0.2500 & 0.5000 & 0.3333 & 0.5000 & 0.5000 \\\\\\\\\\n(SAM + ResNet) + (ResNet152V2) & 0.2500 & 0.5000 & 0.3333 & 0.5000 & 0.5000 \\\\\\\\\\n(SAM + ResNet) + (InceptionV3) & 0.5814 & 0.5260 & 0.4288 & 0.5260 & 0.5260 \\\\\\\\\\n(SAM + YOLOv8) + (AlexNet) & 0.2500 & 0.5000 & 0.3333 & 0.5000 & 0.5000 \\\\\\\\\\n(SAM + Inception) + (InceptionV3) & 0.5814 & 0.5260 & 0.4288 & 0.5260 & 0.5260 \\\\\\\\\\n(SAM + Inception) + (ResNet152V2) & 0.2500 & 0.5000 & 0.3333 & 0.5000 & 0.5000 \\\\\\\\\\n(SAM + ResNet) + (AlexNet) & 0.2500 & 0.5000 & 0.3333 & 0.5000 & 0.5000 \\\\\\\\\\n\\\\bottomrule\\n\\\\end{tabular}\\n'"
      ]
     },
     "execution_count": 46,
     "metadata": {},
     "output_type": "execute_result"
    }
   ],
   "source": [
    "report_df.to_latex(float_format=\"%.4f\")"
   ]
  },
  {
   "cell_type": "code",
   "execution_count": 51,
   "id": "aa37edd4-c53a-4a64-a4bf-a33dd2ddca7f",
   "metadata": {
    "tags": []
   },
   "outputs": [],
   "source": [
    "report_df = report_df[report_df['auc'] > .5]"
   ]
  },
  {
   "cell_type": "code",
   "execution_count": 62,
   "id": "570e708f-3028-4ebc-9fe5-a0ba7a5d3a74",
   "metadata": {
    "tags": []
   },
   "outputs": [
    {
     "name": "stdout",
     "output_type": "stream",
     "text": [
      "4\n"
     ]
    },
    {
     "data": {
      "image/png": "[encoded data removed]",
      "text/plain": [
       "<Figure size 2000x1200 with 8 Axes>"
      ]
     },
     "metadata": {},
     "output_type": "display_data"
    }
   ],
   "source": [
    "from sklearn.metrics import confusion_matrix, ConfusionMatrixDisplay\n",
    "import matplotlib.pyplot as plt\n",
    "import numpy as np\n",
    "\n",
    "results_conv_sel = {key: value for key, value in results_conv.items() if key in report_df.index}\n",
    "print(len(results_conv_sel))\n",
    "\n",
    "cols = 2\n",
    "fig, axes = plt.subplots((len(results_conv_sel) // cols), cols, figsize=(20, 12))\n",
    "axes = axes.flatten()\n",
    "axes[-1].axis('off')\n",
    "\n",
    "for ax, (name, data) in zip(axes, sorted(results_conv_sel.items())):\n",
    "    total = len(data['y_true'])\n",
    "    if total == 0:\n",
    "        continue\n",
    "    unique, counts = np.unique(data['y_true'], return_counts=True)\n",
    "    label_weights = 1 - (counts / total)\n",
    "    sample_weight = np.array([label_weights[label] for label in data['y_true']])\n",
    "    disp = ConfusionMatrixDisplay.from_predictions(data['y_true'], data['y_pred'],\n",
    "                                                   cmap=\"PuBu\", \n",
    "                                                   ax=ax, \n",
    "                                                   sample_weight=sample_weight, \n",
    "                                                   normalize='all',\n",
    "                                                   display_labels=[\"healthy\", 'diseased'])\n",
    "    disp.ax_.set_title(name)\n",
    "plt.tight_layout()\n",
    "plt.show()"
   ]
  },
  {
   "cell_type": "code",
   "execution_count": 52,
   "id": "45790268-babf-4d18-bc61-0acbc6d897ff",
   "metadata": {
    "tags": []
   },
   "outputs": [],
   "source": [
    "from sklearn.preprocessing import MinMaxScaler\n",
    "scaler = MinMaxScaler()\n",
    "#scaled_df = pd.DataFrame(scaler.fit_transform(report_df), columns=report_df.columns, index=report_df.index)\n",
    "\n",
    "# Step 4: Melt the DataFrame for seaborn\n",
    "scaled_df_melted = report_df.reset_index().melt(id_vars='index', \n",
    "                                                var_name='Metric', \n",
    "                                                value_name='Scaled Value')\n",
    "scaled_df_melted.rename(columns={'index': 'Pipeline'}, inplace=True)"
   ]
  },
  {
   "cell_type": "code",
   "execution_count": 53,
   "id": "5bfc6e11-cb4d-462b-a6c8-1bcc443bc5db",
   "metadata": {
    "tags": []
   },
   "outputs": [
    {
     "data": {
      "text/html": [
       "<div>\n",
       "<style scoped>\n",
       "    .dataframe tbody tr th:only-of-type {\n",
       "        vertical-align: middle;\n",
       "    }\n",
       "\n",
       "    .dataframe tbody tr th {\n",
       "        vertical-align: top;\n",
       "    }\n",
       "\n",
       "    .dataframe thead th {\n",
       "        text-align: right;\n",
       "    }\n",
       "</style>\n",
       "<table border=\"1\" class=\"dataframe\">\n",
       "  <thead>\n",
       "    <tr style=\"text-align: right;\">\n",
       "      <th></th>\n",
       "      <th>Pipeline</th>\n",
       "      <th>Metric</th>\n",
       "      <th>Scaled Value</th>\n",
       "    </tr>\n",
       "  </thead>\n",
       "  <tbody>\n",
       "    <tr>\n",
       "      <th>0</th>\n",
       "      <td>(SAM + Inception) + (AlexNet)</td>\n",
       "      <td>precision</td>\n",
       "      <td>0.875000</td>\n",
       "    </tr>\n",
       "    <tr>\n",
       "      <th>1</th>\n",
       "      <td>(SAM + YOLOv8) + (InceptionV3)</td>\n",
       "      <td>precision</td>\n",
       "      <td>0.614861</td>\n",
       "    </tr>\n",
       "    <tr>\n",
       "      <th>2</th>\n",
       "      <td>(SAM + ResNet) + (InceptionV3)</td>\n",
       "      <td>precision</td>\n",
       "      <td>0.581369</td>\n",
       "    </tr>\n",
       "    <tr>\n",
       "      <th>3</th>\n",
       "      <td>(SAM + Inception) + (InceptionV3)</td>\n",
       "      <td>precision</td>\n",
       "      <td>0.581369</td>\n",
       "    </tr>\n",
       "    <tr>\n",
       "      <th>4</th>\n",
       "      <td>(SAM + Inception) + (AlexNet)</td>\n",
       "      <td>recall</td>\n",
       "      <td>0.833333</td>\n",
       "    </tr>\n",
       "    <tr>\n",
       "      <th>5</th>\n",
       "      <td>(SAM + YOLOv8) + (InceptionV3)</td>\n",
       "      <td>recall</td>\n",
       "      <td>0.593921</td>\n",
       "    </tr>\n",
       "    <tr>\n",
       "      <th>6</th>\n",
       "      <td>(SAM + ResNet) + (InceptionV3)</td>\n",
       "      <td>recall</td>\n",
       "      <td>0.525978</td>\n",
       "    </tr>\n",
       "    <tr>\n",
       "      <th>7</th>\n",
       "      <td>(SAM + Inception) + (InceptionV3)</td>\n",
       "      <td>recall</td>\n",
       "      <td>0.525978</td>\n",
       "    </tr>\n",
       "    <tr>\n",
       "      <th>8</th>\n",
       "      <td>(SAM + Inception) + (AlexNet)</td>\n",
       "      <td>f1-score</td>\n",
       "      <td>0.828571</td>\n",
       "    </tr>\n",
       "    <tr>\n",
       "      <th>9</th>\n",
       "      <td>(SAM + YOLOv8) + (InceptionV3)</td>\n",
       "      <td>f1-score</td>\n",
       "      <td>0.574530</td>\n",
       "    </tr>\n",
       "    <tr>\n",
       "      <th>10</th>\n",
       "      <td>(SAM + ResNet) + (InceptionV3)</td>\n",
       "      <td>f1-score</td>\n",
       "      <td>0.428763</td>\n",
       "    </tr>\n",
       "    <tr>\n",
       "      <th>11</th>\n",
       "      <td>(SAM + Inception) + (InceptionV3)</td>\n",
       "      <td>f1-score</td>\n",
       "      <td>0.428763</td>\n",
       "    </tr>\n",
       "    <tr>\n",
       "      <th>12</th>\n",
       "      <td>(SAM + Inception) + (AlexNet)</td>\n",
       "      <td>accuracy</td>\n",
       "      <td>0.833333</td>\n",
       "    </tr>\n",
       "    <tr>\n",
       "      <th>13</th>\n",
       "      <td>(SAM + YOLOv8) + (InceptionV3)</td>\n",
       "      <td>accuracy</td>\n",
       "      <td>0.593921</td>\n",
       "    </tr>\n",
       "    <tr>\n",
       "      <th>14</th>\n",
       "      <td>(SAM + ResNet) + (InceptionV3)</td>\n",
       "      <td>accuracy</td>\n",
       "      <td>0.525978</td>\n",
       "    </tr>\n",
       "    <tr>\n",
       "      <th>15</th>\n",
       "      <td>(SAM + Inception) + (InceptionV3)</td>\n",
       "      <td>accuracy</td>\n",
       "      <td>0.525978</td>\n",
       "    </tr>\n",
       "    <tr>\n",
       "      <th>16</th>\n",
       "      <td>(SAM + Inception) + (AlexNet)</td>\n",
       "      <td>auc</td>\n",
       "      <td>0.833333</td>\n",
       "    </tr>\n",
       "    <tr>\n",
       "      <th>17</th>\n",
       "      <td>(SAM + YOLOv8) + (InceptionV3)</td>\n",
       "      <td>auc</td>\n",
       "      <td>0.593921</td>\n",
       "    </tr>\n",
       "    <tr>\n",
       "      <th>18</th>\n",
       "      <td>(SAM + ResNet) + (InceptionV3)</td>\n",
       "      <td>auc</td>\n",
       "      <td>0.525978</td>\n",
       "    </tr>\n",
       "    <tr>\n",
       "      <th>19</th>\n",
       "      <td>(SAM + Inception) + (InceptionV3)</td>\n",
       "      <td>auc</td>\n",
       "      <td>0.525978</td>\n",
       "    </tr>\n",
       "  </tbody>\n",
       "</table>\n",
       "</div>"
      ],
      "text/plain": [
       "                             Pipeline     Metric  Scaled Value\n",
       "0       (SAM + Inception) + (AlexNet)  precision      0.875000\n",
       "1      (SAM + YOLOv8) + (InceptionV3)  precision      0.614861\n",
       "2      (SAM + ResNet) + (InceptionV3)  precision      0.581369\n",
       "3   (SAM + Inception) + (InceptionV3)  precision      0.581369\n",
       "4       (SAM + Inception) + (AlexNet)     recall      0.833333\n",
       "5      (SAM + YOLOv8) + (InceptionV3)     recall      0.593921\n",
       "6      (SAM + ResNet) + (InceptionV3)     recall      0.525978\n",
       "7   (SAM + Inception) + (InceptionV3)     recall      0.525978\n",
       "8       (SAM + Inception) + (AlexNet)   f1-score      0.828571\n",
       "9      (SAM + YOLOv8) + (InceptionV3)   f1-score      0.574530\n",
       "10     (SAM + ResNet) + (InceptionV3)   f1-score      0.428763\n",
       "11  (SAM + Inception) + (InceptionV3)   f1-score      0.428763\n",
       "12      (SAM + Inception) + (AlexNet)   accuracy      0.833333\n",
       "13     (SAM + YOLOv8) + (InceptionV3)   accuracy      0.593921\n",
       "14     (SAM + ResNet) + (InceptionV3)   accuracy      0.525978\n",
       "15  (SAM + Inception) + (InceptionV3)   accuracy      0.525978\n",
       "16      (SAM + Inception) + (AlexNet)        auc      0.833333\n",
       "17     (SAM + YOLOv8) + (InceptionV3)        auc      0.593921\n",
       "18     (SAM + ResNet) + (InceptionV3)        auc      0.525978\n",
       "19  (SAM + Inception) + (InceptionV3)        auc      0.525978"
      ]
     },
     "execution_count": 53,
     "metadata": {},
     "output_type": "execute_result"
    }
   ],
   "source": [
    "scaled_df_melted"
   ]
  },
  {
   "cell_type": "code",
   "execution_count": 57,
   "id": "b04ded5d-d2e3-4cca-a977-e37bb69b2675",
   "metadata": {
    "tags": []
   },
   "outputs": [
    {
     "data": {
      "image/png": "[encoded data removed]",
      "text/plain": [
       "<Figure size 1000x600 with 1 Axes>"
      ]
     },
     "metadata": {},
     "output_type": "display_data"
    }
   ],
   "source": [
    "import seaborn as sns\n",
    "import matplotlib.pyplot as plt\n",
    "plt.figure(figsize=(10, 6))\n",
    "ax = sns.barplot(x='Metric', y='Scaled Value', hue='Pipeline', data=scaled_df_melted, dodge=True, width=0.6, legend='brief', palette='colorblind')\n",
    "ax.margins(y=.2)\n",
    "ax.legend(ncol=2, loc='upper center')\n",
    "plt.title('Values of Metrics by Pipeline composition')\n",
    "plt.xticks(rotation=45)\n",
    "plt.tight_layout()\n",
    "plt.show()"
   ]
  },
  {
   "cell_type": "code",
   "execution_count": 55,
   "id": "fbc2822b-e05e-4074-8af6-91d6b91e7976",
   "metadata": {},
   "outputs": [
    {
     "data": {
      "image/png": "[encoded data removed]",
      "text/plain": [
       "<Figure size 1000x600 with 1 Axes>"
      ]
     },
     "metadata": {},
     "output_type": "display_data"
    }
   ],
   "source": [
    "import seaborn as sns\n",
    "import matplotlib.pyplot as plt\n",
    "plt.figure(figsize=(10, 6))\n",
    "ax = sns.barplot(x='Pipeline', y='Scaled Value', hue='Metric', data=scaled_df_melted, dodge=True, width=0.6, legend='brief', palette='colorblind')\n",
    "ax.margins(y=.2)\n",
    "ax.legend(ncol=5, loc='upper center')\n",
    "plt.title('Values of Metrics by Pipeline composition')\n",
    "plt.xticks(rotation=90)\n",
    "plt.tight_layout()\n",
    "plt.show()"
   ]
  },
  {
   "cell_type": "code",
   "execution_count": null,
   "id": "7218fdae-9cf1-4f08-8646-b5c81ba030ea",
   "metadata": {},
   "outputs": [],
   "source": []
  }
 ],
 "metadata": {
  "kernelspec": {
   "display_name": "PyTorch w/ CUDA 12.4",
   "language": "python",
   "name": "pytorch_cuda_12.4"
  },
  "language_info": {
   "codemirror_mode": {
    "name": "ipython",
    "version": 3
   },
   "file_extension": ".py",
   "mimetype": "text/x-python",
   "name": "python",
   "nbconvert_exporter": "python",
   "pygments_lexer": "ipython3",
   "version": "3.12.4"
  }
 },
 "nbformat": 4,
 "nbformat_minor": 5
}
