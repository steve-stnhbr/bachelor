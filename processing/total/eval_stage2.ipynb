{
 "cells": [
  {
   "cell_type": "code",
   "execution_count": null,
   "id": "5d2c6228-4f15-45a7-8542-94297b281717",
   "metadata": {},
   "outputs": [],
   "source": [
    "import os\n",
    "import cv2\n",
    "import keras\n",
    "import pickle"
   ]
  },
  {
   "cell_type": "code",
   "execution_count": null,
   "id": "062d6ccb-9197-4855-b50b-71cc03869038",
   "metadata": {},
   "outputs": [],
   "source": [
    "INT_S1_DIR = \"_intermediate/stage1\"\n",
    "INT_S2_DIR = \"_intermediate/stage2\""
   ]
  },
  {
   "cell_type": "code",
   "execution_count": null,
   "id": "f27731a9-3ada-4f7d-bb0b-d50437ea50c6",
   "metadata": {},
   "outputs": [],
   "source": [
    "os.makedirs(INT_S2_DIR, exist_ok=True)"
   ]
  },
  {
   "cell_type": "code",
   "execution_count": null,
   "id": "b06dcb47-e824-410b-a7b6-e3d36d06b003",
   "metadata": {},
   "outputs": [],
   "source": [
    "def get_latest_checkpoint(dir):\n",
    "    if not os.path.isdir(dir):\n",
    "        return None\n",
    "    ckpts = [file for file in os.listdir(dir) if file.endswith(\"keras\")]\n",
    "    ckpts.sort()\n",
    "    return os.path.join(dir, ckpts[-1])"
   ]
  },
  {
   "cell_type": "code",
   "execution_count": null,
   "id": "a8e4e92f-9f18-46f3-a8cb-6367574f6662",
   "metadata": {},
   "outputs": [],
   "source": [
    "with open(os.path.join(INT_DIR, \"total_data.pkl\"), 'rb') as file:\n",
    "    stage1_results = pickle.load(file, protocol)"
   ]
  },
  {
   "cell_type": "code",
   "execution_count": null,
   "id": "de1d19da-7364-4b2b-b221-d3a34d92120c",
   "metadata": {},
   "outputs": [],
   "source": [
    "stage2_names = [\"InceptionV3\", \"VGG19\", \"MobileNetV3Large\"]"
   ]
  },
  {
   "cell_type": "code",
   "execution_count": null,
   "id": "1fb33c96-3272-469a-b448-8f17bf48eef4",
   "metadata": {},
   "outputs": [],
   "source": [
    "# Load the latest checkpoints\n",
    "stage2_dict = {\n",
    "    name: keras.models.load_model(get_latest_checkpoint(f\"../disease_detection/checkpoints/{name}_rgb\")) \n",
    "    for name in stage2_names \n",
    "    if get_latest_checkpoint(f\"../disease_detection/checkpoints/{name}_rgb\") is not None\n",
    "}"
   ]
  },
  {
   "cell_type": "code",
   "execution_count": null,
   "id": "8d5e77e0-4a43-43cb-87a6-11c41c00e603",
   "metadata": {},
   "outputs": [],
   "source": [
    "# Load best performing model by type\n",
    "stage2_dict = {\n",
    "    name: keras.models.load_model(f\"../disease_detection/out/best{name}_rgb\")\n",
    "    for name in stage2_names \n",
    "}"
   ]
  },
  {
   "cell_type": "code",
   "execution_count": null,
   "id": "784e4913-6009-42b7-b355-1bd4c9ca9d32",
   "metadata": {},
   "outputs": [],
   "source": [
    "stage2_results = {}\n",
    "for stage2_name, stage2_model in stage2_dict.items():\n",
    "    for stage1_name, stage1_result in stage1_results.items():\n",
    "        for index, data in stage1_result.items():\n",
    "            healthy = data['healthy']\n",
    "            masks = data['masks']\n",
    "            data['predictions'] = []\n",
    "            for mask in masks:\n",
    "                patch = mask['patch']\n",
    "                inputs = cv2.resize(patch, (224, 224))\n",
    "                inputs = tf.constant(inputs)\n",
    "                inputs = tf.expand_dims(inputs, 0)\n",
    "                prob = stage2_model(inputs)\n",
    "                data['predictions'].append(prob)\n",
    "                mask['prob_diseased'] = prob"
   ]
  },
  {
   "cell_type": "code",
   "execution_count": null,
   "id": "98818732-65e8-43d9-bc92-6f75257e72e5",
   "metadata": {},
   "outputs": [],
   "source": [
    "stage2_results = {}\n",
    "for stage1_name, stage1_result in stage1_results.items():\n",
    "    for inputs in stage1_result:\n",
    "        for stage2_name, stage2_model in stage2_dict.items():\n",
    "            stage2_results[f\"{stage1_name} + {stage2_name}\"] = []\n",
    "            inputs = cv2.resize(inputs, (224, 224))\n",
    "            inputs = tf.constant(inputs)\n",
    "            inputs = tf.expand_dims(inputs, 0)\n",
    "            prob = stage2_model(inputs)\n",
    "            if prob > PROB_THRESHOLD:\n",
    "                stage2_results[f\"{stage1_name} + {stage2_name}\"].append(index)\n",
    "                #results.append(index)\n",
    "                print(f\"index {index} sick\")"
   ]
  }
 ],
 "metadata": {
  "kernelspec": {
   "display_name": "Python 3 (ipykernel)",
   "language": "python",
   "name": "python3"
  },
  "language_info": {
   "codemirror_mode": {
    "name": "ipython",
    "version": 3
   },
   "file_extension": ".py",
   "mimetype": "text/x-python",
   "name": "python",
   "nbconvert_exporter": "python",
   "pygments_lexer": "ipython3",
   "version": "3.10.14"
  }
 },
 "nbformat": 4,
 "nbformat_minor": 5
}
