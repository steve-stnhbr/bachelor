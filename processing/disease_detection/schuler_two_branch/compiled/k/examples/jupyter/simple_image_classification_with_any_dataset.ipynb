{
  "nbformat": 4,
  "nbformat_minor": 0,
  "metadata": {
    "colab": {
      "name": "simple_image_classification_with_any_dataset.ipynb",
      "provenance": [],
      "collapsed_sections": []
    },
    "kernelspec": {
      "name": "python3",
      "display_name": "Python 3"
    },
    "accelerator": "GPU"
  },
  "cells": [
    {
      "cell_type": "markdown",
      "metadata": {
        "id": "21WmyQrYYFGo",
        "colab_type": "text"
      },
      "source": [
        "## Simple architecture trained with any dataset\n",
        "You can learn more about these datasets at:\n",
        "* CIFAR-10 and CIFAR-100: https://www.cs.toronto.edu/~kriz/cifar.html .\n",
        "* MNIST: http://yann.lecun.com/exdb/mnist/ .\n",
        "* FASHION MNIST: https://github.com/zalandoresearch/fashion-mnist .\n",
        "\n",
        "This example is part of the [K-CAI Neural API](https://github.com/joaopauloschuler/k-neural-api)."
      ]
    },
    {
      "cell_type": "code",
      "metadata": {
        "id": "br3ws9jlWuaE",
        "colab_type": "code",
        "colab": {}
      },
      "source": [
        "#@title Global Settings\n",
	"from tensorflow import keras\n",
        "import tensorflow.keras.layers\n",
        "import tensorflow.keras.models\n",
        "import tensorflow.keras.datasets\n",
        "from tensorflow.keras import regularizers\n",
        "dataset=tensorflow.keras.datasets.fashion_mnist #@param [\"tensorflow.keras.datasets.cifar10\", \"tensorflow.keras.datasets.cifar100\", \"tensorflow.keras.datasets.mnist\", \"tensorflow.keras.datasets.fashion_mnist\"] {type:\"raw\"} \n",
        "batch_size=64 # @param [32, 64, 128, 256, 512] {type:\"raw\"} \n",
        "epochs=32 # @param [32, 64, 128, 256, 512] {type:\"raw\"}\n",
        "l2_decay = 0.000001 #@param {type:\"number\"}\n",
        "initial_learning_rate = 0.01 #@param {type:\"number\"}\n",
        "verbose=True #@param {type:\"boolean\"}\n",
        "bipolar_input=True #@param {type:\"boolean\"}\n",
        "\n",
        "if dataset is keras.datasets.cifar10 or dataset is keras.datasets.cifar100:\n",
        "  input_shape = (32, 32, 3)\n",
        "else:\n",
        "  input_shape = (28, 28, 1)\n"
      ],
      "execution_count": 0,
      "outputs": []
    },
    {
      "cell_type": "code",
      "metadata": {
        "id": "yxIOe64-Cf8i",
        "colab_type": "code",
        "colab": {}
      },
      "source": [
        "import os\n",
        "if not os.path.isdir('k'):\n",
        "  !git clone https://github.com/joaopauloschuler/k-neural-api.git k\n",
        "else:\n",
        "  !cd k && git pull\n",
        "!cd k && pip install ."
      ],
      "execution_count": 0,
      "outputs": []
    },
    {
      "cell_type": "code",
      "metadata": {
        "id": "fM06Ebn9qmvp",
        "colab_type": "code",
        "colab": {}
      },
      "source": [
        "import cai.densenet\n",
        "import cai.util\n",
        "\n",
        "save_dir = os.path.join(os.getcwd(), 'saved_models')\n",
        "cai.util.create_folder_if_required(save_dir)\n",
        "base_model_name = os.path.join(save_dir, 'simple_model_on_any_dataset')\n",
        "\n",
        "model = keras.models.Sequential()\n",
        "model.add(keras.layers.Conv2D(64, (5, 5), padding='valid',\n",
        "                 input_shape=input_shape, kernel_regularizer=regularizers.l2(l2_decay)) )\n",
        "model.add(keras.layers.Activation('relu'))\n",
        "model.add(keras.layers.MaxPooling2D(pool_size=(4, 4)))\n",
        "model.add(keras.layers.Conv2D(64, (3, 3), padding='same', kernel_regularizer=regularizers.l2(l2_decay)) )\n",
        "model.add(keras.layers.Activation('relu'))\n",
        "model.add(keras.layers.Conv2D(64, (3, 3), padding='same', kernel_regularizer=regularizers.l2(l2_decay)) )\n",
        "model.add(keras.layers.Activation('relu'))\n",
        "model.add(keras.layers.Flatten())\n",
        "model.add(keras.layers.Dense(32, kernel_regularizer=regularizers.l2(l2_decay)) )\n",
        "model.add(keras.layers.Activation('relu'))\n",
        "model.add(keras.layers.Dense(32, kernel_regularizer=regularizers.l2(l2_decay)) )\n",
        "model.add(keras.layers.Activation('relu'))\n",
        "if (dataset==keras.datasets.cifar100):\n",
        "  model.add(keras.layers.Dense(100))\n",
        "else:\n",
        "  model.add(keras.layers.Dense(10))\n",
        "model.add(keras.layers.Activation('softmax'))\n",
        "\n",
        "if (verbose):\n",
        "    model.summary()"
      ],
      "execution_count": 0,
      "outputs": []
    },
    {
      "cell_type": "code",
      "metadata": {
        "id": "lAVLC73e2KF9",
        "colab_type": "code",
        "colab": {}
      },
      "source": [
        "# Learning rate schedule.\n",
        "def lrscheduler(epoch):\n",
        "  return initial_learning_rate * (0.99**epoch)\n",
        "\n",
        "fit_result,  model_name,  csv_name = cai.datasets.train_model_on_dataset(model, dataset, base_model_name, \n",
        "  plrscheduler=lrscheduler, batch_size=batch_size, epochs=epochs, lab=False, verbose=verbose, bipolar=bipolar_input)"
      ],
      "execution_count": 0,
      "outputs": []
    },
    {
      "cell_type": "code",
      "metadata": {
        "id": "6DOhvTFCyZmM",
        "colab_type": "code",
        "colab": {}
      },
      "source": [
        "model.load_weights(model_name)"
      ],
      "execution_count": 0,
      "outputs": []
    },
    {
      "cell_type": "code",
      "metadata": {
        "id": "38-wYOFH0IeW",
        "colab_type": "code",
        "colab": {}
      },
      "source": [
        "from google.colab import files"
      ],
      "execution_count": 0,
      "outputs": []
    },
    {
      "cell_type": "code",
      "metadata": {
        "id": "QEZW_z8B7gsL",
        "colab_type": "code",
        "colab": {}
      },
      "source": [
        "files.download(csv_name)"
      ],
      "execution_count": 0,
      "outputs": []
    },
    {
      "cell_type": "code",
      "metadata": {
        "id": "lclbSixe8iiP",
        "colab_type": "code",
        "colab": {}
      },
      "source": [
        "files.download(model_name)"
      ],
      "execution_count": 0,
      "outputs": []
    }
  ]
}
