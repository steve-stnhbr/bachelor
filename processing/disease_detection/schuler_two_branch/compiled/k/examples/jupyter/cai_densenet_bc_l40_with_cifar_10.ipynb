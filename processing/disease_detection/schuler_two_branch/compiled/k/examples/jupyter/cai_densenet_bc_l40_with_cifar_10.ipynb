{
  "nbformat": 4,
  "nbformat_minor": 0,
  "metadata": {
    "colab": {
      "name": "cai_densenet_bc_l40_with_cifar_10.ipynb",
      "provenance": [],
      "collapsed_sections": []
    },
    "kernelspec": {
      "name": "python3",
      "display_name": "Python 3"
    }
  },
  "cells": [
    {
      "cell_type": "code",
      "metadata": {
        "id": "yxIOe64-Cf8i",
        "colab_type": "code",
        "colab": {}
      },
      "source": [
        "# DenseNet BC L40 implementation with CIFAR-10\n",
        "# You can learn more about CIFAR-10 at https://www.cs.toronto.edu/~kriz/cifar.html\n",
        "# You can learn more about DenseNets at https://arxiv.org/abs/1608.06993\n",
        "import os\n",
        "if not os.path.isdir('k'):\n",
        "  !git clone https://github.com/joaopauloschuler/k-neural-api.git k\n",
        "else:\n",
        "  !cd k && git pull\n",
        "!cd k && pip install ."
      ],
      "execution_count": 0,
      "outputs": []
    },
    {
      "cell_type": "code",
      "metadata": {
        "id": "AhqtsLr4ik-v",
        "colab_type": "code",
        "colab": {}
      },
      "source": [
        "import cai.densenet\n",
        "import cai.util\n",
        "from tensorflow.keras.models import Model"
      ],
      "execution_count": 0,
      "outputs": []
    },
    {
      "cell_type": "code",
      "metadata": {
        "id": "fM06Ebn9qmvp",
        "colab_type": "code",
        "colab": {}
      },
      "source": [
        "batch_size=64\n",
        "epochs=300\n",
        "lab=False\n",
        "verbose=True\n",
        "bipolar_input=True\n",
        "\n",
        "save_dir = os.path.join(os.getcwd(), 'saved_models')\n",
        "cai.util.create_folder_if_required(save_dir)\n",
        "base_model_name = os.path.join(save_dir, 'DenseNetBCL40NewAugmentation')\n",
        "\n",
        "batches_per_epoch = int(40000/batch_size)\n",
        "l2_decay = 0.0001 / batches_per_epoch\n",
        "\n",
        "if (lab):\n",
        "  base_model_name = base_model_name + 'lab'\n",
        "\n",
        "model = cai.densenet.simple_densenet([32, 32, 3], blocks=6, growth_rate=12, bottleneck=48, compression=0.5,  l2_decay=l2_decay)\n",
        "\n",
        "if (verbose):\n",
        "    model.summary()"
      ],
      "execution_count": 0,
      "outputs": []
    },
    {
      "cell_type": "code",
      "metadata": {
        "id": "lAVLC73e2KF9",
        "colab_type": "code",
        "colab": {}
      },
      "source": [
        "fit_result,  model_name,  csv_name = cai.datasets.train_model_on_cifar10(model,  base_model_name, plrscheduler=cai.densenet.lrscheduler,  batch_size=batch_size, epochs=epochs,  lab=lab,  verbose=verbose, bipolar=bipolar_input)"
      ],
      "execution_count": 0,
      "outputs": []
    },
    {
      "cell_type": "code",
      "metadata": {
        "id": "6DOhvTFCyZmM",
        "colab_type": "code",
        "colab": {}
      },
      "source": [
        "model.load_weights(model_name)"
      ],
      "execution_count": 0,
      "outputs": []
    },
    {
      "cell_type": "code",
      "metadata": {
        "id": "38-wYOFH0IeW",
        "colab_type": "code",
        "colab": {}
      },
      "source": [
        "from google.colab import files"
      ],
      "execution_count": 0,
      "outputs": []
    },
    {
      "cell_type": "code",
      "metadata": {
        "id": "QEZW_z8B7gsL",
        "colab_type": "code",
        "colab": {}
      },
      "source": [
        "files.download(csv_name)"
      ],
      "execution_count": 0,
      "outputs": []
    },
    {
      "cell_type": "code",
      "metadata": {
        "id": "lclbSixe8iiP",
        "colab_type": "code",
        "colab": {}
      },
      "source": [
        "files.download(model_name)"
      ],
      "execution_count": 0,
      "outputs": []
    }
  ]
}
