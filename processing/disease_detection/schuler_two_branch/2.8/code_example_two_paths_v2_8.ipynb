{
  "cells": [
    {
      "cell_type": "code",
      "execution_count": 1,
      "metadata": {
        "id": "6DH0gsiwyxgN"
      },
      "outputs": [],
      "source": [
        "monitor='val_accuracy'\n",
        "epochs=30\n",
        "batch_size=16\n",
        "input_shape=(128, 128, 3) # please resize it to (224,224,3) if you have enough RAM\n",
        "Verbose=True"
      ]
    },
    {
      "cell_type": "markdown",
      "metadata": {
        "id": "2JXWocLnz38N"
      },
      "source": [
        "This source code requires a **HIGH RAM** machine.\n",
        "\n",
        "You might need to install this on your system:\n",
        "\n",
        "apt-get install python3-opencv git"
      ]
    },
    {
      "cell_type": "code",
      "execution_count": 2,
      "metadata": {
        "id": "PQKpflNl7m63"
      },
      "outputs": [
        {
          "name": "stdout",
          "output_type": "stream",
          "text": [
            "^C\n"
          ]
        },
        {
          "name": "stderr",
          "output_type": "stream",
          "text": [
            "Cloning into 'k'...\n"
          ]
        },
        {
          "name": "stdout",
          "output_type": "stream",
          "text": [
            "Processing c:\\users\\stefan.desktop-b4lnkon\\documents\\uni\\bachelor\\repo\\processing\\disease_detection\\schuler_two_branch\\2.8\\k\n",
            "  Preparing metadata (setup.py): started\n",
            "  Preparing metadata (setup.py): finished with status 'done'\n",
            "Requirement already satisfied: pandas>=0.22.0 in c:\\users\\stefan.desktop-b4lnkon\\miniconda3\\envs\\keras\\lib\\site-packages (from cai==0.1.7) (2.2.1)\n",
            "Requirement already satisfied: scikit-image>=0.15.0 in c:\\users\\stefan.desktop-b4lnkon\\miniconda3\\envs\\keras\\lib\\site-packages (from cai==0.1.7) (0.22.0)\n",
            "Requirement already satisfied: opencv-python>=4.1.2.30 in c:\\users\\stefan.desktop-b4lnkon\\miniconda3\\envs\\keras\\lib\\site-packages (from cai==0.1.7) (4.9.0.80)\n",
            "Requirement already satisfied: scikit-learn>=0.21.0 in c:\\users\\stefan.desktop-b4lnkon\\miniconda3\\envs\\keras\\lib\\site-packages (from cai==0.1.7) (1.5.0)\n",
            "Requirement already satisfied: numpy in c:\\users\\stefan.desktop-b4lnkon\\miniconda3\\envs\\keras\\lib\\site-packages (from cai==0.1.7) (1.26.4)\n",
            "Requirement already satisfied: python-dateutil>=2.8.2 in c:\\users\\stefan.desktop-b4lnkon\\miniconda3\\envs\\keras\\lib\\site-packages (from pandas>=0.22.0->cai==0.1.7) (2.9.0.post0)\n",
            "Requirement already satisfied: pytz>=2020.1 in c:\\users\\stefan.desktop-b4lnkon\\miniconda3\\envs\\keras\\lib\\site-packages (from pandas>=0.22.0->cai==0.1.7) (2024.1)\n",
            "Requirement already satisfied: tzdata>=2022.7 in c:\\users\\stefan.desktop-b4lnkon\\miniconda3\\envs\\keras\\lib\\site-packages (from pandas>=0.22.0->cai==0.1.7) (2023.3)\n",
            "Requirement already satisfied: scipy>=1.8 in c:\\users\\stefan.desktop-b4lnkon\\miniconda3\\envs\\keras\\lib\\site-packages (from scikit-image>=0.15.0->cai==0.1.7) (1.13.0)\n",
            "Requirement already satisfied: networkx>=2.8 in c:\\users\\stefan.desktop-b4lnkon\\miniconda3\\envs\\keras\\lib\\site-packages (from scikit-image>=0.15.0->cai==0.1.7) (3.2.1)\n",
            "Requirement already satisfied: pillow>=9.0.1 in c:\\users\\stefan.desktop-b4lnkon\\miniconda3\\envs\\keras\\lib\\site-packages (from scikit-image>=0.15.0->cai==0.1.7) (10.3.0)\n",
            "Requirement already satisfied: imageio>=2.27 in c:\\users\\stefan.desktop-b4lnkon\\miniconda3\\envs\\keras\\lib\\site-packages (from scikit-image>=0.15.0->cai==0.1.7) (2.34.1)\n",
            "Requirement already satisfied: tifffile>=2022.8.12 in c:\\users\\stefan.desktop-b4lnkon\\miniconda3\\envs\\keras\\lib\\site-packages (from scikit-image>=0.15.0->cai==0.1.7) (2024.5.22)\n",
            "Requirement already satisfied: packaging>=21 in c:\\users\\stefan.desktop-b4lnkon\\miniconda3\\envs\\keras\\lib\\site-packages (from scikit-image>=0.15.0->cai==0.1.7) (23.2)\n",
            "Requirement already satisfied: lazy_loader>=0.3 in c:\\users\\stefan.desktop-b4lnkon\\miniconda3\\envs\\keras\\lib\\site-packages (from scikit-image>=0.15.0->cai==0.1.7) (0.4)\n",
            "Requirement already satisfied: joblib>=1.2.0 in c:\\users\\stefan.desktop-b4lnkon\\miniconda3\\envs\\keras\\lib\\site-packages (from scikit-learn>=0.21.0->cai==0.1.7) (1.4.2)\n",
            "Requirement already satisfied: threadpoolctl>=3.1.0 in c:\\users\\stefan.desktop-b4lnkon\\miniconda3\\envs\\keras\\lib\\site-packages (from scikit-learn>=0.21.0->cai==0.1.7) (3.5.0)\n",
            "Requirement already satisfied: six>=1.5 in c:\\users\\stefan.desktop-b4lnkon\\miniconda3\\envs\\keras\\lib\\site-packages (from python-dateutil>=2.8.2->pandas>=0.22.0->cai==0.1.7) (1.16.0)\n",
            "Building wheels for collected packages: cai\n",
            "  Building wheel for cai (setup.py): started\n",
            "  Building wheel for cai (setup.py): finished with status 'done'\n",
            "  Created wheel for cai: filename=cai-0.1.7-py3-none-any.whl size=61805 sha256=8ffcc09cd4c19db11a200377990778bc49e1f60488bc2afaf1b857c829a54420\n",
            "  Stored in directory: C:\\Users\\stefan.DESKTOP-B4LNKON\\AppData\\Local\\Temp\\pip-ephem-wheel-cache-fa2_p46k\\wheels\\55\\04\\38\\30d1ebc301815fb7cd2d727a95d2ba361efa9577b6824b4406\n",
            "Successfully built cai\n",
            "Installing collected packages: cai\n",
            "  Attempting uninstall: cai\n",
            "    Found existing installation: cai 0.1.7\n",
            "    Uninstalling cai-0.1.7:\n",
            "      Successfully uninstalled cai-0.1.7\n",
            "Successfully installed cai-0.1.7\n"
          ]
        }
      ],
      "source": [
        "import os\n",
        "\n",
        "if not os.path.isdir('k'):\n",
        "  !git clone https://github.com/joaopauloschuler/k-neural-api.git k\n",
        "else:\n",
        "  !cd k && git pull\n",
        "\n",
        "!cd k && pip install ."
      ]
    },
    {
      "cell_type": "code",
      "execution_count": 3,
      "metadata": {
        "colab": {
          "base_uri": "https://localhost:8080/"
        },
        "id": "2FWmCCX96ndE",
        "outputId": "1fe97b75-efb1-4d90-9412-e935e5c8d284"
      },
      "outputs": [
        {
          "name": "stdout",
          "output_type": "stream",
          "text": [
            "Python version\n",
            "3.9.19 (main, May  6 2024, 20:12:36) [MSC v.1916 64 bit (AMD64)]\n",
            "Version info.\n",
            "sys.version_info(major=3, minor=9, micro=19, releaselevel='final', serial=0)\n",
            "skimage version 0.22.0\n",
            "2.10.0\n"
          ]
        }
      ],
      "source": [
        "import sys\n",
        "print(\"Python version\")\n",
        "print (sys.version)\n",
        "print(\"Version info.\")\n",
        "print (sys.version_info)\n",
        "\n",
        "import skimage\n",
        "print('skimage version',  skimage.__version__)\n",
        "import tensorflow as tf\n",
        "print(tf.__version__)\n",
        "import sys\n",
        "import cai\n",
        "import cai.datasets\n",
        "import cai.models"
      ]
    },
    {
      "cell_type": "code",
      "execution_count": null,
      "metadata": {
        "id": "9WqdOtor61VZ"
      },
      "outputs": [],
      "source": [
        "url_zip_file=\"https://data.mendeley.com/public-files/datasets/tywbtsjrjv/files/d5652a28-c1d8-4b76-97f3-72fb80f94efc/file_downloaded\"\n",
        "local_zip_file=\"plant_leaf.zip\"\n",
        "expected_folder_name=\"plant_leaf\"\n",
        "cai.datasets.download_zip_and_extract(\n",
        "    url_zip_file=url_zip_file, local_zip_file=local_zip_file, \n",
        "    expected_folder_name=expected_folder_name, Verbose=Verbose)"
      ]
    },
    {
      "cell_type": "code",
      "execution_count": 4,
      "metadata": {
        "id": "-Yn9mmLAxvlK"
      },
      "outputs": [],
      "source": [
        "import tensorflow\n",
        "import multiprocessing"
      ]
    },
    {
      "cell_type": "code",
      "execution_count": 5,
      "metadata": {
        "id": "Z2LGtzGBx5IR"
      },
      "outputs": [
        {
          "name": "stdout",
          "output_type": "stream",
          "text": [
            "['Apple___Apple_scab', 'Apple___Black_rot', 'Apple___Cedar_apple_rust', 'Apple___healthy', 'Blueberry___healthy', 'Cherry___healthy', 'Cherry___Powdery_mildew', 'Corn___Cercospora_leaf_spot Gray_leaf_spot', 'Corn___Common_rust', 'Corn___healthy', 'Corn___Northern_Leaf_Blight', 'Grape___Black_rot', 'Grape___Esca_(Black_Measles)', 'Grape___healthy', 'Grape___Leaf_blight_(Isariopsis_Leaf_Spot)', 'Orange___Haunglongbing_(Citrus_greening)', 'Peach___Bacterial_spot', 'Peach___healthy', 'Pepper,_bell___Bacterial_spot', 'Pepper,_bell___healthy', 'Potato___Early_blight', 'Potato___healthy', 'Potato___Late_blight', 'Raspberry___healthy', 'Soybean___healthy', 'Squash___Powdery_mildew', 'Strawberry___healthy', 'Strawberry___Leaf_scorch', 'Tomato___Bacterial_spot', 'Tomato___Early_blight', 'Tomato___healthy', 'Tomato___Late_blight', 'Tomato___Leaf_Mold', 'Tomato___Septoria_leaf_spot', 'Tomato___Spider_mites Two-spotted_spider_mite', 'Tomato___Target_Spot', 'Tomato___Tomato_mosaic_virus', 'Tomato___Tomato_Yellow_Leaf_Curl_Virus']\n"
          ]
        },
        {
          "name": "stderr",
          "output_type": "stream",
          "text": [
            "Der Befehl \"rm\" ist entweder falsch geschrieben oder\n",
            "konnte nicht gefunden werden.\n"
          ]
        }
      ],
      "source": [
        "!rm -r plant_leaf/Plant_leave_diseases_dataset_without_augmentation/Background_without_leaves -R\n",
        "data_dir = \"plant_leaf/Plant_leave_diseases_dataset_without_augmentation/\"\n",
        "print(os.listdir(data_dir))"
      ]
    },
    {
      "cell_type": "code",
      "execution_count": 6,
      "metadata": {
        "colab": {
          "base_uri": "https://localhost:8080/"
        },
        "id": "T_1lHVDc082Z",
        "outputId": "6a1a24c7-5dee-4f9b-b5cc-53161cb10373"
      },
      "outputs": [
        {
          "name": "stdout",
          "output_type": "stream",
          "text": [
            "Loading  38  classes.\n",
            "smart resize is enabled.\n",
            "loading train images\n",
            "train shape is: (32571, 128, 128, 3)\n",
            "loading validation images\n",
            "validation shape is: (10858, 128, 128, 3)\n",
            "loading test images\n",
            "test shape is: (10876, 128, 128, 3)\n",
            "Channel  0  min: 0.0  max: 1.0\n",
            "Channel  1  min: 0.20547175  max: 0.89584607\n",
            "Channel  2  min: 0.26206374  max: 0.9435445\n",
            "Loaded.\n"
          ]
        }
      ],
      "source": [
        "train_x, val_x, test_x, train_y, val_y, test_y, classweight, classes = cai.datasets.load_images_from_folders(seed=7, root_dir=data_dir, lab=True, \n",
        "  verbose=Verbose, bipolar=False, base_model_name='plant_leaf',\n",
        "  training_size=0.6, validation_size=0.2, test_size=0.2,\n",
        "  target_size=(input_shape[0],input_shape[1]), \n",
        "  has_training=True, has_validation=True, has_testing=True, \n",
        "  smart_resize=True)"
      ]
    },
    {
      "cell_type": "code",
      "execution_count": 7,
      "metadata": {
        "colab": {
          "base_uri": "https://localhost:8080/"
        },
        "id": "UosoQy_c1_4M",
        "outputId": "63b09471-a74d-437e-bded-6275dd98610e"
      },
      "outputs": [
        {
          "name": "stdout",
          "output_type": "stream",
          "text": [
            "(32571, 128, 128, 3) (10858, 128, 128, 3) (10876, 128, 128, 3)\n",
            "(32571, 38) (10858, 38) (10876, 38)\n"
          ]
        }
      ],
      "source": [
        "print(train_x.shape,val_x.shape,test_x.shape)\n",
        "print(train_y.shape,val_y.shape,test_y.shape)"
      ]
    },
    {
      "cell_type": "code",
      "execution_count": 8,
      "metadata": {
        "id": "d-q_V3dJ3BhT"
      },
      "outputs": [
        {
          "name": "stdout",
          "output_type": "stream",
          "text": [
            "Running: two-path-inception-v2.8-False-0.2\n",
            "WARNING:tensorflow:`period` argument is deprecated. Please use `save_freq` to specify the frequency in number of batches seen.\n"
          ]
        },
        {
          "ename": "InternalError",
          "evalue": "Failed copying input tensor from /job:localhost/replica:0/task:0/device:CPU:0 to /job:localhost/replica:0/task:0/device:GPU:0 in order to run _EagerConst: Dst tensor is not initialized.",
          "output_type": "error",
          "traceback": [
            "\u001b[1;31m---------------------------------------------------------------------------\u001b[0m",
            "\u001b[1;31mInternalError\u001b[0m                             Traceback (most recent call last)",
            "Cell \u001b[1;32mIn[8], line 25\u001b[0m\n\u001b[0;32m     16\u001b[0m best_result_file_name \u001b[38;5;241m=\u001b[39m basefilename\u001b[38;5;241m+\u001b[39m\u001b[38;5;124m'\u001b[39m\u001b[38;5;124m-best_result.hdf5\u001b[39m\u001b[38;5;124m'\u001b[39m\n\u001b[0;32m     17\u001b[0m save_best \u001b[38;5;241m=\u001b[39m tensorflow\u001b[38;5;241m.\u001b[39mkeras\u001b[38;5;241m.\u001b[39mcallbacks\u001b[38;5;241m.\u001b[39mModelCheckpoint(\n\u001b[0;32m     18\u001b[0m   filepath\u001b[38;5;241m=\u001b[39mbest_result_file_name, \n\u001b[0;32m     19\u001b[0m   monitor\u001b[38;5;241m=\u001b[39mmonitor, \n\u001b[1;32m   (...)\u001b[0m\n\u001b[0;32m     23\u001b[0m   mode\u001b[38;5;241m=\u001b[39m\u001b[38;5;124m'\u001b[39m\u001b[38;5;124mmax\u001b[39m\u001b[38;5;124m'\u001b[39m, \n\u001b[0;32m     24\u001b[0m   period\u001b[38;5;241m=\u001b[39m\u001b[38;5;241m1\u001b[39m)\n\u001b[1;32m---> 25\u001b[0m history \u001b[38;5;241m=\u001b[39m \u001b[43mmodel\u001b[49m\u001b[38;5;241;43m.\u001b[39;49m\u001b[43mfit\u001b[49m\u001b[43m(\u001b[49m\u001b[43mtrain_x\u001b[49m\u001b[43m,\u001b[49m\u001b[43m \u001b[49m\u001b[43mtrain_y\u001b[49m\u001b[43m,\u001b[49m\u001b[43m \u001b[49m\u001b[43mepochs\u001b[49m\u001b[38;5;241;43m=\u001b[39;49m\u001b[43mepochs\u001b[49m\u001b[43m,\u001b[49m\u001b[43m \u001b[49m\u001b[43mbatch_size\u001b[49m\u001b[38;5;241;43m=\u001b[39;49m\u001b[43mbatch_size\u001b[49m\u001b[43m,\u001b[49m\n\u001b[0;32m     26\u001b[0m \u001b[43m  \u001b[49m\u001b[43mvalidation_data\u001b[49m\u001b[38;5;241;43m=\u001b[39;49m\u001b[43m(\u001b[49m\u001b[43mval_x\u001b[49m\u001b[43m,\u001b[49m\u001b[43mval_y\u001b[49m\u001b[43m)\u001b[49m\u001b[43m,\u001b[49m\n\u001b[0;32m     27\u001b[0m \u001b[43m  \u001b[49m\u001b[43mcallbacks\u001b[49m\u001b[38;5;241;43m=\u001b[39;49m\u001b[43m[\u001b[49m\u001b[43msave_best\u001b[49m\u001b[43m]\u001b[49m\u001b[43m,\u001b[49m\u001b[43mclass_weight\u001b[49m\u001b[38;5;241;43m=\u001b[39;49m\u001b[43mclassweight\u001b[49m\u001b[43m,\u001b[49m\n\u001b[0;32m     28\u001b[0m \u001b[43m  \u001b[49m\u001b[43mworkers\u001b[49m\u001b[38;5;241;43m=\u001b[39;49m\u001b[43mmultiprocessing\u001b[49m\u001b[38;5;241;43m.\u001b[39;49m\u001b[43mcpu_count\u001b[49m\u001b[43m(\u001b[49m\u001b[43m)\u001b[49m\u001b[43m)\u001b[49m\n\u001b[0;32m     29\u001b[0m \u001b[38;5;28mprint\u001b[39m(\u001b[38;5;124m'\u001b[39m\u001b[38;5;124mTesting Last Model: \u001b[39m\u001b[38;5;124m'\u001b[39m\u001b[38;5;241m+\u001b[39mbasefilename)\n\u001b[0;32m     30\u001b[0m evaluated \u001b[38;5;241m=\u001b[39m model\u001b[38;5;241m.\u001b[39mevaluate(test_x,test_y)\n",
            "File \u001b[1;32mc:\\Users\\stefan.DESKTOP-B4LNKON\\miniconda3\\envs\\keras\\lib\\site-packages\\keras\\utils\\traceback_utils.py:70\u001b[0m, in \u001b[0;36mfilter_traceback.<locals>.error_handler\u001b[1;34m(*args, **kwargs)\u001b[0m\n\u001b[0;32m     67\u001b[0m     filtered_tb \u001b[38;5;241m=\u001b[39m _process_traceback_frames(e\u001b[38;5;241m.\u001b[39m__traceback__)\n\u001b[0;32m     68\u001b[0m     \u001b[38;5;66;03m# To get the full stack trace, call:\u001b[39;00m\n\u001b[0;32m     69\u001b[0m     \u001b[38;5;66;03m# `tf.debugging.disable_traceback_filtering()`\u001b[39;00m\n\u001b[1;32m---> 70\u001b[0m     \u001b[38;5;28;01mraise\u001b[39;00m e\u001b[38;5;241m.\u001b[39mwith_traceback(filtered_tb) \u001b[38;5;28;01mfrom\u001b[39;00m \u001b[38;5;28;01mNone\u001b[39;00m\n\u001b[0;32m     71\u001b[0m \u001b[38;5;28;01mfinally\u001b[39;00m:\n\u001b[0;32m     72\u001b[0m     \u001b[38;5;28;01mdel\u001b[39;00m filtered_tb\n",
            "File \u001b[1;32mc:\\Users\\stefan.DESKTOP-B4LNKON\\miniconda3\\envs\\keras\\lib\\site-packages\\tensorflow\\python\\framework\\constant_op.py:102\u001b[0m, in \u001b[0;36mconvert_to_eager_tensor\u001b[1;34m(value, ctx, dtype)\u001b[0m\n\u001b[0;32m    100\u001b[0m     dtype \u001b[38;5;241m=\u001b[39m dtypes\u001b[38;5;241m.\u001b[39mas_dtype(dtype)\u001b[38;5;241m.\u001b[39mas_datatype_enum\n\u001b[0;32m    101\u001b[0m ctx\u001b[38;5;241m.\u001b[39mensure_initialized()\n\u001b[1;32m--> 102\u001b[0m \u001b[38;5;28;01mreturn\u001b[39;00m \u001b[43mops\u001b[49m\u001b[38;5;241;43m.\u001b[39;49m\u001b[43mEagerTensor\u001b[49m\u001b[43m(\u001b[49m\u001b[43mvalue\u001b[49m\u001b[43m,\u001b[49m\u001b[43m \u001b[49m\u001b[43mctx\u001b[49m\u001b[38;5;241;43m.\u001b[39;49m\u001b[43mdevice_name\u001b[49m\u001b[43m,\u001b[49m\u001b[43m \u001b[49m\u001b[43mdtype\u001b[49m\u001b[43m)\u001b[49m\n",
            "\u001b[1;31mInternalError\u001b[0m: Failed copying input tensor from /job:localhost/replica:0/task:0/device:CPU:0 to /job:localhost/replica:0/task:0/device:GPU:0 in order to run _EagerConst: Dst tensor is not initialized."
          ]
        }
      ],
      "source": [
        "for two_paths_second_block in [False]:\n",
        "  for l_ratio in [0.2]:\n",
        "    basefilename = 'two-path-inception-v2.8-'+str(two_paths_second_block)+'-'+str(l_ratio)\n",
        "    print('Running: '+basefilename)\n",
        "    model = cai.models.compiled_two_path_inception_v3(\n",
        "      input_shape=input_shape,\n",
        "      classes=38, \n",
        "      two_paths_first_block=True,\n",
        "      two_paths_second_block=two_paths_second_block,\n",
        "      l_ratio=l_ratio,\n",
        "      ab_ratio=(1-l_ratio),\n",
        "      max_mix_idx=5, \n",
        "      model_name='two_path_inception_v3'\n",
        "      )    \n",
        "    monitor='val_accuracy'\n",
        "    best_result_file_name = basefilename+'-best_result.hdf5'\n",
        "    save_best = tensorflow.keras.callbacks.ModelCheckpoint(\n",
        "      filepath=best_result_file_name, \n",
        "      monitor=monitor, \n",
        "      verbose=1, \n",
        "      save_best_only=True, \n",
        "      save_weights_only=False, \n",
        "      mode='max', \n",
        "      period=1)\n",
        "    history = model.fit(train_x, train_y, epochs=epochs, batch_size=batch_size,\n",
        "      validation_data=(val_x,val_y),\n",
        "      callbacks=[save_best],class_weight=classweight,\n",
        "      workers=multiprocessing.cpu_count())\n",
        "    print('Testing Last Model: '+basefilename)\n",
        "    evaluated = model.evaluate(test_x,test_y)\n",
        "    for metric, name in zip(evaluated,[\"loss\",\"acc\",\"top 5 acc\"]):\n",
        "      print(name,metric)\n",
        "    print('Best Model Results: '+basefilename)\n",
        "    model = tensorflow.keras.models.load_model(best_result_file_name, custom_objects={'CopyChannels': cai.layers.CopyChannels})\n",
        "    evaluated = model.evaluate(test_x,test_y)\n",
        "    cai.models.save_model(model, basefilename)\n",
        "    for metric, name in zip(evaluated,[\"loss\",\"acc\",\"top 5 acc\"]):\n",
        "      print(name,metric)\n",
        "    print('Finished: '+basefilename)"
      ]
    }
  ],
  "metadata": {
    "accelerator": "GPU",
    "colab": {
      "collapsed_sections": [],
      "machine_shape": "hm",
      "name": "code_example_two_paths_v2.8.ipynb",
      "provenance": []
    },
    "kernelspec": {
      "display_name": "Python 3",
      "language": "python",
      "name": "python3"
    },
    "language_info": {
      "codemirror_mode": {
        "name": "ipython",
        "version": 3
      },
      "file_extension": ".py",
      "mimetype": "text/x-python",
      "name": "python",
      "nbconvert_exporter": "python",
      "pygments_lexer": "ipython3",
      "version": "3.9.19"
    }
  },
  "nbformat": 4,
  "nbformat_minor": 0
}
