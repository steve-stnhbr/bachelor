{
  "nbformat": 4,
  "nbformat_minor": 0,
  "metadata": {
    "colab": {
      "name": "DenseNet_with_CIFAR.ipynb",
      "provenance": [],
      "collapsed_sections": []
    },
    "kernelspec": {
      "name": "python3",
      "display_name": "Python 3"
    },
    "accelerator": "GPU"
  },
  "cells": [
    {
      "cell_type": "code",
      "metadata": {
        "id": "yxIOe64-Cf8i",
        "colab_type": "code",
        "colab": {}
      },
      "source": [
        "#@title DenseNet Implementation with CIFAR-10 and CIFAR-100\n",
        "import tensorflow.keras.datasets\n",
        "dataset=tensorflow.keras.datasets.cifar10 #@param [\"tensorflow.keras.datasets.cifar10\", \"tensorflow.keras.datasets.cifar100\"] {type:\"raw\"}\n",
        "HasCompression=True #@param {type:\"boolean\"}\n",
        "HasBottleneck=True #@param {type:\"boolean\"}\n",
        "growth_rate=12 #@param [12, 36, 48] {type:\"raw\"}\n",
        "batch_size=32 #@param [16, 32, 64] {type:\"raw\"}\n",
        "bipolar_input=True #@param {type:\"boolean\"}\n",
        "lab=False #@param {type:\"boolean\"}\n",
        "verbose=True #@param {type:\"boolean\"}\n",
        "\n",
        "# You can learn more about CIFAR-10 at https://www.cs.toronto.edu/~kriz/cifar.html\n",
        "# You can learn more about DenseNets at https://arxiv.org/abs/1608.06993\n",
        "import os\n",
        "if not os.path.isdir('k'):\n",
        "  !git clone https://github.com/joaopauloschuler/k-neural-api.git k\n",
        "else:\n",
        "  !cd k && git pull\n",
        "!cd k && pip install ."
      ],
      "execution_count": 0,
      "outputs": []
    },
    {
      "cell_type": "code",
      "metadata": {
        "id": "AhqtsLr4ik-v",
        "colab_type": "code",
        "colab": {}
      },
      "source": [
        "import cai.densenet\n",
        "import cai.util\n",
        "from keras.models import Model"
      ],
      "execution_count": 0,
      "outputs": []
    },
    {
      "cell_type": "code",
      "metadata": {
        "id": "fM06Ebn9qmvp",
        "colab_type": "code",
        "colab": {}
      },
      "source": [
        "epochs=300\n",
        "blocks=12\n",
        "bottleneck=0 \n",
        "compression=1\n",
        "num_classes=10\n",
        "\n",
        "save_dir = os.path.join(os.getcwd(), 'saved_models')\n",
        "cai.util.create_folder_if_required(save_dir)\n",
        "base_model_name = os.path.join(save_dir, 'DenseNet')\n",
        "\n",
        "if (HasBottleneck):\n",
        "  bottleneck=48\n",
        "  blocks=int(blocks / 2)\n",
        "  base_model_name = base_model_name + 'B'\n",
        "\n",
        "if (HasCompression):\n",
        "  compression=0.5\n",
        "  base_model_name = base_model_name + 'C'\n",
        "\n",
        "batches_per_epoch = int(40000/batch_size)\n",
        "l2_decay = 0.0001 / batches_per_epoch\n",
        "\n",
        "if (lab):\n",
        "  base_model_name = base_model_name + '-lab'\n",
        "\n",
        "if dataset is tensorflow.keras.datasets.cifar10:\n",
        "  base_model_name = base_model_name + '-CIFAR10'\n",
        "else:\n",
        "  num_classes = 100\n",
        "  base_model_name = base_model_name + '-CIFAR100'\n",
        "\n",
        "model = cai.densenet.simple_densenet([32, 32, 3], blocks=blocks, growth_rate=growth_rate, bottleneck=bottleneck, compression=compression, l2_decay=l2_decay, num_classes=num_classes)\n",
        "\n",
        "if (verbose):\n",
        "  print('base model file name: ', base_model_name)\n",
        "  model.summary()"
      ],
      "execution_count": 0,
      "outputs": []
    },
    {
      "cell_type": "code",
      "metadata": {
        "id": "lAVLC73e2KF9",
        "colab_type": "code",
        "colab": {}
      },
      "source": [
        "fit_result,  model_name,  csv_name = cai.datasets.train_model_on_dataset(model, dataset=dataset, base_model_name=base_model_name, plrscheduler=cai.densenet.lrscheduler, batch_size=batch_size, epochs=epochs, lab=lab, verbose=verbose, bipolar=bipolar_input)"
      ],
      "execution_count": 0,
      "outputs": []
    },
    {
      "cell_type": "code",
      "metadata": {
        "id": "38-wYOFH0IeW",
        "colab_type": "code",
        "colab": {}
      },
      "source": [
        "from google.colab import files"
      ],
      "execution_count": 0,
      "outputs": []
    },
    {
      "cell_type": "code",
      "metadata": {
        "id": "QEZW_z8B7gsL",
        "colab_type": "code",
        "colab": {}
      },
      "source": [
        "files.download(csv_name)"
      ],
      "execution_count": 0,
      "outputs": []
    },
    {
      "cell_type": "code",
      "metadata": {
        "id": "lclbSixe8iiP",
        "colab_type": "code",
        "colab": {}
      },
      "source": [
        "files.download(model_name)"
      ],
      "execution_count": 0,
      "outputs": []
    }
  ]
}
