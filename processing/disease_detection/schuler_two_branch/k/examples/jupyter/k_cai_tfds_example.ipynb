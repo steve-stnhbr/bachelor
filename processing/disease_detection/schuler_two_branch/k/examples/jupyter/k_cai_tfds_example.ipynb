{
  "nbformat": 4,
  "nbformat_minor": 0,
  "metadata": {
    "colab": {
      "name": "k-cai_tfds_example.ipynb",
      "provenance": [],
      "collapsed_sections": []
    },
    "kernelspec": {
      "name": "python3",
      "display_name": "Python 3"
    },
    "language_info": {
      "name": "python"
    }
  },
  "cells": [
    {
      "cell_type": "markdown",
      "source": [
        "# This example loads a Tensorflow dataset and saves it into png image files."
      ],
      "metadata": {
        "id": "aYqkN6kuepew"
      }
    },
    {
      "cell_type": "code",
      "source": [
        "import os\n",
        "if not os.path.isdir('k'):\n",
        " !git clone -b development15 https://github.com/joaopauloschuler/k-neural-api.git k\n",
        "else:\n",
        " !cd k && git pull\n",
        "!cd k && pip install ."
      ],
      "metadata": {
        "colab": {
          "base_uri": "https://localhost:8080/"
        },
        "id": "qhZTbZOn3rF9",
        "outputId": "c51bfbaf-8a07-47d2-ecde-3c9d640a1579"
      },
      "execution_count": null,
      "outputs": [
        {
          "output_type": "stream",
          "name": "stdout",
          "text": [
            "Already up to date.\n",
            "Processing /content/k\n",
            "\u001b[33m  DEPRECATION: A future pip version will change local packages to be built in-place without first copying to a temporary directory. We recommend you use --use-feature=in-tree-build to test your packages with this new behavior before it becomes the default.\n",
            "   pip 21.3 will remove support for this functionality. You can find discussion regarding this at https://github.com/pypa/pip/issues/7555.\u001b[0m\n",
            "Requirement already satisfied: pandas>=0.22.0 in /usr/local/lib/python3.7/dist-packages (from cai==0.1.5) (1.1.5)\n",
            "Requirement already satisfied: scikit-image>=0.15.0 in /usr/local/lib/python3.7/dist-packages (from cai==0.1.5) (0.18.3)\n",
            "Requirement already satisfied: opencv-python>=4.1.2.30 in /usr/local/lib/python3.7/dist-packages (from cai==0.1.5) (4.1.2.30)\n",
            "Requirement already satisfied: scikit-learn>=0.21.0numpy in /usr/local/lib/python3.7/dist-packages (from cai==0.1.5) (1.0.1)\n",
            "Requirement already satisfied: numpy>=1.14.5 in /usr/local/lib/python3.7/dist-packages (from opencv-python>=4.1.2.30->cai==0.1.5) (1.19.5)\n",
            "Requirement already satisfied: pytz>=2017.2 in /usr/local/lib/python3.7/dist-packages (from pandas>=0.22.0->cai==0.1.5) (2018.9)\n",
            "Requirement already satisfied: python-dateutil>=2.7.3 in /usr/local/lib/python3.7/dist-packages (from pandas>=0.22.0->cai==0.1.5) (2.8.2)\n",
            "Requirement already satisfied: six>=1.5 in /usr/local/lib/python3.7/dist-packages (from python-dateutil>=2.7.3->pandas>=0.22.0->cai==0.1.5) (1.15.0)\n",
            "Requirement already satisfied: imageio>=2.3.0 in /usr/local/lib/python3.7/dist-packages (from scikit-image>=0.15.0->cai==0.1.5) (2.4.1)\n",
            "Requirement already satisfied: PyWavelets>=1.1.1 in /usr/local/lib/python3.7/dist-packages (from scikit-image>=0.15.0->cai==0.1.5) (1.2.0)\n",
            "Requirement already satisfied: matplotlib!=3.0.0,>=2.0.0 in /usr/local/lib/python3.7/dist-packages (from scikit-image>=0.15.0->cai==0.1.5) (3.2.2)\n",
            "Requirement already satisfied: scipy>=1.0.1 in /usr/local/lib/python3.7/dist-packages (from scikit-image>=0.15.0->cai==0.1.5) (1.4.1)\n",
            "Requirement already satisfied: networkx>=2.0 in /usr/local/lib/python3.7/dist-packages (from scikit-image>=0.15.0->cai==0.1.5) (2.6.3)\n",
            "Requirement already satisfied: pillow!=7.1.0,!=7.1.1,>=4.3.0 in /usr/local/lib/python3.7/dist-packages (from scikit-image>=0.15.0->cai==0.1.5) (7.1.2)\n",
            "Requirement already satisfied: tifffile>=2019.7.26 in /usr/local/lib/python3.7/dist-packages (from scikit-image>=0.15.0->cai==0.1.5) (2021.11.2)\n",
            "Requirement already satisfied: cycler>=0.10 in /usr/local/lib/python3.7/dist-packages (from matplotlib!=3.0.0,>=2.0.0->scikit-image>=0.15.0->cai==0.1.5) (0.11.0)\n",
            "Requirement already satisfied: kiwisolver>=1.0.1 in /usr/local/lib/python3.7/dist-packages (from matplotlib!=3.0.0,>=2.0.0->scikit-image>=0.15.0->cai==0.1.5) (1.3.2)\n",
            "Requirement already satisfied: pyparsing!=2.0.4,!=2.1.2,!=2.1.6,>=2.0.1 in /usr/local/lib/python3.7/dist-packages (from matplotlib!=3.0.0,>=2.0.0->scikit-image>=0.15.0->cai==0.1.5) (3.0.6)\n",
            "Requirement already satisfied: joblib>=0.11 in /usr/local/lib/python3.7/dist-packages (from scikit-learn>=0.21.0numpy->cai==0.1.5) (1.1.0)\n",
            "Requirement already satisfied: threadpoolctl>=2.0.0 in /usr/local/lib/python3.7/dist-packages (from scikit-learn>=0.21.0numpy->cai==0.1.5) (3.0.0)\n",
            "Building wheels for collected packages: cai\n",
            "  Building wheel for cai (setup.py) ... \u001b[?25l\u001b[?25hdone\n",
            "  Created wheel for cai: filename=cai-0.1.5-py3-none-any.whl size=57653 sha256=0b6b3400434bb017d8bbc05ee0efdbb94f5fc06eb22490e46bfddd474af41d95\n",
            "  Stored in directory: /tmp/pip-ephem-wheel-cache-zss_d7c3/wheels/c1/8a/57/56dbba25eff58e52e5365435c4fa102ad8d6f9787d3b4db13a\n",
            "Successfully built cai\n",
            "Installing collected packages: cai\n",
            "  Attempting uninstall: cai\n",
            "    Found existing installation: cai 0.1.5\n",
            "    Uninstalling cai-0.1.5:\n",
            "      Successfully uninstalled cai-0.1.5\n",
            "Successfully installed cai-0.1.5\n"
          ]
        }
      ]
    },
    {
      "cell_type": "code",
      "source": [
        "import cai.datasets\n",
        "import tensorflow_datasets as tfds"
      ],
      "metadata": {
        "id": "yZiD48Sc3smP"
      },
      "execution_count": null,
      "outputs": []
    },
    {
      "cell_type": "markdown",
      "source": [
        "# Load Tensorflow CIFAR-10 Dataset"
      ],
      "metadata": {
        "id": "enFnfxV4d4Ns"
      }
    },
    {
      "cell_type": "code",
      "execution_count": null,
      "metadata": {
        "id": "3k_-CMiPsSEj"
      },
      "outputs": [],
      "source": [
        "(ds_train, ds_test), ds_info = tfds.load(name='cifar10',\n",
        "          split=['train', 'test'], \n",
        "          shuffle_files=True, \n",
        "          #data_dir=data_dir, \n",
        "          with_info=True, \n",
        "          download=True)"
      ]
    },
    {
      "cell_type": "markdown",
      "source": [
        "# Save Dataset into Folders "
      ],
      "metadata": {
        "id": "OEALgEqLdw_q"
      }
    },
    {
      "cell_type": "code",
      "source": [
        "cai.datasets.save_tfds_in_format(ds_train, dest_folder_name='cifar10_train', format='.png')"
      ],
      "metadata": {
        "id": "cC4F0XDedQTr"
      },
      "execution_count": null,
      "outputs": []
    },
    {
      "cell_type": "code",
      "source": [
        "cai.datasets.save_tfds_in_format(ds_test, dest_folder_name='cifar10_test', format='.png')"
      ],
      "metadata": {
        "id": "ya292CuMda7S"
      },
      "execution_count": null,
      "outputs": []
    },
    {
      "cell_type": "code",
      "source": [
        "!ls -l cifar10_train"
      ],
      "metadata": {
        "colab": {
          "base_uri": "https://localhost:8080/"
        },
        "id": "wKhELQ2Bwp8z",
        "outputId": "40c67f40-a906-45b9-e757-b4ec01e96261"
      },
      "execution_count": null,
      "outputs": [
        {
          "output_type": "stream",
          "name": "stdout",
          "text": [
            "total 1604\n",
            "drwxr-xr-x 2 root root 159744 Dec 28 09:54 class_0\n",
            "drwxr-xr-x 2 root root 163840 Dec 28 09:54 class_1\n",
            "drwxr-xr-x 2 root root 163840 Dec 28 09:54 class_2\n",
            "drwxr-xr-x 2 root root 167936 Dec 28 09:54 class_3\n",
            "drwxr-xr-x 2 root root 143360 Dec 28 09:54 class_4\n",
            "drwxr-xr-x 2 root root 159744 Dec 28 09:54 class_5\n",
            "drwxr-xr-x 2 root root 163840 Dec 28 09:54 class_6\n",
            "drwxr-xr-x 2 root root 159744 Dec 28 09:54 class_7\n",
            "drwxr-xr-x 2 root root 172032 Dec 28 09:54 class_8\n",
            "drwxr-xr-x 2 root root 147456 Dec 28 09:54 class_9\n"
          ]
        }
      ]
    },
    {
      "cell_type": "code",
      "source": [
        "!ls -l cifar10_test"
      ],
      "metadata": {
        "colab": {
          "base_uri": "https://localhost:8080/"
        },
        "id": "gLklvq66ebOP",
        "outputId": "61e5eff5-6dab-40d7-b84c-4ea796609656"
      },
      "execution_count": null,
      "outputs": [
        {
          "output_type": "stream",
          "name": "stdout",
          "text": [
            "total 400\n",
            "drwxr-xr-x 2 root root 36864 Dec 28 09:54 class_0\n",
            "drwxr-xr-x 2 root root 36864 Dec 28 09:54 class_1\n",
            "drwxr-xr-x 2 root root 36864 Dec 28 09:54 class_2\n",
            "drwxr-xr-x 2 root root 36864 Dec 28 09:54 class_3\n",
            "drwxr-xr-x 2 root root 36864 Dec 28 09:54 class_4\n",
            "drwxr-xr-x 2 root root 36864 Dec 28 09:54 class_5\n",
            "drwxr-xr-x 2 root root 36864 Dec 28 09:54 class_6\n",
            "drwxr-xr-x 2 root root 36864 Dec 28 09:54 class_7\n",
            "drwxr-xr-x 2 root root 36864 Dec 28 09:54 class_8\n",
            "drwxr-xr-x 2 root root 36864 Dec 28 09:54 class_9\n"
          ]
        }
      ]
    }
  ]
}