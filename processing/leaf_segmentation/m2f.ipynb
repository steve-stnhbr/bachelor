{
 "cells": [
  {
   "cell_type": "code",
   "execution_count": null,
   "metadata": {},
   "outputs": [],
   "source": [
    "import lib.Mask2Former as m2f\n",
    "import os"
   ]
  },
  {
   "cell_type": "code",
   "execution_count": null,
   "metadata": {},
   "outputs": [],
   "source": [
    "os.environ[\"DETECTRON2_DATASETS\"] = \"_data/coco\""
   ]
  },
  {
   "cell_type": "markdown",
   "metadata": {},
   "source": [
    "# Convert the dataset to COCO format\n",
    "The following commands convert the existing PNG mask-based dataset to the coco annotations required for training Mask2Former"
   ]
  },
  {
   "cell_type": "code",
   "execution_count": null,
   "metadata": {},
   "outputs": [],
   "source": [
    "!cd _data \n",
    "!python mask_to_coco.py --images combined/val/images/ --masks combined/val/leaf_instances/ --output coco/instances_val2017.json\n",
    "!python mask_to_coco.py --images combined/train/images/ --masks combined/train/leaf_instances/ --output coco/instances_train2017.json\n",
    "!mkdir coco/train2017\n",
    "!cp combined/train/images/* coco/train2017\n",
    "!mkdir coco/val2017\n",
    "!cp combined/val/images/* coco/val2017\n"
   ]
  }
 ],
 "metadata": {
  "language_info": {
   "name": "python"
  }
 },
 "nbformat": 4,
 "nbformat_minor": 2
}
