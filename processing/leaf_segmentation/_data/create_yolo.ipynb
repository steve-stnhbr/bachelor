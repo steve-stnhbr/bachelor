{
 "cells": [
  {
   "cell_type": "code",
   "execution_count": null,
   "metadata": {},
   "outputs": [],
   "source": [
    "import os\n",
    "import cv2\n",
    "import random\n",
    "import supervision\n",
    "import numpy as np"
   ]
  },
  {
   "cell_type": "code",
   "execution_count": null,
   "metadata": {},
   "outputs": [],
   "source": [
    "LEAF_IMAGES_DIR = \"\"\n",
    "LEAF_MASKS_DIR = \"\"\n",
    "BACKGROUND_IMAGES_DIR = \"\"\n",
    "DATASET_DIR = \"\"\n",
    "DATA_SUBDIR = \"synthetic_leaf_instances\"\n",
    "TRAIN_IMAGES_DIR = \"train/images\"\n",
    "TRAIN_IMAGES_SUBDIR = os.path.join(DATA_SUBDIR, TRAIN_IMAGES_DIR)\n",
    "TRAIN_LABELS_DIR = \"train/labels\"\n",
    "TRAIN_LABELS_SUBDIR = os.path.join(DATA_SUBDIR, TRAIN_LABELS_DIR)\n",
    "VAL_IMAGES_DIR = \"val/images\"\n",
    "VAL_IMAGES_SUBDIR = os.path.join(DATA_SUBDIR, VAL_IMAGES_DIR)\n",
    "VAL_LABELS_DIR = \"val/labels\"\n",
    "VAL_LABELS_SUBDIR = os.path.join(DATA_SUBDIR, VAL_LABELS_DIR)\n",
    "DATASET_SPLIT = 0.8"
   ]
  },
  {
   "cell_type": "code",
   "execution_count": null,
   "metadata": {},
   "outputs": [],
   "source": [
    "dataset = {\n",
    "    \"names\": {\n",
    "        0: \"leaf\"\n",
    "    },\n",
    "    \"path\": DATA_SUBDIR,\n",
    "    \"train\": TRAIN_IMAGES_DIR,\n",
    "    \"val\": VAL_IMAGES_DIR\n",
    "}"
   ]
  },
  {
   "cell_type": "code",
   "execution_count": null,
   "metadata": {},
   "outputs": [],
   "source": [
    "import yaml\n",
    "\n",
    "# Define the output file path\n",
    "output_file_path = os.path.join(DATASET_DIR, \"dataset.yaml\")\n",
    "\n",
    "# Create the necessary directories if they don't exist\n",
    "os.makedirs(os.path.dirname(output_file_path), exist_ok=True)\n",
    "\n",
    "# Dump the dataset dictionary to a YAML file\n",
    "with open(output_file_path, 'w') as file:\n",
    "    yaml.dump(dataset, file, default_flow_style=False)\n",
    "\n",
    "print(f\"Dataset configuration saved to {output_file_path}\")"
   ]
  },
  {
   "cell_type": "code",
   "execution_count": null,
   "metadata": {},
   "outputs": [],
   "source": [
    "def transform_image(image, angle, scale, tx, ty):\n",
    "    height, width = image.shape[:2]\n",
    "    center = (width // 2, height // 2)\n",
    "\n",
    "    # Rotation matrix\n",
    "    rotation_matrix = cv2.getRotationMatrix2D(center, angle, scale)\n",
    "    # Translation matrix\n",
    "    rotation_matrix[0, 2] += tx\n",
    "    rotation_matrix[1, 2] += ty\n",
    "\n",
    "    # Apply the transformation\n",
    "    transformed_image = cv2.warpAffine(image, rotation_matrix, (width, height))\n",
    "    return transformed_image"
   ]
  },
  {
   "cell_type": "code",
   "execution_count": null,
   "metadata": {},
   "outputs": [],
   "source": [
    "def apply_mask(image, mask):\n",
    "    return cv2.bitwise_and(image, image, mask=mask)"
   ]
  },
  {
   "cell_type": "code",
   "execution_count": null,
   "metadata": {},
   "outputs": [],
   "source": [
    "def create_segmentation_mask(image, mask, value):\n",
    "    segmented_mask = np.zeros_like(image)\n",
    "    segmented_mask[mask > 0] = value\n",
    "    return segmented_mask"
   ]
  },
  {
   "cell_type": "code",
   "execution_count": null,
   "metadata": {},
   "outputs": [],
   "source": [
    "def create_yolo_label(segmentation_mask, image_width, image_height):\n",
    "    yolo_labels = []\n",
    "    contours, _ = cv2.findContours(segmentation_mask, cv2.RETR_EXTERNAL, cv2.CHAIN_APPROX_SIMPLE)\n",
    "    for contour in contours:\n",
    "        if len(contour) < 3:\n",
    "            continue\n",
    "        x, y, w, h = cv2.boundingRect(contour)\n",
    "        bbox = [x / image_width, y / image_height, w / image_width, h / image_height]\n",
    "        polygon = contour.flatten().tolist()\n",
    "        yolo_labels.append((0, bbox, polygon))\n",
    "    return yolo_labels"
   ]
  },
  {
   "cell_type": "code",
   "execution_count": null,
   "metadata": {},
   "outputs": [],
   "source": [
    "def process_image(image_files, mask_files, background_files, image_range, output_images, output_labels, image_index):\n",
    "    # Randomly pick the number of images to combine from the provided range\n",
    "    num_images = random.randint(image_range[0], image_range[1])\n",
    "\n",
    "    # Randomly select `num_images` from the folder\n",
    "    selected_indices = random.sample(range(len(image_files)), num_images)\n",
    "\n",
    "    # Randomly select a background image\n",
    "    background_index = random.randint(0, len(background_files) - 1)\n",
    "    background_path = os.path.join(BACKGROUND_IMAGES_DIR, background_files[background_index])\n",
    "    background_image = cv2.imread(background_path)\n",
    "\n",
    "    # Check if the background image is loaded properly\n",
    "    if background_image is None:\n",
    "        print(f\"Error: Background image {background_files[background_index]} not loaded properly\")\n",
    "        return\n",
    "\n",
    "    # Initialize the combined image and segmentation mask\n",
    "    combined_image = background_image.copy()\n",
    "    segmentation_mask = np.zeros_like(background_image)\n",
    "    yolo_labels = []\n",
    "\n",
    "    for idx, i in enumerate(selected_indices):\n",
    "        # Read image and corresponding mask\n",
    "        image_path = os.path.join(LEAF_IMAGES_DIR, image_files[i])\n",
    "        mask_path = os.path.join(LEAF_MASKS_DIR, mask_files[i])\n",
    "        image = cv2.imread(image_path)\n",
    "        mask = cv2.imread(mask_path, cv2.IMREAD_GRAYSCALE)\n",
    "\n",
    "        # Check if the images and masks are loaded properly\n",
    "        if image is None or mask is None:\n",
    "            print(f\"Error: Image or mask {image_files[i]} not loaded properly\")\n",
    "            continue\n",
    "\n",
    "        # Apply the mask to the image\n",
    "        masked_image = apply_mask(image, mask)\n",
    "\n",
    "        # Generate random transformations\n",
    "        angle = random.uniform(-45, 45)  # Random rotation between -45 and 45 degrees\n",
    "        scale = random.uniform(0.2, .7)  # Random scaling between 0.5 and 1.5\n",
    "        tx = random.randint(-100, 100)  # Random translation in x direction\n",
    "        ty = random.randint(-100, 100)  # Random translation in y direction\n",
    "\n",
    "        # Apply transformations\n",
    "        transformed_image = transform_image(masked_image, angle, scale, 0, 0)\n",
    "\n",
    "        # Crop the transformed image to its extreme points that are not masked out\n",
    "        y_indices, x_indices = np.where(mask > 0)\n",
    "        if len(y_indices) == 0 or len(x_indices) == 0:\n",
    "            continue\n",
    "        x_min, x_max = x_indices.min(), x_indices.max()\n",
    "        y_min, y_max = y_indices.min(), y_indices.max()\n",
    "        cropped_transformed_image = transformed_image[y_min:y_max+1, x_min:x_max+1]\n",
    "\n",
    "        # Generate random position to place the cropped transformed image on the background\n",
    "        height, width = background_image.shape[:2]\n",
    "        x_offset = random.randint(0, width - cropped_transformed_image.shape[1])\n",
    "        y_offset = random.randint(0, height - cropped_transformed_image.shape[0])\n",
    "\n",
    "        # Place the cropped transformed image on the background\n",
    "        combined_image[y_offset:y_offset + cropped_transformed_image.shape[0], x_offset:x_offset + cropped_transformed_image.shape[1]] = cropped_transformed_image\n",
    "\n",
    "        # Create the segmentation mask\n",
    "        segmentation_value = [idx + 1, idx + 1, idx + 1]\n",
    "        segmented_mask = create_segmentation_mask(masked_image, mask, segmentation_value)\n",
    "        cropped_segmented_mask = segmented_mask[y_min:y_max+1, x_min:x_max+1]\n",
    "        segmentation_mask[y_offset:y_offset + cropped_segmented_mask.shape[0], x_offset:x_offset + cropped_segmented_mask.shape[1]] = cropped_segmented_mask\n",
    "        yolo_labels += create_yolo_label(segmentation_mask, image_width, image_height)\n",
    "\n",
    "    # Get the dimensions of the combined image\n",
    "    image_height, image_width = combined_image.shape[:2]\n",
    "\n",
    "    # Save the combined image and YOLO labels\n",
    "    combined_image_path = os.path.join(output_images, f\"synthetic_{image_index}.png\")\n",
    "    cv2.imwrite(combined_image_path, combined_image)\n",
    "\n",
    "    yolo_label_path = os.path.join(output_labels, f\"synthetic_{image_index}.txt\")\n",
    "    with open(yolo_label_path, 'w') as f:\n",
    "        for label in yolo_labels:\n",
    "            class_id, bbox, polygon = label\n",
    "            bbox_str = ' '.join(map(str, bbox))\n",
    "            polygon_str = ' '.join(map(str, polygon))\n",
    "            f.write(f\"{class_id} {bbox_str} {polygon_str}\\n\")"
   ]
  },
  {
   "cell_type": "code",
   "execution_count": null,
   "metadata": {},
   "outputs": [],
   "source": [
    "# Get the list of image and mask files\n",
    "image_files = sorted([f for f in os.listdir(LEAF_IMAGES_DIR) if os.path.isfile(os.path.join(LEAF_IMAGES_DIR, f))])\n",
    "mask_files = sorted([f for f in os.listdir(LEAF_MASKS_DIR) if os.path.isfile(os.path.join(LEAF_MASKS_DIR, f))])\n",
    "background_files = sorted([f for f in os.listdir(BACKGROUND_IMAGES_DIR) if os.path.isfile(os.path.join(BACKGROUND_IMAGES_DIR, f))])\n",
    "\n",
    "# Ensure the output folder exists\n",
    "os.makedirs(DATA_SUBDIR, exist_ok=True)\n",
    "os.makedirs(TRAIN_IMAGES_SUBDIR, exist_ok=True)\n",
    "os.makedirs(TRAIN_LABELS_SUBDIR, exist_ok=True)\n",
    "os.makedirs(VAL_IMAGES_SUBDIR, exist_ok=True)\n",
    "os.makedirs(VAL_LABELS_SUBDIR, exist_ok=True)"
   ]
  },
  {
   "cell_type": "markdown",
   "metadata": {},
   "source": [
    "# Test image"
   ]
  },
  {
   "cell_type": "code",
   "execution_count": null,
   "metadata": {},
   "outputs": [],
   "source": [
    "import matplotlib.pyplot as plt\n",
    "process_image(image_files, mask_files, background_files, [5, 10], \"test/images\", \"test/labels\", 0)\n",
    "img = cv2.imread(\"test/images/synthetic_0.png\")\n",
    "plt.imshow(img)\n",
    "plt.show()"
   ]
  }
 ],
 "metadata": {
  "language_info": {
   "name": "python"
  }
 },
 "nbformat": 4,
 "nbformat_minor": 2
}
