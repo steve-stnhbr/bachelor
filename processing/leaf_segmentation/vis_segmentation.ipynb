{
 "cells": [
  {
   "cell_type": "code",
   "execution_count": null,
   "metadata": {},
   "outputs": [],
   "source": [
    "import cv2\n",
    "import os\n",
    "import tensorflow as tf\n",
    "import keras\n",
    "import matplotlib.pyplot as plt\n",
    "import colorsys\n",
    "import numpy as np"
   ]
  },
  {
   "cell_type": "code",
   "execution_count": null,
   "metadata": {},
   "outputs": [],
   "source": [
    "MODEL_FILE = \"\"\n",
    "TEST_DIRECTORY = \"\"\n",
    "IMAGE_SIZE = (473, 473)\n",
    "COLOR_MASK_ALPHA = .4"
   ]
  },
  {
   "cell_type": "code",
   "execution_count": null,
   "metadata": {},
   "outputs": [],
   "source": [
    "model = keras.models.load_model(MODEL_FILE)\n",
    "\n",
    "\n",
    "for image_file in os.listdir(TEST_DIRECTORY):\n",
    "    image = cv2.imread(image_file)\n",
    "    image = cv2.resize(image_file, IMAGE_SIZE)\n",
    "\n",
    "    #fig, axes = plt.subplot(2, 2)\n",
    "\n",
    "    # output should have the shape (473, 473, 25)\n",
    "    model_output = model.predict(image).numpy()\n",
    "\n",
    "    for i in range(model_output.shape[2]):\n",
    "        class_mask = model_output[:, :, i]\n",
    "        overlay = np.zeros(model_output.shape + (3, ))\n",
    "        overlay[class_mask == 1] = tuple(round(i * 255) for i in colorsys.hsv_to_rgb(i / model_output.shape[2], 1, 1))\n",
    "        overlayed = cv2.addWeighted(overlay, COLOR_MASK_ALPHA, image, 1 - COLOR_MASK_ALPHA, 0)\n",
    "        plt.figure()\n",
    "        plt.imshow(overlayed)"
   ]
  }
 ],
 "metadata": {
  "language_info": {
   "name": "python"
  }
 },
 "nbformat": 4,
 "nbformat_minor": 2
}
