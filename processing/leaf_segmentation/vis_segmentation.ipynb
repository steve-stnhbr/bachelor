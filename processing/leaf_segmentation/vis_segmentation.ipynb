{
    "cells": [
        {
            "cell_type": "code",
            "execution_count": 1,
            "metadata": {
                "tags": []
            },
            "outputs": [],
            "source": [
                "import cv2\n",
                "import os\n",
                "import tensorflow as tf\n",
                "import keras\n",
                "import matplotlib.pyplot as plt\n",
                "import colorsys\n",
                "import numpy as np\n",
                "import random"
            ]
        },
        {
            "cell_type": "code",
            "execution_count": 2,
            "metadata": {
                "tags": []
            },
            "outputs": [],
            "source": [
                "MODEL_FILE = \"checkpoints/modelPSPNet_rgb.20.keras\"\n",
                "TEST_DIRECTORY = \"_data/PhenoBench/val/images\"\n",
                "IMAGE_SIZE = (473, 473)\n",
                "COLOR_MASK_ALPHA = .3"
            ]
        },
        {
            "cell_type": "code",
            "execution_count": 19,
            "metadata": {
                "tags": []
            },
            "outputs": [],
            "source": [
                "model = keras.models.load_model(MODEL_FILE, compile=False)"
            ]
        },
        {
            "cell_type": "code",
            "execution_count": 20,
            "metadata": {
                "tags": []
            },
            "outputs": [],
            "source": [
                "files = os.listdir(TEST_DIRECTORY)\n",
                "random.shuffle(files)"
            ]
        },
        {
            "cell_type": "code",
            "execution_count": 24,
            "metadata": {
                "tags": []
            },
            "outputs": [
                {
                    "name": "stdout",
                    "output_type": "stream",
                    "text": [
                        "Found 772 files.\n"
                    ]
                }
            ],
            "source": [
                "x = keras.utils.image_dataset_from_directory(TEST_DIRECTORY,\n",
                "                                                 batch_size=1,\n",
                "                                                 image_size=IMAGE_SIZE,\n",
                "                                                 crop_to_aspect_ratio=True,\n",
                "                                                 labels=None).map(lambda x0: x0 / 255)"
            ]
        },
        {
            "cell_type": "code",
            "execution_count": null,
            "metadata": {
                "tags": []
            },
            "outputs": [],
            "source": [
                "for image in x:\n",
                "    #fig, axes = plt.subplot(2, 2)\n",
                "    np_image = image.numpy().squeeze()\n",
                "    print(np_image.shape)\n",
                "\n",
                "    # output should have the shape (473, 473, 25)\n",
                "    model_output = model(image, training=False).numpy().squeeze()\n",
                "    print(np.unique(model_output))\n",
                "    \n",
                "    overlayed = np_image.copy()\n",
                "    overlay = np_image.copy()\n",
                "    \n",
                "    fig = plt.figure()\n",
                "    mask_axes = fig.subplots(5, 5)\n",
                "    plt.setp(mask_axes, xticks=[], yticks=[])\n",
                "    \n",
                "    for ax, i in zip(mask_axes.flatten(), range(model_output.shape[2])):\n",
                "        class_mask = model_output[:, :, i]\n",
                "        #color = [int(round(i * 255)) for i in colorsys.hsv_to_rgb(i / model_output.shape[2], 1, 1)]\n",
                "        color = colorsys.hsv_to_rgb(i / model_output.shape[2], 1, 1)\n",
                "        overlay[class_mask == 1] = color\n",
                "        ax.imshow(class_mask, cmap='gray', vmin=0, vmax=1)\n",
                "        \n",
                "    overlayed = cv2.addWeighted(overlay, COLOR_MASK_ALPHA, overlayed, 1 - COLOR_MASK_ALPHA, 0)\n",
                "    cv2.imwrite(\"out/vis.jpg\", overlayed)\n",
                "    fig.show()\n",
                "    plt.imshow(np_image)\n",
                "    plt.show()\n",
                "    \n",
                "    break"
            ]
        }
    ],
    "metadata": {
        "kernelspec": {
            "display_name": "Tensorflow",
            "language": "python",
            "name": "tf"
        },
        "language_info": {
            "codemirror_mode": {
                "name": "ipython",
                "version": 3
            },
            "file_extension": ".py",
            "mimetype": "text/x-python",
            "name": "python",
            "nbconvert_exporter": "python",
            "pygments_lexer": "ipython3",
            "version": "3.12.4"
        }
    },
    "nbformat": 4,
    "nbformat_minor": 4
}