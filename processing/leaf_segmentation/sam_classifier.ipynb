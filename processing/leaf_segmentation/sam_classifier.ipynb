{
 "cells": [
  {
   "cell_type": "code",
   "execution_count": null,
   "metadata": {},
   "outputs": [],
   "source": [
    "import time\n",
    "import torch\n",
    "import torchvision.models.resnet50 as resnet\n",
    "import torchvision.models.convnext_base as convnext\n",
    "import torchvision.transforms.v2 as transforms\n",
    "from torch.utils.data import Dataset, DataLoader"
   ]
  },
  {
   "cell_type": "code",
   "execution_count": null,
   "metadata": {},
   "outputs": [],
   "source": [
    "BATCH_SIZE = 8\n",
    "EPOCHS = 32"
   ]
  },
  {
   "cell_type": "code",
   "execution_count": null,
   "metadata": {},
   "outputs": [],
   "source": [
    "import os\n",
    "from torchvision.io import read_image\n",
    "from torch.utils.data import Dataset, DataLoader\n",
    "\n",
    "class LeafClassificationDataset(Dataset):\n",
    "    def __init__(self, dir, transforms=None, default_label=1):\n",
    "        self.files = [os.path.join(dir, file) for file in os.listdir() if os.path.isfile(file)]\n",
    "        self.transforms = transforms\n",
    "        self.default_label = default_label\n",
    "\n",
    "    def __len__(self):\n",
    "        return len(self.files)\n",
    "\n",
    "    def __getitem__(self, idx):\n",
    "        image = read_image(self.files[idx])\n",
    "        label = self.default_label\n",
    "        if self.transforms:\n",
    "            image = self.transforms(image)\n",
    "        return image, label"
   ]
  },
  {
   "cell_type": "code",
   "execution_count": null,
   "metadata": {},
   "outputs": [],
   "source": [
    "tf = transforms.Compose([\n",
    "    transforms.ToTensor(),\n",
    "    transforms.RandomHorizontalFlip(),\n",
    "    transforms.RandomVerticalFlip(),\n",
    "    transforms.RandomRotation(.5),\n",
    "    transforms.RandomPerspective(distortion_scale=0.6)\n",
    "])\n",
    "dataset = LeafClassificationDataset(\"_data/urban_street/images\", transforms=tf)\n",
    "dataloader = DataLoader(dataset, shuffle=True, batch_size=BATCH_SIZE, num_workers=BATCH_SIZE//2)"
   ]
  },
  {
   "cell_type": "code",
   "execution_count": null,
   "metadata": {},
   "outputs": [],
   "source": [
    "model = convnext()"
   ]
  },
  {
   "cell_type": "code",
   "execution_count": null,
   "metadata": {},
   "outputs": [],
   "source": [
    "criterion = torch.nn.CrossEntropyLoss()\n",
    "optimizer = torch.optim.SGD(model.parameters(), lr=0.001, momentum=0.9)"
   ]
  },
  {
   "cell_type": "code",
   "execution_count": null,
   "metadata": {},
   "outputs": [],
   "source": [
    "import pandas as pd\n",
    "loss_df = pd.DataFrame({}, columns=[\"step\", \"epoch\", \"loss\"])"
   ]
  },
  {
   "cell_type": "code",
   "execution_count": null,
   "metadata": {},
   "outputs": [],
   "source": [
    "step = 0\n",
    "for epoch in range(EPOCHS):\n",
    "\n",
    "    running_loss = 0.0\n",
    "    for batch in dataloader:\n",
    "        step += len(batch)\n",
    "        inputs, labels = batch\n",
    "\n",
    "        optimizer.zero_grad()\n",
    "\n",
    "        outputs = model(inputs)\n",
    "        loss = criterion(outputs, labels)\n",
    "        loss.backward()\n",
    "        optimizer.step()\n",
    "        running_loss += loss.item()\n",
    "    print(\"Epoch Loss: \", running_loss)\n",
    "print(\"Finished Training, Saving Model\")\n",
    "torch.save(model, f\"out/resnet_leaf_classifier/{time.time()}.pt\")"
   ]
  }
 ],
 "metadata": {
  "language_info": {
   "name": "python"
  }
 },
 "nbformat": 4,
 "nbformat_minor": 2
}
