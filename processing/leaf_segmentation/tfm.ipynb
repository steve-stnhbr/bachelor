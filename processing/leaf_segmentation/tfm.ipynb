{
 "cells": [
  {
   "cell_type": "code",
   "execution_count": 1,
   "metadata": {},
   "outputs": [],
   "source": [
    "%matplotlib inline"
   ]
  },
  {
   "cell_type": "code",
   "execution_count": 2,
   "metadata": {},
   "outputs": [],
   "source": [
    "import tensorflow as tf\n",
    "import tensorflow_models as tfm\n",
    "\n",
    "from official.vision.configs import maskrcnn as exp_cfg\n",
    "from official.core import config_definitions as cfg\n",
    "from official.core import exp_factory\n",
    "from official.vision.tasks import maskrcnn\n",
    "from official.vision.dataloaders.tf_example_decoder import TfExampleDecoder\n",
    "from official.vision.serving import export_saved_model_lib\n",
    "from official.vision.configs import backbones as backbones_cfg\n",
    "import tensorflow_datasets as tfds\n",
    "import matplotlib.pyplot as plt\n",
    "import os\n",
    "import numpy as np\n",
    "from official.vision.utils.object_detection import visualization_utils\n",
    "import time\n",
    "from custom_utils import send_pushover_notification, intercept_stdout\n",
    "from functools import partial\n",
    "from tfm_configs import *\n",
    "import re\n",
    "import tensorflow_datasets as tfds"
   ]
  },
  {
   "cell_type": "code",
   "execution_count": 3,
   "metadata": {},
   "outputs": [],
   "source": [
    "IMAGE_SIZE = (640, 640)\n",
    "BATCH_SIZE = 4\n",
    "TFDS_NAME = 'leaf_instance_dataset'\n",
    "INPUT_PATH = \"/home/stefan.steinheber/tensorflow_datasets/leaf_instance_dataset/1.0.0/\"\n",
    "MODEL = \"retinanet_resnet_fpn\"\n",
    "MODEL_DIR = \"out/\" + MODEL"
   ]
  },
  {
   "cell_type": "code",
   "execution_count": 4,
   "metadata": {
    "tags": []
   },
   "outputs": [],
   "source": [
    "exp_config = retinanet_resnet_fpn(INPUT_PATH)"
   ]
  },
  {
   "cell_type": "code",
   "execution_count": 5,
   "metadata": {
    "tags": []
   },
   "outputs": [
    {
     "name": "stdout",
     "output_type": "stream",
     "text": [
      "Created distribution Strategy on Device /device:GPU:0\n"
     ]
    },
    {
     "name": "stderr",
     "output_type": "stream",
     "text": [
      "2024-07-16 13:42:03.010026: I tensorflow/core/common_runtime/gpu/gpu_device.cc:1928] Created device /job:localhost/replica:0/task:0/device:GPU:0 with 45507 MB memory:  -> device: 0, name: NVIDIA RTX A6000, pci bus id: 0000:06:00.0, compute capability: 8.6\n"
     ]
    }
   ],
   "source": [
    "logical_device_names = [logical_device.name for logical_device in tf.config.list_logical_devices('GPU')]\n",
    "\n",
    "if len(logical_device_names) == 0:\n",
    "    logical_device_names = [logical_device.name for logical_device in tf.config.list_logical_devices()]\n",
    "\n",
    "distribution_strategy = tf.distribute.OneDeviceStrategy(logical_device_names[0])\n",
    "\n",
    "print(\"Created distribution Strategy on Device\", logical_device_names[0])"
   ]
  },
  {
   "cell_type": "code",
   "execution_count": 6,
   "metadata": {
    "tags": []
   },
   "outputs": [],
   "source": [
    "def show_batch(raw_records):\n",
    "    tf_ex_decoder = TfExampleDecoder(include_mask=True)\n",
    "    plt.figure(figsize=(20, 20))\n",
    "    use_normalized_coordinates=True\n",
    "    min_score_thresh = 0.30\n",
    "    for i, serialized_example in enumerate(raw_records):\n",
    "        plt.subplot(1, 3, i + 1)\n",
    "        decoded_tensors = tf_ex_decoder.decode(serialized_example)\n",
    "        image = decoded_tensors['image'].numpy().astype('uint8')\n",
    "        scores = np.ones(shape=(len(decoded_tensors['groundtruth_boxes'])))\n",
    "        visualization_utils.visualize_boxes_and_labels_on_image_array(\n",
    "            image,\n",
    "            decoded_tensors['groundtruth_boxes'].numpy(),\n",
    "            decoded_tensors['groundtruth_classes'].numpy().astype('int'),\n",
    "            scores,\n",
    "            category_index={\n",
    "                1: {\n",
    "                    'id': 1,\n",
    "                    'name': 'leaf',\n",
    "                },\n",
    "            },\n",
    "            use_normalized_coordinates=use_normalized_coordinates,\n",
    "            min_score_thresh=min_score_thresh,\n",
    "            instance_masks=decoded_tensors['groundtruth_instance_masks'].numpy().astype('uint8'),\n",
    "            line_thickness=4)\n",
    "\n",
    "        plt.imshow(image)\n",
    "        plt.axis(\"off\")\n",
    "        plt.title(f\"Image-{i+1}\")\n",
    "    plt.show()\n",
    "    #plt.savefig(\"out/fig.png\")"
   ]
  },
  {
   "cell_type": "code",
   "execution_count": 7,
   "metadata": {
    "tags": []
   },
   "outputs": [],
   "source": [
    "with distribution_strategy.scope():\n",
    "    task = tfm.core.task_factory.get_task(exp_config.task, logging_dir=MODEL_DIR)"
   ]
  },
  {
   "cell_type": "code",
   "execution_count": 8,
   "metadata": {
    "tags": []
   },
   "outputs": [
    {
     "name": "stderr",
     "output_type": "stream",
     "text": [
      "2024-07-16 13:42:07.208258: W tensorflow/core/framework/local_rendezvous.cc:404] Local rendezvous is aborting with status: OUT_OF_RANGE: End of sequence\n"
     ]
    }
   ],
   "source": [
    "buffer_size = 100\n",
    "num_of_examples = 3\n",
    "\n",
    "train_tfrecords = tf.io.gfile.glob(exp_config.task.train_data.input_path)\n",
    "raw_records = tf.data.TFRecordDataset(train_tfrecords).shuffle(buffer_size=buffer_size).take(num_of_examples)\n",
    "show_batch(raw_records)"
   ]
  },
  {
   "cell_type": "raw",
   "metadata": {},
   "source": [
    "%load_ext tensorboard\n",
    "%tensorboard --logdir {MODEL_DIR}"
   ]
  },
  {
   "cell_type": "code",
   "execution_count": 9,
   "metadata": {
    "tags": []
   },
   "outputs": [],
   "source": [
    "def send_notification(text):\n",
    "    if \"loss\" not in text or 'eval' not in text:\n",
    "        return\n",
    "    step = re.search(r\"step:.*?(\\d+).*?\\|\", text)\n",
    "    step = step.group(1)\n",
    "    losses = re.findall(r\"'(.*)_loss':.*?(\\d+\\.\\d+)\", text)\n",
    "    losses.reverse()\n",
    "    msg = f\"Step #{step}:\" + ' - '.join([f\"{name} Loss: {value}\" for name, value in losses])\n",
    "    send_pushover_notification(msg, title=\"Training Losses\", priority=-1)"
   ]
  },
  {
   "cell_type": "code",
   "execution_count": null,
   "metadata": {
    "tags": []
   },
   "outputs": [
    {
     "name": "stdout",
     "output_type": "stream",
     "text": [
      "restoring or initializing model...\n",
      "restored model from out/retinanet_resnet_fpn/ckpt-184200.\n",
      "restored from checkpoint: out/retinanet_resnet_fpn/ckpt-184200\n",
      "train | step:  184200 | training until step 185200...\n"
     ]
    },
    {
     "name": "stderr",
     "output_type": "stream",
     "text": [
      "2024-07-16 09:40:32.478372: I external/local_xla/xla/stream_executor/cuda/cuda_dnn.cc:465] Loaded cuDNN version 8907\n"
     ]
    },
    {
     "name": "stdout",
     "output_type": "stream",
     "text": [
      "train | step:  185200 | steps/sec:    4.0 | output: \n",
      "    {'box_loss': 0.0015649764,\n",
      "     'cls_loss': 0.13380967,\n",
      "     'learning_rate': 0.0012,\n",
      "     'model_loss': 0.21205865,\n",
      "     'total_loss': 0.33398414,\n",
      "     'training_loss': 0.33398414}\n",
      "saved checkpoint to out/retinanet_resnet_fpn/ckpt-185200.\n",
      " eval | step:  185200 | running 278 steps of evaluation...\n"
     ]
    },
    {
     "name": "stderr",
     "output_type": "stream",
     "text": [
      "2024-07-16 09:45:05.960424: W tensorflow/core/framework/local_rendezvous.cc:404] Local rendezvous is aborting with status: OUT_OF_RANGE: End of sequence\n",
      "\t [[{{node MultiDeviceIteratorGetNextFromShard}}]]\n",
      "2024-07-16 09:45:05.960546: W tensorflow/core/framework/local_rendezvous.cc:404] Local rendezvous is aborting with status: OUT_OF_RANGE: End of sequence\n",
      "\t [[{{node MultiDeviceIteratorGetNextFromShard}}]]\n",
      "\t [[RemoteCall]]\n",
      "2024-07-16 09:45:05.961395: W tensorflow/core/framework/local_rendezvous.cc:404] Local rendezvous is aborting with status: OUT_OF_RANGE: End of sequence\n",
      "\t [[{{node IteratorGetNext}}]]\n"
     ]
    },
    {
     "name": "stdout",
     "output_type": "stream",
     "text": [
      " eval | step:  185200 | steps/sec:    5.5 | eval time:   50.7 sec | output: \n",
      "    {'box_loss': 0.0033559632,\n",
      "     'cls_loss': 0.22008419,\n",
      "     'model_loss': 0.38788235,\n",
      "     'steps_per_second': 5.485444635236317,\n",
      "     'total_loss': 0.50968564,\n",
      "     'validation_loss': 0.50968564}\n",
      "train | step:  185200 | training until step 186200...\n",
      "train | step:  186200 | steps/sec:    3.8 | output: \n",
      "    {'box_loss': 0.0015796728,\n",
      "     'cls_loss': 0.13456315,\n",
      "     'learning_rate': 0.0012,\n",
      "     'model_loss': 0.21354692,\n",
      "     'total_loss': 0.33522737,\n",
      "     'training_loss': 0.33522737}\n",
      "saved checkpoint to out/retinanet_resnet_fpn/ckpt-186200.\n",
      " eval | step:  186200 | running 278 steps of evaluation...\n"
     ]
    },
    {
     "name": "stderr",
     "output_type": "stream",
     "text": [
      "2024-07-16 09:49:24.045424: W tensorflow/core/framework/local_rendezvous.cc:404] Local rendezvous is aborting with status: OUT_OF_RANGE: End of sequence\n",
      "\t [[{{node MultiDeviceIteratorGetNextFromShard}}]]\n",
      "2024-07-16 09:49:24.045523: W tensorflow/core/framework/local_rendezvous.cc:404] Local rendezvous is aborting with status: OUT_OF_RANGE: End of sequence\n",
      "\t [[{{node MultiDeviceIteratorGetNextFromShard}}]]\n",
      "\t [[RemoteCall]]\n",
      "2024-07-16 09:49:24.046301: W tensorflow/core/framework/local_rendezvous.cc:404] Local rendezvous is aborting with status: OUT_OF_RANGE: End of sequence\n",
      "\t [[{{node IteratorGetNext}}]]\n"
     ]
    },
    {
     "name": "stdout",
     "output_type": "stream",
     "text": [
      " eval | step:  186200 | steps/sec:    6.3 | eval time:   43.9 sec | output: \n",
      "    {'box_loss': 0.0033696536,\n",
      "     'cls_loss': 0.21950579,\n",
      "     'model_loss': 0.38798845,\n",
      "     'steps_per_second': 6.338785292834686,\n",
      "     'total_loss': 0.5095458,\n",
      "     'validation_loss': 0.5095458}\n",
      "train | step:  186200 | training until step 187200...\n",
      "train | step:  187200 | steps/sec:    3.9 | output: \n",
      "    {'box_loss': 0.001587319,\n",
      "     'cls_loss': 0.13449213,\n",
      "     'learning_rate': 0.0012,\n",
      "     'model_loss': 0.2138582,\n",
      "     'total_loss': 0.33529434,\n",
      "     'training_loss': 0.33529434}\n",
      "saved checkpoint to out/retinanet_resnet_fpn/ckpt-187200.\n",
      " eval | step:  187200 | running 278 steps of evaluation...\n"
     ]
    },
    {
     "name": "stderr",
     "output_type": "stream",
     "text": [
      "2024-07-16 09:53:39.778483: W tensorflow/core/framework/local_rendezvous.cc:404] Local rendezvous is aborting with status: OUT_OF_RANGE: End of sequence\n",
      "\t [[{{node MultiDeviceIteratorGetNextFromShard}}]]\n",
      "2024-07-16 09:53:39.778584: W tensorflow/core/framework/local_rendezvous.cc:404] Local rendezvous is aborting with status: OUT_OF_RANGE: End of sequence\n",
      "\t [[{{node MultiDeviceIteratorGetNextFromShard}}]]\n",
      "\t [[RemoteCall]]\n",
      "2024-07-16 09:53:39.779359: W tensorflow/core/framework/local_rendezvous.cc:404] Local rendezvous is aborting with status: OUT_OF_RANGE: End of sequence\n",
      "\t [[{{node IteratorGetNext}}]]\n"
     ]
    },
    {
     "name": "stdout",
     "output_type": "stream",
     "text": [
      " eval | step:  187200 | steps/sec:    6.4 | eval time:   43.2 sec | output: \n",
      "    {'box_loss': 0.0033728804,\n",
      "     'cls_loss': 0.22014911,\n",
      "     'model_loss': 0.38879323,\n",
      "     'steps_per_second': 6.432878175580375,\n",
      "     'total_loss': 0.51010746,\n",
      "     'validation_loss': 0.51010746}\n",
      "train | step:  187200 | training until step 188200...\n",
      "train | step:  188200 | steps/sec:    3.9 | output: \n",
      "    {'box_loss': 0.0015480496,\n",
      "     'cls_loss': 0.13294694,\n",
      "     'learning_rate': 0.0012,\n",
      "     'model_loss': 0.21034922,\n",
      "     'total_loss': 0.33154207,\n",
      "     'training_loss': 0.33154207}\n",
      "saved checkpoint to out/retinanet_resnet_fpn/ckpt-188200.\n",
      " eval | step:  188200 | running 278 steps of evaluation...\n"
     ]
    },
    {
     "name": "stderr",
     "output_type": "stream",
     "text": [
      "2024-07-16 09:57:54.276722: W tensorflow/core/framework/local_rendezvous.cc:404] Local rendezvous is aborting with status: OUT_OF_RANGE: End of sequence\n",
      "\t [[{{node MultiDeviceIteratorGetNextFromShard}}]]\n",
      "2024-07-16 09:57:54.276838: W tensorflow/core/framework/local_rendezvous.cc:404] Local rendezvous is aborting with status: OUT_OF_RANGE: End of sequence\n",
      "\t [[{{node MultiDeviceIteratorGetNextFromShard}}]]\n",
      "\t [[RemoteCall]]\n",
      "2024-07-16 09:57:54.277660: W tensorflow/core/framework/local_rendezvous.cc:404] Local rendezvous is aborting with status: OUT_OF_RANGE: End of sequence\n",
      "\t [[{{node IteratorGetNext}}]]\n"
     ]
    },
    {
     "name": "stdout",
     "output_type": "stream",
     "text": [
      " eval | step:  188200 | steps/sec:    6.7 | eval time:   41.8 sec | output: \n",
      "    {'box_loss': 0.0033605928,\n",
      "     'cls_loss': 0.21976084,\n",
      "     'model_loss': 0.38779053,\n",
      "     'steps_per_second': 6.656945182762414,\n",
      "     'total_loss': 0.5088612,\n",
      "     'validation_loss': 0.5088612}\n",
      "train | step:  188200 | training until step 189200...\n",
      "train | step:  189200 | steps/sec:    3.9 | output: \n",
      "    {'box_loss': 0.0015509591,\n",
      "     'cls_loss': 0.13318229,\n",
      "     'learning_rate': 0.0012,\n",
      "     'model_loss': 0.21073005,\n",
      "     'total_loss': 0.3316796,\n",
      "     'training_loss': 0.3316796}\n",
      "saved checkpoint to out/retinanet_resnet_fpn/ckpt-189200.\n",
      " eval | step:  189200 | running 278 steps of evaluation...\n"
     ]
    },
    {
     "name": "stderr",
     "output_type": "stream",
     "text": [
      "2024-07-16 10:02:12.670412: W tensorflow/core/framework/local_rendezvous.cc:404] Local rendezvous is aborting with status: OUT_OF_RANGE: End of sequence\n",
      "\t [[{{node MultiDeviceIteratorGetNextFromShard}}]]\n",
      "2024-07-16 10:02:12.670523: W tensorflow/core/framework/local_rendezvous.cc:404] Local rendezvous is aborting with status: OUT_OF_RANGE: End of sequence\n",
      "\t [[{{node MultiDeviceIteratorGetNextFromShard}}]]\n",
      "\t [[RemoteCall]]\n",
      "2024-07-16 10:02:12.671429: W tensorflow/core/framework/local_rendezvous.cc:404] Local rendezvous is aborting with status: OUT_OF_RANGE: End of sequence\n",
      "\t [[{{node IteratorGetNext}}]]\n"
     ]
    },
    {
     "name": "stdout",
     "output_type": "stream",
     "text": [
      " eval | step:  189200 | steps/sec:    6.1 | eval time:   45.9 sec | output: \n",
      "    {'box_loss': 0.0033584666,\n",
      "     'cls_loss': 0.2198563,\n",
      "     'model_loss': 0.38777968,\n",
      "     'steps_per_second': 6.059614233063131,\n",
      "     'total_loss': 0.5086083,\n",
      "     'validation_loss': 0.5086083}\n",
      "train | step:  189200 | training until step 190200...\n",
      "train | step:  190200 | steps/sec:    3.8 | output: \n",
      "    {'box_loss': 0.0015430672,\n",
      "     'cls_loss': 0.13236006,\n",
      "     'learning_rate': 0.0012,\n",
      "     'model_loss': 0.20951329,\n",
      "     'total_loss': 0.3302214,\n",
      "     'training_loss': 0.3302214}\n",
      "saved checkpoint to out/retinanet_resnet_fpn/ckpt-190200.\n",
      " eval | step:  190200 | running 278 steps of evaluation...\n"
     ]
    },
    {
     "name": "stderr",
     "output_type": "stream",
     "text": [
      "2024-07-16 10:06:29.054200: W tensorflow/core/framework/local_rendezvous.cc:404] Local rendezvous is aborting with status: OUT_OF_RANGE: End of sequence\n",
      "\t [[{{node MultiDeviceIteratorGetNextFromShard}}]]\n",
      "2024-07-16 10:06:29.055142: W tensorflow/core/framework/local_rendezvous.cc:404] Local rendezvous is aborting with status: OUT_OF_RANGE: End of sequence\n",
      "\t [[{{node MultiDeviceIteratorGetNextFromShard}}]]\n",
      "\t [[RemoteCall]]\n",
      "2024-07-16 10:06:29.055944: W tensorflow/core/framework/local_rendezvous.cc:404] Local rendezvous is aborting with status: OUT_OF_RANGE: End of sequence\n",
      "\t [[{{node IteratorGetNext}}]]\n"
     ]
    },
    {
     "name": "stdout",
     "output_type": "stream",
     "text": [
      " eval | step:  190200 | steps/sec:    6.6 | eval time:   42.0 sec | output: \n",
      "    {'box_loss': 0.003351191,\n",
      "     'cls_loss': 0.22059475,\n",
      "     'model_loss': 0.38815427,\n",
      "     'steps_per_second': 6.612267671965124,\n",
      "     'total_loss': 0.5087421,\n",
      "     'validation_loss': 0.5087421}\n",
      "train | step:  190200 | training until step 191200...\n",
      "train | step:  191200 | steps/sec:    3.9 | output: \n",
      "    {'box_loss': 0.0015489463,\n",
      "     'cls_loss': 0.1320232,\n",
      "     'learning_rate': 0.0012,\n",
      "     'model_loss': 0.20947039,\n",
      "     'total_loss': 0.3299373,\n",
      "     'training_loss': 0.3299373}\n",
      "saved checkpoint to out/retinanet_resnet_fpn/ckpt-191200.\n",
      " eval | step:  191200 | running 278 steps of evaluation...\n"
     ]
    },
    {
     "name": "stderr",
     "output_type": "stream",
     "text": [
      "2024-07-16 10:10:45.543941: W tensorflow/core/framework/local_rendezvous.cc:404] Local rendezvous is aborting with status: OUT_OF_RANGE: End of sequence\n",
      "\t [[{{node MultiDeviceIteratorGetNextFromShard}}]]\n",
      "2024-07-16 10:10:45.544056: W tensorflow/core/framework/local_rendezvous.cc:404] Local rendezvous is aborting with status: OUT_OF_RANGE: End of sequence\n",
      "\t [[{{node MultiDeviceIteratorGetNextFromShard}}]]\n",
      "\t [[RemoteCall]]\n",
      "2024-07-16 10:10:45.544920: W tensorflow/core/framework/local_rendezvous.cc:404] Local rendezvous is aborting with status: OUT_OF_RANGE: End of sequence\n",
      "\t [[{{node IteratorGetNext}}]]\n"
     ]
    },
    {
     "name": "stdout",
     "output_type": "stream",
     "text": [
      " eval | step:  191200 | steps/sec:    6.4 | eval time:   43.2 sec | output: \n",
      "    {'box_loss': 0.0033199128,\n",
      "     'cls_loss': 0.21977563,\n",
      "     'model_loss': 0.38577127,\n",
      "     'steps_per_second': 6.435260507246321,\n",
      "     'total_loss': 0.50611776,\n",
      "     'validation_loss': 0.50611776}\n",
      "train | step:  191200 | training until step 192200...\n",
      "train | step:  192200 | steps/sec:    3.9 | output: \n",
      "    {'box_loss': 0.0015550184,\n",
      "     'cls_loss': 0.13206476,\n",
      "     'learning_rate': 0.0012,\n",
      "     'model_loss': 0.20981562,\n",
      "     'total_loss': 0.33004192,\n",
      "     'training_loss': 0.33004192}\n",
      "saved checkpoint to out/retinanet_resnet_fpn/ckpt-192200.\n",
      " eval | step:  192200 | running 278 steps of evaluation...\n"
     ]
    },
    {
     "name": "stderr",
     "output_type": "stream",
     "text": [
      "2024-07-16 10:14:58.724267: W tensorflow/core/framework/local_rendezvous.cc:404] Local rendezvous is aborting with status: OUT_OF_RANGE: End of sequence\n",
      "\t [[{{node MultiDeviceIteratorGetNextFromShard}}]]\n",
      "2024-07-16 10:14:58.724376: W tensorflow/core/framework/local_rendezvous.cc:404] Local rendezvous is aborting with status: OUT_OF_RANGE: End of sequence\n",
      "\t [[{{node MultiDeviceIteratorGetNextFromShard}}]]\n",
      "\t [[RemoteCall]]\n",
      "2024-07-16 10:14:58.725170: W tensorflow/core/framework/local_rendezvous.cc:404] Local rendezvous is aborting with status: OUT_OF_RANGE: End of sequence\n",
      "\t [[{{node IteratorGetNext}}]]\n"
     ]
    },
    {
     "name": "stdout",
     "output_type": "stream",
     "text": [
      " eval | step:  192200 | steps/sec:    6.7 | eval time:   41.2 sec | output: \n",
      "    {'box_loss': 0.0033454727,\n",
      "     'cls_loss': 0.22134066,\n",
      "     'model_loss': 0.38861433,\n",
      "     'steps_per_second': 6.749962916252046,\n",
      "     'total_loss': 0.5087209,\n",
      "     'validation_loss': 0.5087209}\n",
      "train | step:  192200 | training until step 193200...\n",
      "train | step:  193200 | steps/sec:    4.0 | output: \n",
      "    {'box_loss': 0.0015361613,\n",
      "     'cls_loss': 0.13181394,\n",
      "     'learning_rate': 0.0012,\n",
      "     'model_loss': 0.20862196,\n",
      "     'total_loss': 0.32861042,\n",
      "     'training_loss': 0.32861042}\n",
      "saved checkpoint to out/retinanet_resnet_fpn/ckpt-193200.\n",
      " eval | step:  193200 | running 278 steps of evaluation...\n"
     ]
    },
    {
     "name": "stderr",
     "output_type": "stream",
     "text": [
      "2024-07-16 10:19:11.845073: W tensorflow/core/framework/local_rendezvous.cc:404] Local rendezvous is aborting with status: OUT_OF_RANGE: End of sequence\n",
      "\t [[{{node MultiDeviceIteratorGetNextFromShard}}]]\n",
      "2024-07-16 10:19:11.845192: W tensorflow/core/framework/local_rendezvous.cc:404] Local rendezvous is aborting with status: OUT_OF_RANGE: End of sequence\n",
      "\t [[{{node MultiDeviceIteratorGetNextFromShard}}]]\n",
      "\t [[RemoteCall]]\n",
      "2024-07-16 10:19:11.846095: W tensorflow/core/framework/local_rendezvous.cc:404] Local rendezvous is aborting with status: OUT_OF_RANGE: End of sequence\n",
      "\t [[{{node IteratorGetNext}}]]\n"
     ]
    },
    {
     "name": "stdout",
     "output_type": "stream",
     "text": [
      " eval | step:  193200 | steps/sec:    6.8 | eval time:   41.0 sec | output: \n",
      "    {'box_loss': 0.0033520649,\n",
      "     'cls_loss': 0.2211119,\n",
      "     'model_loss': 0.38871527,\n",
      "     'steps_per_second': 6.775949436977424,\n",
      "     'total_loss': 0.5085854,\n",
      "     'validation_loss': 0.5085854}\n",
      "train | step:  193200 | training until step 194200...\n",
      "train | step:  194200 | steps/sec:    4.0 | output: \n",
      "    {'box_loss': 0.0015490807,\n",
      "     'cls_loss': 0.13200934,\n",
      "     'learning_rate': 0.0012,\n",
      "     'model_loss': 0.20946328,\n",
      "     'total_loss': 0.32921576,\n",
      "     'training_loss': 0.32921576}\n",
      "saved checkpoint to out/retinanet_resnet_fpn/ckpt-194200.\n",
      " eval | step:  194200 | running 278 steps of evaluation...\n"
     ]
    },
    {
     "name": "stderr",
     "output_type": "stream",
     "text": [
      "2024-07-16 10:23:24.966845: W tensorflow/core/framework/local_rendezvous.cc:404] Local rendezvous is aborting with status: OUT_OF_RANGE: End of sequence\n",
      "\t [[{{node MultiDeviceIteratorGetNextFromShard}}]]\n",
      "2024-07-16 10:23:24.966961: W tensorflow/core/framework/local_rendezvous.cc:404] Local rendezvous is aborting with status: OUT_OF_RANGE: End of sequence\n",
      "\t [[{{node MultiDeviceIteratorGetNextFromShard}}]]\n",
      "\t [[RemoteCall]]\n",
      "2024-07-16 10:23:24.967650: W tensorflow/core/framework/local_rendezvous.cc:404] Local rendezvous is aborting with status: OUT_OF_RANGE: End of sequence\n",
      "\t [[{{node IteratorGetNext}}]]\n"
     ]
    },
    {
     "name": "stdout",
     "output_type": "stream",
     "text": [
      " eval | step:  194200 | steps/sec:    6.8 | eval time:   41.1 sec | output: \n",
      "    {'box_loss': 0.0033821203,\n",
      "     'cls_loss': 0.22168721,\n",
      "     'model_loss': 0.39079323,\n",
      "     'steps_per_second': 6.769775577047412,\n",
      "     'total_loss': 0.51042765,\n",
      "     'validation_loss': 0.51042765}\n",
      "train | step:  194200 | training until step 195200...\n",
      "train | step:  195200 | steps/sec:    3.9 | output: \n",
      "    {'box_loss': 0.0015450403,\n",
      "     'cls_loss': 0.13174312,\n",
      "     'learning_rate': 0.0012,\n",
      "     'model_loss': 0.20899506,\n",
      "     'total_loss': 0.32851237,\n",
      "     'training_loss': 0.32851237}\n",
      "saved checkpoint to out/retinanet_resnet_fpn/ckpt-195200.\n",
      " eval | step:  195200 | running 278 steps of evaluation...\n"
     ]
    },
    {
     "name": "stderr",
     "output_type": "stream",
     "text": [
      "2024-07-16 10:27:39.129245: W tensorflow/core/framework/local_rendezvous.cc:404] Local rendezvous is aborting with status: OUT_OF_RANGE: End of sequence\n",
      "\t [[{{node MultiDeviceIteratorGetNextFromShard}}]]\n",
      "2024-07-16 10:27:39.129365: W tensorflow/core/framework/local_rendezvous.cc:404] Local rendezvous is aborting with status: OUT_OF_RANGE: End of sequence\n",
      "\t [[{{node MultiDeviceIteratorGetNextFromShard}}]]\n",
      "\t [[RemoteCall]]\n",
      "2024-07-16 10:27:39.130177: W tensorflow/core/framework/local_rendezvous.cc:404] Local rendezvous is aborting with status: OUT_OF_RANGE: End of sequence\n",
      "\t [[{{node IteratorGetNext}}]]\n"
     ]
    },
    {
     "name": "stdout",
     "output_type": "stream",
     "text": [
      " eval | step:  195200 | steps/sec:    6.6 | eval time:   41.8 sec | output: \n",
      "    {'box_loss': 0.003391085,\n",
      "     'cls_loss': 0.22385646,\n",
      "     'model_loss': 0.3934108,\n",
      "     'steps_per_second': 6.649140434563416,\n",
      "     'total_loss': 0.51281095,\n",
      "     'validation_loss': 0.51281095}\n",
      "train | step:  195200 | training until step 196200...\n",
      "train | step:  196200 | steps/sec:    3.9 | output: \n",
      "    {'box_loss': 0.0015079918,\n",
      "     'cls_loss': 0.1297393,\n",
      "     'learning_rate': 0.0012,\n",
      "     'model_loss': 0.2051387,\n",
      "     'total_loss': 0.32441998,\n",
      "     'training_loss': 0.32441998}\n",
      "saved checkpoint to out/retinanet_resnet_fpn/ckpt-196200.\n",
      " eval | step:  196200 | running 278 steps of evaluation...\n"
     ]
    },
    {
     "name": "stderr",
     "output_type": "stream",
     "text": [
      "2024-07-16 10:31:53.105351: W tensorflow/core/framework/local_rendezvous.cc:404] Local rendezvous is aborting with status: OUT_OF_RANGE: End of sequence\n",
      "\t [[{{node MultiDeviceIteratorGetNextFromShard}}]]\n",
      "2024-07-16 10:31:53.105470: W tensorflow/core/framework/local_rendezvous.cc:404] Local rendezvous is aborting with status: OUT_OF_RANGE: End of sequence\n",
      "\t [[{{node MultiDeviceIteratorGetNextFromShard}}]]\n",
      "\t [[RemoteCall]]\n",
      "2024-07-16 10:31:53.106434: W tensorflow/core/framework/local_rendezvous.cc:404] Local rendezvous is aborting with status: OUT_OF_RANGE: End of sequence\n",
      "\t [[{{node IteratorGetNext}}]]\n"
     ]
    },
    {
     "name": "stdout",
     "output_type": "stream",
     "text": [
      " eval | step:  196200 | steps/sec:    6.7 | eval time:   41.2 sec | output: \n",
      "    {'box_loss': 0.0033945262,\n",
      "     'cls_loss': 0.22284023,\n",
      "     'model_loss': 0.39256647,\n",
      "     'steps_per_second': 6.7498327602106025,\n",
      "     'total_loss': 0.5117294,\n",
      "     'validation_loss': 0.5117294}\n",
      "train | step:  196200 | training until step 197200...\n",
      "train | step:  197200 | steps/sec:    3.9 | output: \n",
      "    {'box_loss': 0.0015194779,\n",
      "     'cls_loss': 0.1290709,\n",
      "     'learning_rate': 0.0012,\n",
      "     'model_loss': 0.20504487,\n",
      "     'total_loss': 0.32409003,\n",
      "     'training_loss': 0.32409003}\n",
      "saved checkpoint to out/retinanet_resnet_fpn/ckpt-197200.\n",
      " eval | step:  197200 | running 278 steps of evaluation...\n"
     ]
    },
    {
     "name": "stderr",
     "output_type": "stream",
     "text": [
      "2024-07-16 10:36:06.341952: W tensorflow/core/framework/local_rendezvous.cc:404] Local rendezvous is aborting with status: OUT_OF_RANGE: End of sequence\n",
      "\t [[{{node MultiDeviceIteratorGetNextFromShard}}]]\n",
      "2024-07-16 10:36:06.342058: W tensorflow/core/framework/local_rendezvous.cc:404] Local rendezvous is aborting with status: OUT_OF_RANGE: End of sequence\n",
      "\t [[{{node MultiDeviceIteratorGetNextFromShard}}]]\n",
      "\t [[RemoteCall]]\n",
      "2024-07-16 10:36:06.342885: W tensorflow/core/framework/local_rendezvous.cc:404] Local rendezvous is aborting with status: OUT_OF_RANGE: End of sequence\n",
      "\t [[{{node IteratorGetNext}}]]\n"
     ]
    },
    {
     "name": "stdout",
     "output_type": "stream",
     "text": [
      " eval | step:  197200 | steps/sec:    6.8 | eval time:   41.1 sec | output: \n",
      "    {'box_loss': 0.0033513291,\n",
      "     'cls_loss': 0.22279775,\n",
      "     'model_loss': 0.39036426,\n",
      "     'steps_per_second': 6.758181182660438,\n",
      "     'total_loss': 0.50929195,\n",
      "     'validation_loss': 0.50929195}\n",
      "train | step:  197200 | training until step 198200...\n",
      "train | step:  198200 | steps/sec:    3.9 | output: \n",
      "    {'box_loss': 0.001520841,\n",
      "     'cls_loss': 0.13053337,\n",
      "     'learning_rate': 0.0012,\n",
      "     'model_loss': 0.20657548,\n",
      "     'total_loss': 0.32538596,\n",
      "     'training_loss': 0.32538596}\n",
      "saved checkpoint to out/retinanet_resnet_fpn/ckpt-198200.\n",
      " eval | step:  198200 | running 278 steps of evaluation...\n",
      "train | step:  199200 | steps/sec:    3.9 | output: \n",
      "    {'box_loss': 0.0015091663,\n",
      "     'cls_loss': 0.12928377,\n",
      "     'learning_rate': 0.0012,\n",
      "     'model_loss': 0.20474215,\n",
      "     'total_loss': 0.32331964,\n",
      "     'training_loss': 0.32331964}\n",
      "saved checkpoint to out/retinanet_resnet_fpn/ckpt-199200.\n",
      " eval | step:  199200 | running 278 steps of evaluation...\n"
     ]
    },
    {
     "name": "stderr",
     "output_type": "stream",
     "text": [
      "2024-07-16 10:44:33.933162: W tensorflow/core/framework/local_rendezvous.cc:404] Local rendezvous is aborting with status: OUT_OF_RANGE: End of sequence\n",
      "\t [[{{node MultiDeviceIteratorGetNextFromShard}}]]\n",
      "2024-07-16 10:44:33.933284: W tensorflow/core/framework/local_rendezvous.cc:404] Local rendezvous is aborting with status: OUT_OF_RANGE: End of sequence\n",
      "\t [[{{node MultiDeviceIteratorGetNextFromShard}}]]\n",
      "\t [[RemoteCall]]\n",
      "2024-07-16 10:44:33.934055: W tensorflow/core/framework/local_rendezvous.cc:404] Local rendezvous is aborting with status: OUT_OF_RANGE: End of sequence\n",
      "\t [[{{node IteratorGetNext}}]]\n"
     ]
    },
    {
     "name": "stdout",
     "output_type": "stream",
     "text": [
      " eval | step:  199200 | steps/sec:    6.7 | eval time:   41.7 sec | output: \n",
      "    {'box_loss': 0.0033511494,\n",
      "     'cls_loss': 0.2205162,\n",
      "     'model_loss': 0.38807368,\n",
      "     'steps_per_second': 6.671459017927765,\n",
      "     'total_loss': 0.50653535,\n",
      "     'validation_loss': 0.50653535}\n",
      "train | step:  199200 | training until step 200200...\n",
      "train | step:  200200 | steps/sec:    3.9 | output: \n",
      "    {'box_loss': 0.0014710492,\n",
      "     'cls_loss': 0.1276689,\n",
      "     'learning_rate': 0.0012,\n",
      "     'model_loss': 0.2012215,\n",
      "     'total_loss': 0.3195673,\n",
      "     'training_loss': 0.3195673}\n",
      "saved checkpoint to out/retinanet_resnet_fpn/ckpt-200200.\n",
      " eval | step:  200200 | running 278 steps of evaluation...\n"
     ]
    },
    {
     "name": "stderr",
     "output_type": "stream",
     "text": [
      "2024-07-16 10:48:47.194226: W tensorflow/core/framework/local_rendezvous.cc:404] Local rendezvous is aborting with status: OUT_OF_RANGE: End of sequence\n",
      "\t [[{{node MultiDeviceIteratorGetNextFromShard}}]]\n",
      "2024-07-16 10:48:47.194339: W tensorflow/core/framework/local_rendezvous.cc:404] Local rendezvous is aborting with status: OUT_OF_RANGE: End of sequence\n",
      "\t [[{{node MultiDeviceIteratorGetNextFromShard}}]]\n",
      "\t [[RemoteCall]]\n",
      "2024-07-16 10:48:47.195167: W tensorflow/core/framework/local_rendezvous.cc:404] Local rendezvous is aborting with status: OUT_OF_RANGE: End of sequence\n",
      "\t [[{{node IteratorGetNext}}]]\n"
     ]
    },
    {
     "name": "stdout",
     "output_type": "stream",
     "text": [
      " eval | step:  200200 | steps/sec:    6.7 | eval time:   41.6 sec | output: \n",
      "    {'box_loss': 0.0043968777,\n",
      "     'cls_loss': 0.29598036,\n",
      "     'model_loss': 0.51582414,\n",
      "     'steps_per_second': 6.681245893756401,\n",
      "     'total_loss': 0.6340604,\n",
      "     'validation_loss': 0.6340604}\n",
      "train | step:  200200 | training until step 201200...\n",
      "train | step:  201200 | steps/sec:    3.9 | output: \n",
      "    {'box_loss': 0.0015643962,\n",
      "     'cls_loss': 0.13516353,\n",
      "     'learning_rate': 0.0012,\n",
      "     'model_loss': 0.21338333,\n",
      "     'total_loss': 0.331511,\n",
      "     'training_loss': 0.331511}\n",
      "saved checkpoint to out/retinanet_resnet_fpn/ckpt-201200.\n",
      " eval | step:  201200 | running 278 steps of evaluation...\n"
     ]
    },
    {
     "name": "stderr",
     "output_type": "stream",
     "text": [
      "2024-07-16 10:53:00.651698: W tensorflow/core/framework/local_rendezvous.cc:404] Local rendezvous is aborting with status: OUT_OF_RANGE: End of sequence\n",
      "\t [[{{node MultiDeviceIteratorGetNextFromShard}}]]\n",
      "2024-07-16 10:53:00.651829: W tensorflow/core/framework/local_rendezvous.cc:404] Local rendezvous is aborting with status: OUT_OF_RANGE: End of sequence\n",
      "\t [[{{node MultiDeviceIteratorGetNextFromShard}}]]\n",
      "\t [[RemoteCall]]\n",
      "2024-07-16 10:53:00.652595: W tensorflow/core/framework/local_rendezvous.cc:404] Local rendezvous is aborting with status: OUT_OF_RANGE: End of sequence\n",
      "\t [[{{node IteratorGetNext}}]]\n"
     ]
    },
    {
     "name": "stdout",
     "output_type": "stream",
     "text": [
      " eval | step:  201200 | steps/sec:    6.8 | eval time:   41.1 sec | output: \n",
      "    {'box_loss': 0.0033571236,\n",
      "     'cls_loss': 0.22044964,\n",
      "     'model_loss': 0.3883059,\n",
      "     'steps_per_second': 6.769686828329647,\n",
      "     'total_loss': 0.5063189,\n",
      "     'validation_loss': 0.5063189}\n",
      "train | step:  201200 | training until step 202200...\n",
      "train | step:  202200 | steps/sec:    3.9 | output: \n",
      "    {'box_loss': 0.0015339686,\n",
      "     'cls_loss': 0.13261463,\n",
      "     'learning_rate': 0.0012,\n",
      "     'model_loss': 0.20931277,\n",
      "     'total_loss': 0.32721415,\n",
      "     'training_loss': 0.32721415}\n",
      "saved checkpoint to out/retinanet_resnet_fpn/ckpt-202200.\n",
      " eval | step:  202200 | running 278 steps of evaluation...\n"
     ]
    },
    {
     "name": "stderr",
     "output_type": "stream",
     "text": [
      "2024-07-16 10:57:13.369514: W tensorflow/core/framework/local_rendezvous.cc:404] Local rendezvous is aborting with status: OUT_OF_RANGE: End of sequence\n",
      "\t [[{{node MultiDeviceIteratorGetNextFromShard}}]]\n",
      "2024-07-16 10:57:13.369617: W tensorflow/core/framework/local_rendezvous.cc:404] Local rendezvous is aborting with status: OUT_OF_RANGE: End of sequence\n",
      "\t [[{{node MultiDeviceIteratorGetNextFromShard}}]]\n",
      "\t [[RemoteCall]]\n",
      "2024-07-16 10:57:13.370343: W tensorflow/core/framework/local_rendezvous.cc:404] Local rendezvous is aborting with status: OUT_OF_RANGE: End of sequence\n",
      "\t [[{{node IteratorGetNext}}]]\n"
     ]
    },
    {
     "name": "stdout",
     "output_type": "stream",
     "text": [
      " eval | step:  202200 | steps/sec:    6.8 | eval time:   41.0 sec | output: \n",
      "    {'box_loss': 0.0033560984,\n",
      "     'cls_loss': 0.22390784,\n",
      "     'model_loss': 0.3917127,\n",
      "     'steps_per_second': 6.777720694341262,\n",
      "     'total_loss': 0.50949985,\n",
      "     'validation_loss': 0.50949985}\n",
      "train | step:  202200 | training until step 203200...\n",
      "train | step:  203200 | steps/sec:    4.0 | output: \n",
      "    {'box_loss': 0.0015350365,\n",
      "     'cls_loss': 0.13171323,\n",
      "     'learning_rate': 0.0012,\n",
      "     'model_loss': 0.2084651,\n",
      "     'total_loss': 0.32613784,\n",
      "     'training_loss': 0.32613784}\n",
      "saved checkpoint to out/retinanet_resnet_fpn/ckpt-203200.\n",
      " eval | step:  203200 | running 278 steps of evaluation...\n"
     ]
    },
    {
     "name": "stderr",
     "output_type": "stream",
     "text": [
      "2024-07-16 11:01:27.598532: W tensorflow/core/framework/local_rendezvous.cc:404] Local rendezvous is aborting with status: OUT_OF_RANGE: End of sequence\n",
      "\t [[{{node MultiDeviceIteratorGetNextFromShard}}]]\n",
      "2024-07-16 11:01:27.598647: W tensorflow/core/framework/local_rendezvous.cc:404] Local rendezvous is aborting with status: OUT_OF_RANGE: End of sequence\n",
      "\t [[{{node MultiDeviceIteratorGetNextFromShard}}]]\n",
      "\t [[RemoteCall]]\n",
      "2024-07-16 11:01:27.599422: W tensorflow/core/framework/local_rendezvous.cc:404] Local rendezvous is aborting with status: OUT_OF_RANGE: End of sequence\n",
      "\t [[{{node IteratorGetNext}}]]\n"
     ]
    },
    {
     "name": "stdout",
     "output_type": "stream",
     "text": [
      " eval | step:  203200 | steps/sec:    6.7 | eval time:   41.5 sec | output: \n",
      "    {'box_loss': 0.0033902312,\n",
      "     'cls_loss': 0.22618036,\n",
      "     'model_loss': 0.39569196,\n",
      "     'steps_per_second': 6.691865518478943,\n",
      "     'total_loss': 0.51325047,\n",
      "     'validation_loss': 0.51325047}\n",
      "train | step:  203200 | training until step 204200...\n",
      "train | step:  204200 | steps/sec:    3.9 | output: \n",
      "    {'box_loss': 0.0014803212,\n",
      "     'cls_loss': 0.12747212,\n",
      "     'learning_rate': 0.0012,\n",
      "     'model_loss': 0.20148809,\n",
      "     'total_loss': 0.31893194,\n",
      "     'training_loss': 0.31893194}\n",
      "saved checkpoint to out/retinanet_resnet_fpn/ckpt-204200.\n",
      " eval | step:  204200 | running 278 steps of evaluation...\n"
     ]
    },
    {
     "name": "stderr",
     "output_type": "stream",
     "text": [
      "2024-07-16 11:05:40.719100: W tensorflow/core/framework/local_rendezvous.cc:404] Local rendezvous is aborting with status: OUT_OF_RANGE: End of sequence\n",
      "\t [[{{node MultiDeviceIteratorGetNextFromShard}}]]\n",
      "2024-07-16 11:05:40.719198: W tensorflow/core/framework/local_rendezvous.cc:404] Local rendezvous is aborting with status: OUT_OF_RANGE: End of sequence\n",
      "\t [[{{node MultiDeviceIteratorGetNextFromShard}}]]\n",
      "\t [[RemoteCall]]\n",
      "2024-07-16 11:05:40.719942: W tensorflow/core/framework/local_rendezvous.cc:404] Local rendezvous is aborting with status: OUT_OF_RANGE: End of sequence\n",
      "\t [[{{node IteratorGetNext}}]]\n"
     ]
    },
    {
     "name": "stdout",
     "output_type": "stream",
     "text": [
      " eval | step:  204200 | steps/sec:    6.8 | eval time:   41.1 sec | output: \n",
      "    {'box_loss': 0.0033589366,\n",
      "     'cls_loss': 0.22421534,\n",
      "     'model_loss': 0.392162,\n",
      "     'steps_per_second': 6.7674570044907245,\n",
      "     'total_loss': 0.5094912,\n",
      "     'validation_loss': 0.5094912}\n",
      "train | step:  204200 | training until step 205200...\n",
      "train | step:  205200 | steps/sec:    3.9 | output: \n",
      "    {'box_loss': 0.0014874515,\n",
      "     'cls_loss': 0.1278383,\n",
      "     'learning_rate': 0.0012,\n",
      "     'model_loss': 0.20221095,\n",
      "     'total_loss': 0.31942466,\n",
      "     'training_loss': 0.31942466}\n",
      "saved checkpoint to out/retinanet_resnet_fpn/ckpt-205200.\n",
      " eval | step:  205200 | running 278 steps of evaluation...\n"
     ]
    },
    {
     "name": "stderr",
     "output_type": "stream",
     "text": [
      "2024-07-16 11:09:53.961547: W tensorflow/core/framework/local_rendezvous.cc:404] Local rendezvous is aborting with status: OUT_OF_RANGE: End of sequence\n",
      "\t [[{{node MultiDeviceIteratorGetNextFromShard}}]]\n",
      "2024-07-16 11:09:53.961658: W tensorflow/core/framework/local_rendezvous.cc:404] Local rendezvous is aborting with status: OUT_OF_RANGE: End of sequence\n",
      "\t [[{{node MultiDeviceIteratorGetNextFromShard}}]]\n",
      "\t [[RemoteCall]]\n",
      "2024-07-16 11:09:53.962431: W tensorflow/core/framework/local_rendezvous.cc:404] Local rendezvous is aborting with status: OUT_OF_RANGE: End of sequence\n",
      "\t [[{{node IteratorGetNext}}]]\n"
     ]
    },
    {
     "name": "stdout",
     "output_type": "stream",
     "text": [
      " eval | step:  205200 | steps/sec:    6.8 | eval time:   41.0 sec | output: \n",
      "    {'box_loss': 0.0033787086,\n",
      "     'cls_loss': 0.22210407,\n",
      "     'model_loss': 0.3910395,\n",
      "     'steps_per_second': 6.774313822708527,\n",
      "     'total_loss': 0.50813967,\n",
      "     'validation_loss': 0.50813967}\n",
      "train | step:  205200 | training until step 206200...\n",
      "train | step:  206200 | steps/sec:    4.0 | output: \n",
      "    {'box_loss': 0.0014814076,\n",
      "     'cls_loss': 0.12677519,\n",
      "     'learning_rate': 0.0012,\n",
      "     'model_loss': 0.20084567,\n",
      "     'total_loss': 0.3178321,\n",
      "     'training_loss': 0.3178321}\n",
      "saved checkpoint to out/retinanet_resnet_fpn/ckpt-206200.\n",
      " eval | step:  206200 | running 278 steps of evaluation...\n"
     ]
    },
    {
     "name": "stderr",
     "output_type": "stream",
     "text": [
      "2024-07-16 11:14:07.640433: W tensorflow/core/framework/local_rendezvous.cc:404] Local rendezvous is aborting with status: OUT_OF_RANGE: End of sequence\n",
      "\t [[{{node MultiDeviceIteratorGetNextFromShard}}]]\n",
      "2024-07-16 11:14:07.640565: W tensorflow/core/framework/local_rendezvous.cc:404] Local rendezvous is aborting with status: OUT_OF_RANGE: End of sequence\n",
      "\t [[{{node MultiDeviceIteratorGetNextFromShard}}]]\n",
      "\t [[RemoteCall]]\n",
      "2024-07-16 11:14:07.641336: W tensorflow/core/framework/local_rendezvous.cc:404] Local rendezvous is aborting with status: OUT_OF_RANGE: End of sequence\n",
      "\t [[{{node IteratorGetNext}}]]\n"
     ]
    },
    {
     "name": "stdout",
     "output_type": "stream",
     "text": [
      " eval | step:  206200 | steps/sec:    6.8 | eval time:   41.2 sec | output: \n",
      "    {'box_loss': 0.0033588742,\n",
      "     'cls_loss': 0.22311515,\n",
      "     'model_loss': 0.3910588,\n",
      "     'steps_per_second': 6.751133061182377,\n",
      "     'total_loss': 0.5079315,\n",
      "     'validation_loss': 0.5079315}\n",
      "train | step:  206200 | training until step 207200...\n",
      "train | step:  207200 | steps/sec:    3.9 | output: \n",
      "    {'box_loss': 0.0014441541,\n",
      "     'cls_loss': 0.12537178,\n",
      "     'learning_rate': 0.0012,\n",
      "     'model_loss': 0.1975795,\n",
      "     'total_loss': 0.31433773,\n",
      "     'training_loss': 0.31433773}\n",
      "saved checkpoint to out/retinanet_resnet_fpn/ckpt-207200.\n",
      " eval | step:  207200 | running 278 steps of evaluation...\n"
     ]
    },
    {
     "name": "stderr",
     "output_type": "stream",
     "text": [
      "2024-07-16 11:18:20.770035: W tensorflow/core/framework/local_rendezvous.cc:404] Local rendezvous is aborting with status: OUT_OF_RANGE: End of sequence\n",
      "\t [[{{node MultiDeviceIteratorGetNextFromShard}}]]\n",
      "2024-07-16 11:18:20.770146: W tensorflow/core/framework/local_rendezvous.cc:404] Local rendezvous is aborting with status: OUT_OF_RANGE: End of sequence\n",
      "\t [[{{node MultiDeviceIteratorGetNextFromShard}}]]\n",
      "\t [[RemoteCall]]\n",
      "2024-07-16 11:18:20.770899: W tensorflow/core/framework/local_rendezvous.cc:404] Local rendezvous is aborting with status: OUT_OF_RANGE: End of sequence\n",
      "\t [[{{node IteratorGetNext}}]]\n"
     ]
    },
    {
     "name": "stdout",
     "output_type": "stream",
     "text": [
      " eval | step:  207200 | steps/sec:    6.8 | eval time:   41.1 sec | output: \n",
      "    {'box_loss': 0.0033445442,\n",
      "     'cls_loss': 0.22286026,\n",
      "     'model_loss': 0.3900875,\n",
      "     'steps_per_second': 6.7574082878091275,\n",
      "     'total_loss': 0.5067315,\n",
      "     'validation_loss': 0.5067315}\n",
      "train | step:  207200 | training until step 208200...\n",
      "train | step:  208200 | steps/sec:    3.9 | output: \n",
      "    {'box_loss': 0.0014427562,\n",
      "     'cls_loss': 0.12530966,\n",
      "     'learning_rate': 0.0012,\n",
      "     'model_loss': 0.19744746,\n",
      "     'total_loss': 0.31397876,\n",
      "     'training_loss': 0.31397876}\n",
      "saved checkpoint to out/retinanet_resnet_fpn/ckpt-208200.\n",
      " eval | step:  208200 | running 278 steps of evaluation...\n",
      "train | step:  209200 | steps/sec:    4.0 | output: \n",
      "    {'box_loss': 0.0014617781,\n",
      "     'cls_loss': 0.12573089,\n",
      "     'learning_rate': 0.0012,\n",
      "     'model_loss': 0.19881988,\n",
      "     'total_loss': 0.315126,\n",
      "     'training_loss': 0.315126}\n",
      "saved checkpoint to out/retinanet_resnet_fpn/ckpt-209200.\n",
      " eval | step:  209200 | running 278 steps of evaluation...\n"
     ]
    },
    {
     "name": "stderr",
     "output_type": "stream",
     "text": [
      "2024-07-16 11:26:46.615419: W tensorflow/core/framework/local_rendezvous.cc:404] Local rendezvous is aborting with status: OUT_OF_RANGE: End of sequence\n",
      "\t [[{{node MultiDeviceIteratorGetNextFromShard}}]]\n",
      "2024-07-16 11:26:46.615513: W tensorflow/core/framework/local_rendezvous.cc:404] Local rendezvous is aborting with status: OUT_OF_RANGE: End of sequence\n",
      "\t [[{{node MultiDeviceIteratorGetNextFromShard}}]]\n",
      "\t [[RemoteCall]]\n",
      "2024-07-16 11:26:46.616430: W tensorflow/core/framework/local_rendezvous.cc:404] Local rendezvous is aborting with status: OUT_OF_RANGE: End of sequence\n",
      "\t [[{{node IteratorGetNext}}]]\n"
     ]
    },
    {
     "name": "stdout",
     "output_type": "stream",
     "text": [
      " eval | step:  209200 | steps/sec:    6.8 | eval time:   41.1 sec | output: \n",
      "    {'box_loss': 0.0033639695,\n",
      "     'cls_loss': 0.22156172,\n",
      "     'model_loss': 0.38976023,\n",
      "     'steps_per_second': 6.758612159861357,\n",
      "     'total_loss': 0.5059553,\n",
      "     'validation_loss': 0.5059553}\n",
      "train | step:  209200 | training until step 210200...\n",
      "train | step:  210200 | steps/sec:    3.9 | output: \n",
      "    {'box_loss': 0.0014581535,\n",
      "     'cls_loss': 0.12573843,\n",
      "     'learning_rate': 0.0012,\n",
      "     'model_loss': 0.19864626,\n",
      "     'total_loss': 0.31473044,\n",
      "     'training_loss': 0.31473044}\n",
      "saved checkpoint to out/retinanet_resnet_fpn/ckpt-210200.\n",
      " eval | step:  210200 | running 278 steps of evaluation...\n"
     ]
    },
    {
     "name": "stderr",
     "output_type": "stream",
     "text": [
      "2024-07-16 11:30:59.537810: W tensorflow/core/framework/local_rendezvous.cc:404] Local rendezvous is aborting with status: OUT_OF_RANGE: End of sequence\n",
      "\t [[{{node MultiDeviceIteratorGetNextFromShard}}]]\n",
      "2024-07-16 11:30:59.537930: W tensorflow/core/framework/local_rendezvous.cc:404] Local rendezvous is aborting with status: OUT_OF_RANGE: End of sequence\n",
      "\t [[{{node MultiDeviceIteratorGetNextFromShard}}]]\n",
      "\t [[RemoteCall]]\n",
      "2024-07-16 11:30:59.538901: W tensorflow/core/framework/local_rendezvous.cc:404] Local rendezvous is aborting with status: OUT_OF_RANGE: End of sequence\n",
      "\t [[{{node IteratorGetNext}}]]\n"
     ]
    },
    {
     "name": "stdout",
     "output_type": "stream",
     "text": [
      " eval | step:  210200 | steps/sec:    6.8 | eval time:   41.0 sec | output: \n",
      "    {'box_loss': 0.0033621618,\n",
      "     'cls_loss': 0.22330499,\n",
      "     'model_loss': 0.39141312,\n",
      "     'steps_per_second': 6.787051176580651,\n",
      "     'total_loss': 0.50738555,\n",
      "     'validation_loss': 0.50738555}\n",
      "train | step:  210200 | training until step 211200...\n",
      "train | step:  211200 | steps/sec:    4.0 | output: \n",
      "    {'box_loss': 0.0014306734,\n",
      "     'cls_loss': 0.124149665,\n",
      "     'learning_rate': 0.0012,\n",
      "     'model_loss': 0.19568312,\n",
      "     'total_loss': 0.31154418,\n",
      "     'training_loss': 0.31154418}\n",
      "saved checkpoint to out/retinanet_resnet_fpn/ckpt-211200.\n",
      " eval | step:  211200 | running 278 steps of evaluation...\n"
     ]
    },
    {
     "name": "stderr",
     "output_type": "stream",
     "text": [
      "2024-07-16 11:35:13.470629: W tensorflow/core/framework/local_rendezvous.cc:404] Local rendezvous is aborting with status: OUT_OF_RANGE: End of sequence\n",
      "\t [[{{node MultiDeviceIteratorGetNextFromShard}}]]\n",
      "2024-07-16 11:35:13.470746: W tensorflow/core/framework/local_rendezvous.cc:404] Local rendezvous is aborting with status: OUT_OF_RANGE: End of sequence\n",
      "\t [[{{node MultiDeviceIteratorGetNextFromShard}}]]\n",
      "\t [[RemoteCall]]\n",
      "2024-07-16 11:35:13.471717: W tensorflow/core/framework/local_rendezvous.cc:404] Local rendezvous is aborting with status: OUT_OF_RANGE: End of sequence\n",
      "\t [[{{node IteratorGetNext}}]]\n"
     ]
    },
    {
     "name": "stdout",
     "output_type": "stream",
     "text": [
      " eval | step:  211200 | steps/sec:    6.7 | eval time:   41.7 sec | output: \n",
      "    {'box_loss': 0.0033519121,\n",
      "     'cls_loss': 0.22155322,\n",
      "     'model_loss': 0.38914907,\n",
      "     'steps_per_second': 6.660933957340898,\n",
      "     'total_loss': 0.50489694,\n",
      "     'validation_loss': 0.50489694}\n",
      "train | step:  211200 | training until step 212200...\n",
      "train | step:  212200 | steps/sec:    3.9 | output: \n",
      "    {'box_loss': 0.0014283055,\n",
      "     'cls_loss': 0.12389809,\n",
      "     'learning_rate': 0.0012,\n",
      "     'model_loss': 0.19531341,\n",
      "     'total_loss': 0.31095067,\n",
      "     'training_loss': 0.31095067}\n",
      "saved checkpoint to out/retinanet_resnet_fpn/ckpt-212200.\n",
      " eval | step:  212200 | running 278 steps of evaluation...\n"
     ]
    },
    {
     "name": "stderr",
     "output_type": "stream",
     "text": [
      "2024-07-16 11:39:26.442168: W tensorflow/core/framework/local_rendezvous.cc:404] Local rendezvous is aborting with status: OUT_OF_RANGE: End of sequence\n",
      "\t [[{{node MultiDeviceIteratorGetNextFromShard}}]]\n",
      "2024-07-16 11:39:26.442267: W tensorflow/core/framework/local_rendezvous.cc:404] Local rendezvous is aborting with status: OUT_OF_RANGE: End of sequence\n",
      "\t [[{{node MultiDeviceIteratorGetNextFromShard}}]]\n",
      "\t [[RemoteCall]]\n",
      "2024-07-16 11:39:26.442997: W tensorflow/core/framework/local_rendezvous.cc:404] Local rendezvous is aborting with status: OUT_OF_RANGE: End of sequence\n",
      "\t [[{{node IteratorGetNext}}]]\n"
     ]
    },
    {
     "name": "stdout",
     "output_type": "stream",
     "text": [
      " eval | step:  212200 | steps/sec:    6.8 | eval time:   41.1 sec | output: \n",
      "    {'box_loss': 0.0033771743,\n",
      "     'cls_loss': 0.22601448,\n",
      "     'model_loss': 0.39487326,\n",
      "     'steps_per_second': 6.763477527414129,\n",
      "     'total_loss': 0.51039964,\n",
      "     'validation_loss': 0.51039964}\n",
      "train | step:  212200 | training until step 213200...\n",
      "train | step:  213200 | steps/sec:    4.0 | output: \n",
      "    {'box_loss': 0.0014191993,\n",
      "     'cls_loss': 0.12340513,\n",
      "     'learning_rate': 0.0012,\n",
      "     'model_loss': 0.19436516,\n",
      "     'total_loss': 0.30977908,\n",
      "     'training_loss': 0.30977908}\n",
      "saved checkpoint to out/retinanet_resnet_fpn/ckpt-213200.\n",
      " eval | step:  213200 | running 278 steps of evaluation...\n"
     ]
    },
    {
     "name": "stderr",
     "output_type": "stream",
     "text": [
      "2024-07-16 11:43:39.665898: W tensorflow/core/framework/local_rendezvous.cc:404] Local rendezvous is aborting with status: OUT_OF_RANGE: End of sequence\n",
      "\t [[{{node MultiDeviceIteratorGetNextFromShard}}]]\n",
      "2024-07-16 11:43:39.666012: W tensorflow/core/framework/local_rendezvous.cc:404] Local rendezvous is aborting with status: OUT_OF_RANGE: End of sequence\n",
      "\t [[{{node MultiDeviceIteratorGetNextFromShard}}]]\n",
      "\t [[RemoteCall]]\n",
      "2024-07-16 11:43:39.666781: W tensorflow/core/framework/local_rendezvous.cc:404] Local rendezvous is aborting with status: OUT_OF_RANGE: End of sequence\n",
      "\t [[{{node IteratorGetNext}}]]\n"
     ]
    },
    {
     "name": "stdout",
     "output_type": "stream",
     "text": [
      " eval | step:  213200 | steps/sec:    6.7 | eval time:   41.6 sec | output: \n",
      "    {'box_loss': 0.0033866381,\n",
      "     'cls_loss': 0.22579055,\n",
      "     'model_loss': 0.39512232,\n",
      "     'steps_per_second': 6.6813350186408895,\n",
      "     'total_loss': 0.5104251,\n",
      "     'validation_loss': 0.5104251}\n",
      "train | step:  213200 | training until step 214200...\n",
      "train | step:  214200 | steps/sec:    4.0 | output: \n",
      "    {'box_loss': 0.0014353403,\n",
      "     'cls_loss': 0.12517144,\n",
      "     'learning_rate': 0.0012,\n",
      "     'model_loss': 0.19693844,\n",
      "     'total_loss': 0.31213352,\n",
      "     'training_loss': 0.31213352}\n",
      "saved checkpoint to out/retinanet_resnet_fpn/ckpt-214200.\n",
      " eval | step:  214200 | running 278 steps of evaluation...\n"
     ]
    },
    {
     "name": "stderr",
     "output_type": "stream",
     "text": [
      "2024-07-16 11:47:52.659963: W tensorflow/core/framework/local_rendezvous.cc:404] Local rendezvous is aborting with status: OUT_OF_RANGE: End of sequence\n",
      "\t [[{{node MultiDeviceIteratorGetNextFromShard}}]]\n",
      "2024-07-16 11:47:52.660069: W tensorflow/core/framework/local_rendezvous.cc:404] Local rendezvous is aborting with status: OUT_OF_RANGE: End of sequence\n",
      "\t [[{{node MultiDeviceIteratorGetNextFromShard}}]]\n",
      "\t [[RemoteCall]]\n",
      "2024-07-16 11:47:52.660953: W tensorflow/core/framework/local_rendezvous.cc:404] Local rendezvous is aborting with status: OUT_OF_RANGE: End of sequence\n",
      "\t [[{{node IteratorGetNext}}]]\n"
     ]
    },
    {
     "name": "stdout",
     "output_type": "stream",
     "text": [
      " eval | step:  214200 | steps/sec:    6.7 | eval time:   41.2 sec | output: \n",
      "    {'box_loss': 0.003347811,\n",
      "     'cls_loss': 0.2285033,\n",
      "     'model_loss': 0.3958938,\n",
      "     'steps_per_second': 6.7407760679708035,\n",
      "     'total_loss': 0.5109781,\n",
      "     'validation_loss': 0.5109781}\n",
      "train | step:  214200 | training until step 215200...\n",
      "train | step:  215200 | steps/sec:    4.0 | output: \n",
      "    {'box_loss': 0.0014044453,\n",
      "     'cls_loss': 0.122147955,\n",
      "     'learning_rate': 0.0012,\n",
      "     'model_loss': 0.19236995,\n",
      "     'total_loss': 0.30734512,\n",
      "     'training_loss': 0.30734512}\n",
      "saved checkpoint to out/retinanet_resnet_fpn/ckpt-215200.\n",
      " eval | step:  215200 | running 278 steps of evaluation...\n"
     ]
    },
    {
     "name": "stderr",
     "output_type": "stream",
     "text": [
      "2024-07-16 11:52:04.822266: W tensorflow/core/framework/local_rendezvous.cc:404] Local rendezvous is aborting with status: OUT_OF_RANGE: End of sequence\n",
      "\t [[{{node MultiDeviceIteratorGetNextFromShard}}]]\n",
      "2024-07-16 11:52:04.822384: W tensorflow/core/framework/local_rendezvous.cc:404] Local rendezvous is aborting with status: OUT_OF_RANGE: End of sequence\n",
      "\t [[{{node MultiDeviceIteratorGetNextFromShard}}]]\n",
      "\t [[RemoteCall]]\n",
      "2024-07-16 11:52:04.823124: W tensorflow/core/framework/local_rendezvous.cc:404] Local rendezvous is aborting with status: OUT_OF_RANGE: End of sequence\n",
      "\t [[{{node IteratorGetNext}}]]\n"
     ]
    },
    {
     "name": "stdout",
     "output_type": "stream",
     "text": [
      " eval | step:  215200 | steps/sec:    6.8 | eval time:   41.1 sec | output: \n",
      "    {'box_loss': 0.0033790402,\n",
      "     'cls_loss': 0.22865951,\n",
      "     'model_loss': 0.39761147,\n",
      "     'steps_per_second': 6.769931030475394,\n",
      "     'total_loss': 0.5124765,\n",
      "     'validation_loss': 0.5124765}\n",
      "train | step:  215200 | training until step 216200...\n",
      "train | step:  216200 | steps/sec:    4.0 | output: \n",
      "    {'box_loss': 0.0014255429,\n",
      "     'cls_loss': 0.124547444,\n",
      "     'learning_rate': 0.0012,\n",
      "     'model_loss': 0.19582465,\n",
      "     'total_loss': 0.3105823,\n",
      "     'training_loss': 0.3105823}\n",
      "saved checkpoint to out/retinanet_resnet_fpn/ckpt-216200.\n",
      " eval | step:  216200 | running 278 steps of evaluation...\n"
     ]
    },
    {
     "name": "stderr",
     "output_type": "stream",
     "text": [
      "2024-07-16 11:56:17.001172: W tensorflow/core/framework/local_rendezvous.cc:404] Local rendezvous is aborting with status: OUT_OF_RANGE: End of sequence\n",
      "\t [[{{node MultiDeviceIteratorGetNextFromShard}}]]\n",
      "2024-07-16 11:56:17.001291: W tensorflow/core/framework/local_rendezvous.cc:404] Local rendezvous is aborting with status: OUT_OF_RANGE: End of sequence\n",
      "\t [[{{node MultiDeviceIteratorGetNextFromShard}}]]\n",
      "\t [[RemoteCall]]\n",
      "2024-07-16 11:56:17.001924: W tensorflow/core/framework/local_rendezvous.cc:404] Local rendezvous is aborting with status: OUT_OF_RANGE: End of sequence\n",
      "\t [[{{node IteratorGetNext}}]]\n"
     ]
    },
    {
     "name": "stdout",
     "output_type": "stream",
     "text": [
      " eval | step:  216200 | steps/sec:    6.7 | eval time:   41.3 sec | output: \n",
      "    {'box_loss': 0.0033874277,\n",
      "     'cls_loss': 0.22517401,\n",
      "     'model_loss': 0.3945454,\n",
      "     'steps_per_second': 6.736591799753057,\n",
      "     'total_loss': 0.5091941,\n",
      "     'validation_loss': 0.5091941}\n",
      "train | step:  216200 | training until step 217200...\n",
      "train | step:  217200 | steps/sec:    4.0 | output: \n",
      "    {'box_loss': 0.0014005172,\n",
      "     'cls_loss': 0.1223157,\n",
      "     'learning_rate': 0.0012,\n",
      "     'model_loss': 0.19234186,\n",
      "     'total_loss': 0.30687982,\n",
      "     'training_loss': 0.30687982}\n",
      "saved checkpoint to out/retinanet_resnet_fpn/ckpt-217200.\n",
      " eval | step:  217200 | running 278 steps of evaluation...\n"
     ]
    },
    {
     "name": "stderr",
     "output_type": "stream",
     "text": [
      "2024-07-16 12:00:30.196289: W tensorflow/core/framework/local_rendezvous.cc:404] Local rendezvous is aborting with status: OUT_OF_RANGE: End of sequence\n",
      "\t [[{{node MultiDeviceIteratorGetNextFromShard}}]]\n",
      "2024-07-16 12:00:30.196393: W tensorflow/core/framework/local_rendezvous.cc:404] Local rendezvous is aborting with status: OUT_OF_RANGE: End of sequence\n",
      "\t [[{{node MultiDeviceIteratorGetNextFromShard}}]]\n",
      "\t [[RemoteCall]]\n",
      "2024-07-16 12:00:30.197289: W tensorflow/core/framework/local_rendezvous.cc:404] Local rendezvous is aborting with status: OUT_OF_RANGE: End of sequence\n",
      "\t [[{{node IteratorGetNext}}]]\n"
     ]
    },
    {
     "name": "stdout",
     "output_type": "stream",
     "text": [
      " eval | step:  217200 | steps/sec:    6.8 | eval time:   41.2 sec | output: \n",
      "    {'box_loss': 0.0034020531,\n",
      "     'cls_loss': 0.2283623,\n",
      "     'model_loss': 0.398465,\n",
      "     'steps_per_second': 6.75169965696698,\n",
      "     'total_loss': 0.5128935,\n",
      "     'validation_loss': 0.5128935}\n",
      "train | step:  217200 | training until step 218200...\n",
      "train | step:  218200 | steps/sec:    4.0 | output: \n",
      "    {'box_loss': 0.0014048388,\n",
      "     'cls_loss': 0.1220641,\n",
      "     'learning_rate': 0.0012,\n",
      "     'model_loss': 0.19230615,\n",
      "     'total_loss': 0.30662557,\n",
      "     'training_loss': 0.30662557}\n",
      "saved checkpoint to out/retinanet_resnet_fpn/ckpt-218200.\n",
      " eval | step:  218200 | running 278 steps of evaluation...\n"
     ]
    },
    {
     "name": "stderr",
     "output_type": "stream",
     "text": [
      "2024-07-16 12:04:43.544027: W tensorflow/core/framework/local_rendezvous.cc:404] Local rendezvous is aborting with status: OUT_OF_RANGE: End of sequence\n",
      "\t [[{{node MultiDeviceIteratorGetNextFromShard}}]]\n",
      "2024-07-16 12:04:43.544135: W tensorflow/core/framework/local_rendezvous.cc:404] Local rendezvous is aborting with status: OUT_OF_RANGE: End of sequence\n",
      "\t [[{{node MultiDeviceIteratorGetNextFromShard}}]]\n",
      "\t [[RemoteCall]]\n",
      "2024-07-16 12:04:43.544913: W tensorflow/core/framework/local_rendezvous.cc:404] Local rendezvous is aborting with status: OUT_OF_RANGE: End of sequence\n",
      "\t [[{{node IteratorGetNext}}]]\n"
     ]
    },
    {
     "name": "stdout",
     "output_type": "stream",
     "text": [
      " eval | step:  218200 | steps/sec:    6.7 | eval time:   41.6 sec | output: \n",
      "    {'box_loss': 0.0033675777,\n",
      "     'cls_loss': 0.22548407,\n",
      "     'model_loss': 0.39386284,\n",
      "     'steps_per_second': 6.680877819390068,\n",
      "     'total_loss': 0.5080728,\n",
      "     'validation_loss': 0.5080728}\n",
      "train | step:  218200 | training until step 219200...\n",
      "train | step:  219200 | steps/sec:    3.9 | output: \n",
      "    {'box_loss': 0.0013812702,\n",
      "     'cls_loss': 0.121416144,\n",
      "     'learning_rate': 0.0012,\n",
      "     'model_loss': 0.19047965,\n",
      "     'total_loss': 0.3045818,\n",
      "     'training_loss': 0.3045818}\n",
      "saved checkpoint to out/retinanet_resnet_fpn/ckpt-219200.\n",
      " eval | step:  219200 | running 278 steps of evaluation...\n"
     ]
    },
    {
     "name": "stderr",
     "output_type": "stream",
     "text": [
      "2024-07-16 12:08:56.556452: W tensorflow/core/framework/local_rendezvous.cc:404] Local rendezvous is aborting with status: OUT_OF_RANGE: End of sequence\n",
      "\t [[{{node MultiDeviceIteratorGetNextFromShard}}]]\n",
      "2024-07-16 12:08:56.556551: W tensorflow/core/framework/local_rendezvous.cc:404] Local rendezvous is aborting with status: OUT_OF_RANGE: End of sequence\n",
      "\t [[{{node MultiDeviceIteratorGetNextFromShard}}]]\n",
      "\t [[RemoteCall]]\n",
      "2024-07-16 12:08:56.557384: W tensorflow/core/framework/local_rendezvous.cc:404] Local rendezvous is aborting with status: OUT_OF_RANGE: End of sequence\n",
      "\t [[{{node IteratorGetNext}}]]\n"
     ]
    },
    {
     "name": "stdout",
     "output_type": "stream",
     "text": [
      " eval | step:  219200 | steps/sec:    6.8 | eval time:   41.0 sec | output: \n",
      "    {'box_loss': 0.003350944,\n",
      "     'cls_loss': 0.22638078,\n",
      "     'model_loss': 0.39392796,\n",
      "     'steps_per_second': 6.775189519006938,\n",
      "     'total_loss': 0.5079215,\n",
      "     'validation_loss': 0.5079215}\n",
      "train | step:  219200 | training until step 220200...\n",
      "train | step:  220200 | steps/sec:    4.0 | output: \n",
      "    {'box_loss': 0.0014076651,\n",
      "     'cls_loss': 0.1217664,\n",
      "     'learning_rate': 0.0012,\n",
      "     'model_loss': 0.19214958,\n",
      "     'total_loss': 0.3060352,\n",
      "     'training_loss': 0.3060352}\n",
      "saved checkpoint to out/retinanet_resnet_fpn/ckpt-220200.\n",
      " eval | step:  220200 | running 278 steps of evaluation...\n"
     ]
    },
    {
     "name": "stderr",
     "output_type": "stream",
     "text": [
      "2024-07-16 12:13:09.395591: W tensorflow/core/framework/local_rendezvous.cc:404] Local rendezvous is aborting with status: OUT_OF_RANGE: End of sequence\n",
      "\t [[{{node MultiDeviceIteratorGetNextFromShard}}]]\n",
      "2024-07-16 12:13:09.395705: W tensorflow/core/framework/local_rendezvous.cc:404] Local rendezvous is aborting with status: OUT_OF_RANGE: End of sequence\n",
      "\t [[{{node MultiDeviceIteratorGetNextFromShard}}]]\n",
      "\t [[RemoteCall]]\n",
      "2024-07-16 12:13:09.396433: W tensorflow/core/framework/local_rendezvous.cc:404] Local rendezvous is aborting with status: OUT_OF_RANGE: End of sequence\n",
      "\t [[{{node IteratorGetNext}}]]\n"
     ]
    },
    {
     "name": "stdout",
     "output_type": "stream",
     "text": [
      " eval | step:  220200 | steps/sec:    6.8 | eval time:   40.9 sec | output: \n",
      "    {'box_loss': 0.0033832535,\n",
      "     'cls_loss': 0.2312575,\n",
      "     'model_loss': 0.40042022,\n",
      "     'steps_per_second': 6.7958527864050176,\n",
      "     'total_loss': 0.51419777,\n",
      "     'validation_loss': 0.51419777}\n",
      "train | step:  220200 | training until step 221200...\n",
      "train | step:  221200 | steps/sec:    4.0 | output: \n",
      "    {'box_loss': 0.0013766022,\n",
      "     'cls_loss': 0.12051289,\n",
      "     'learning_rate': 0.0012,\n",
      "     'model_loss': 0.18934308,\n",
      "     'total_loss': 0.3030135,\n",
      "     'training_loss': 0.3030135}\n",
      "saved checkpoint to out/retinanet_resnet_fpn/ckpt-221200.\n",
      " eval | step:  221200 | running 278 steps of evaluation...\n"
     ]
    },
    {
     "name": "stderr",
     "output_type": "stream",
     "text": [
      "2024-07-16 12:17:21.839070: W tensorflow/core/framework/local_rendezvous.cc:404] Local rendezvous is aborting with status: OUT_OF_RANGE: End of sequence\n",
      "\t [[{{node MultiDeviceIteratorGetNextFromShard}}]]\n",
      "2024-07-16 12:17:21.839174: W tensorflow/core/framework/local_rendezvous.cc:404] Local rendezvous is aborting with status: OUT_OF_RANGE: End of sequence\n",
      "\t [[{{node MultiDeviceIteratorGetNextFromShard}}]]\n",
      "\t [[RemoteCall]]\n",
      "2024-07-16 12:17:21.839867: W tensorflow/core/framework/local_rendezvous.cc:404] Local rendezvous is aborting with status: OUT_OF_RANGE: End of sequence\n",
      "\t [[{{node IteratorGetNext}}]]\n"
     ]
    },
    {
     "name": "stdout",
     "output_type": "stream",
     "text": [
      " eval | step:  221200 | steps/sec:    6.8 | eval time:   41.2 sec | output: \n",
      "    {'box_loss': 0.0033542614,\n",
      "     'cls_loss': 0.22565025,\n",
      "     'model_loss': 0.39336327,\n",
      "     'steps_per_second': 6.7504291122177875,\n",
      "     'total_loss': 0.506926,\n",
      "     'validation_loss': 0.506926}\n",
      "train | step:  221200 | training until step 222200...\n",
      "train | step:  222200 | steps/sec:    4.0 | output: \n",
      "    {'box_loss': 0.0013907147,\n",
      "     'cls_loss': 0.12150329,\n",
      "     'learning_rate': 0.0012,\n",
      "     'model_loss': 0.19103907,\n",
      "     'total_loss': 0.30449435,\n",
      "     'training_loss': 0.30449435}\n",
      "saved checkpoint to out/retinanet_resnet_fpn/ckpt-222200.\n",
      " eval | step:  222200 | running 278 steps of evaluation...\n"
     ]
    },
    {
     "name": "stderr",
     "output_type": "stream",
     "text": [
      "2024-07-16 12:21:35.415571: W tensorflow/core/framework/local_rendezvous.cc:404] Local rendezvous is aborting with status: OUT_OF_RANGE: End of sequence\n",
      "\t [[{{node MultiDeviceIteratorGetNextFromShard}}]]\n",
      "2024-07-16 12:21:35.415686: W tensorflow/core/framework/local_rendezvous.cc:404] Local rendezvous is aborting with status: OUT_OF_RANGE: End of sequence\n",
      "\t [[{{node MultiDeviceIteratorGetNextFromShard}}]]\n",
      "\t [[RemoteCall]]\n",
      "2024-07-16 12:21:35.416418: W tensorflow/core/framework/local_rendezvous.cc:404] Local rendezvous is aborting with status: OUT_OF_RANGE: End of sequence\n",
      "\t [[{{node IteratorGetNext}}]]\n"
     ]
    },
    {
     "name": "stdout",
     "output_type": "stream",
     "text": [
      " eval | step:  222200 | steps/sec:    6.8 | eval time:   41.0 sec | output: \n",
      "    {'box_loss': 0.0034601297,\n",
      "     'cls_loss': 0.23639257,\n",
      "     'model_loss': 0.40939906,\n",
      "     'steps_per_second': 6.77721637207679,\n",
      "     'total_loss': 0.52274686,\n",
      "     'validation_loss': 0.52274686}\n",
      "train | step:  222200 | training until step 223200...\n"
     ]
    },
    {
     "name": "stderr",
     "output_type": "stream",
     "text": [
      "2024-07-16 12:25:48.988444: W tensorflow/core/framework/local_rendezvous.cc:404] Local rendezvous is aborting with status: OUT_OF_RANGE: End of sequence\n",
      "\t [[{{node MultiDeviceIteratorGetNextFromShard}}]]\n",
      "2024-07-16 12:25:48.988569: W tensorflow/core/framework/local_rendezvous.cc:404] Local rendezvous is aborting with status: OUT_OF_RANGE: End of sequence\n",
      "\t [[{{node MultiDeviceIteratorGetNextFromShard}}]]\n",
      "\t [[RemoteCall]]\n",
      "2024-07-16 12:25:48.989303: W tensorflow/core/framework/local_rendezvous.cc:404] Local rendezvous is aborting with status: OUT_OF_RANGE: End of sequence\n",
      "\t [[{{node IteratorGetNext}}]]\n"
     ]
    },
    {
     "name": "stdout",
     "output_type": "stream",
     "text": [
      " eval | step:  223200 | steps/sec:    3.4 | eval time:   82.2 sec | output: \n",
      "    {'box_loss': 0.0033652668,\n",
      "     'cls_loss': 0.22710608,\n",
      "     'model_loss': 0.39536956,\n",
      "     'steps_per_second': 3.3806201815301806,\n",
      "     'total_loss': 0.50850046,\n",
      "     'validation_loss': 0.50850046}\n",
      "train | step:  223200 | training until step 224200...\n",
      "train | step:  224200 | steps/sec:    3.4 | output: \n",
      "    {'box_loss': 0.0013897954,\n",
      "     'cls_loss': 0.12042271,\n",
      "     'learning_rate': 0.0012,\n",
      "     'model_loss': 0.1899123,\n",
      "     'total_loss': 0.30293795,\n",
      "     'training_loss': 0.30293795}\n",
      "saved checkpoint to out/retinanet_resnet_fpn/ckpt-224200.\n",
      " eval | step:  224200 | running 278 steps of evaluation...\n"
     ]
    },
    {
     "name": "stderr",
     "output_type": "stream",
     "text": [
      "2024-07-16 12:30:41.988198: W tensorflow/core/framework/local_rendezvous.cc:404] Local rendezvous is aborting with status: OUT_OF_RANGE: End of sequence\n",
      "\t [[{{node MultiDeviceIteratorGetNextFromShard}}]]\n",
      "2024-07-16 12:30:41.988302: W tensorflow/core/framework/local_rendezvous.cc:404] Local rendezvous is aborting with status: OUT_OF_RANGE: End of sequence\n",
      "\t [[{{node MultiDeviceIteratorGetNextFromShard}}]]\n",
      "\t [[RemoteCall]]\n",
      "2024-07-16 12:30:41.989054: W tensorflow/core/framework/local_rendezvous.cc:404] Local rendezvous is aborting with status: OUT_OF_RANGE: End of sequence\n",
      "\t [[{{node IteratorGetNext}}]]\n"
     ]
    },
    {
     "name": "stdout",
     "output_type": "stream",
     "text": [
      " eval | step:  224200 | steps/sec:    6.7 | eval time:   41.3 sec | output: \n",
      "    {'box_loss': 0.003384053,\n",
      "     'cls_loss': 0.22990195,\n",
      "     'model_loss': 0.39910448,\n",
      "     'steps_per_second': 6.7365680584764185,\n",
      "     'total_loss': 0.51202387,\n",
      "     'validation_loss': 0.51202387}\n",
      "train | step:  224200 | training until step 225200...\n",
      "train | step:  225200 | steps/sec:    4.0 | output: \n",
      "    {'box_loss': 0.0013686484,\n",
      "     'cls_loss': 0.119903974,\n",
      "     'learning_rate': 0.0012,\n",
      "     'model_loss': 0.18833642,\n",
      "     'total_loss': 0.3011494,\n",
      "     'training_loss': 0.3011494}\n",
      "saved checkpoint to out/retinanet_resnet_fpn/ckpt-225200.\n",
      " eval | step:  225200 | running 278 steps of evaluation...\n"
     ]
    },
    {
     "name": "stderr",
     "output_type": "stream",
     "text": [
      "2024-07-16 12:34:55.280067: W tensorflow/core/framework/local_rendezvous.cc:404] Local rendezvous is aborting with status: OUT_OF_RANGE: End of sequence\n",
      "\t [[{{node MultiDeviceIteratorGetNextFromShard}}]]\n",
      "2024-07-16 12:34:55.280172: W tensorflow/core/framework/local_rendezvous.cc:404] Local rendezvous is aborting with status: OUT_OF_RANGE: End of sequence\n",
      "\t [[{{node MultiDeviceIteratorGetNextFromShard}}]]\n",
      "\t [[RemoteCall]]\n",
      "2024-07-16 12:34:55.280966: W tensorflow/core/framework/local_rendezvous.cc:404] Local rendezvous is aborting with status: OUT_OF_RANGE: End of sequence\n",
      "\t [[{{node IteratorGetNext}}]]\n"
     ]
    },
    {
     "name": "stdout",
     "output_type": "stream",
     "text": [
      " eval | step:  225200 | steps/sec:    6.8 | eval time:   41.1 sec | output: \n",
      "    {'box_loss': 0.0033862733,\n",
      "     'cls_loss': 0.22732176,\n",
      "     'model_loss': 0.3966354,\n",
      "     'steps_per_second': 6.757906376236056,\n",
      "     'total_loss': 0.50934213,\n",
      "     'validation_loss': 0.50934213}\n",
      "train | step:  225200 | training until step 226200...\n",
      "train | step:  226200 | steps/sec:    3.9 | output: \n",
      "    {'box_loss': 0.0013754714,\n",
      "     'cls_loss': 0.11934859,\n",
      "     'learning_rate': 0.0012,\n",
      "     'model_loss': 0.18812208,\n",
      "     'total_loss': 0.30072224,\n",
      "     'training_loss': 0.30072224}\n",
      "saved checkpoint to out/retinanet_resnet_fpn/ckpt-226200.\n",
      " eval | step:  226200 | running 278 steps of evaluation...\n"
     ]
    },
    {
     "name": "stderr",
     "output_type": "stream",
     "text": [
      "2024-07-16 12:39:08.585299: W tensorflow/core/framework/local_rendezvous.cc:404] Local rendezvous is aborting with status: OUT_OF_RANGE: End of sequence\n",
      "\t [[{{node MultiDeviceIteratorGetNextFromShard}}]]\n",
      "2024-07-16 12:39:08.585400: W tensorflow/core/framework/local_rendezvous.cc:404] Local rendezvous is aborting with status: OUT_OF_RANGE: End of sequence\n",
      "\t [[{{node MultiDeviceIteratorGetNextFromShard}}]]\n",
      "\t [[RemoteCall]]\n",
      "2024-07-16 12:39:08.586247: W tensorflow/core/framework/local_rendezvous.cc:404] Local rendezvous is aborting with status: OUT_OF_RANGE: End of sequence\n",
      "\t [[{{node IteratorGetNext}}]]\n"
     ]
    },
    {
     "name": "stdout",
     "output_type": "stream",
     "text": [
      " eval | step:  226200 | steps/sec:    6.8 | eval time:   41.1 sec | output: \n",
      "    {'box_loss': 0.0033718555,\n",
      "     'cls_loss': 0.22725557,\n",
      "     'model_loss': 0.3958483,\n",
      "     'steps_per_second': 6.765948722633663,\n",
      "     'total_loss': 0.5083412,\n",
      "     'validation_loss': 0.5083412}\n",
      "train | step:  226200 | training until step 227200...\n",
      "train | step:  227200 | steps/sec:    4.0 | output: \n",
      "    {'box_loss': 0.0013381433,\n",
      "     'cls_loss': 0.11779544,\n",
      "     'learning_rate': 0.0012,\n",
      "     'model_loss': 0.18470263,\n",
      "     'total_loss': 0.29708955,\n",
      "     'training_loss': 0.29708955}\n",
      "saved checkpoint to out/retinanet_resnet_fpn/ckpt-227200.\n",
      " eval | step:  227200 | running 278 steps of evaluation...\n"
     ]
    },
    {
     "name": "stderr",
     "output_type": "stream",
     "text": [
      "2024-07-16 12:43:21.605753: W tensorflow/core/framework/local_rendezvous.cc:404] Local rendezvous is aborting with status: OUT_OF_RANGE: End of sequence\n",
      "\t [[{{node MultiDeviceIteratorGetNextFromShard}}]]\n",
      "2024-07-16 12:43:21.605862: W tensorflow/core/framework/local_rendezvous.cc:404] Local rendezvous is aborting with status: OUT_OF_RANGE: End of sequence\n",
      "\t [[{{node MultiDeviceIteratorGetNextFromShard}}]]\n",
      "\t [[RemoteCall]]\n",
      "2024-07-16 12:43:21.606654: W tensorflow/core/framework/local_rendezvous.cc:404] Local rendezvous is aborting with status: OUT_OF_RANGE: End of sequence\n",
      "\t [[{{node IteratorGetNext}}]]\n"
     ]
    },
    {
     "name": "stdout",
     "output_type": "stream",
     "text": [
      " eval | step:  227200 | steps/sec:    6.8 | eval time:   41.0 sec | output: \n",
      "    {'box_loss': 0.003401585,\n",
      "     'cls_loss': 0.23290111,\n",
      "     'model_loss': 0.40298036,\n",
      "     'steps_per_second': 6.77810452119328,\n",
      "     'total_loss': 0.51526153,\n",
      "     'validation_loss': 0.51526153}\n",
      "train | step:  227200 | training until step 228200...\n",
      "train | step:  228200 | steps/sec:    4.0 | output: \n",
      "    {'box_loss': 0.0013595847,\n",
      "     'cls_loss': 0.11926267,\n",
      "     'learning_rate': 0.0012,\n",
      "     'model_loss': 0.18724187,\n",
      "     'total_loss': 0.29941678,\n",
      "     'training_loss': 0.29941678}\n",
      "saved checkpoint to out/retinanet_resnet_fpn/ckpt-228200.\n",
      " eval | step:  228200 | running 278 steps of evaluation...\n"
     ]
    },
    {
     "name": "stderr",
     "output_type": "stream",
     "text": [
      "2024-07-16 12:47:35.697000: W tensorflow/core/framework/local_rendezvous.cc:404] Local rendezvous is aborting with status: OUT_OF_RANGE: End of sequence\n",
      "\t [[{{node MultiDeviceIteratorGetNextFromShard}}]]\n",
      "2024-07-16 12:47:35.697119: W tensorflow/core/framework/local_rendezvous.cc:404] Local rendezvous is aborting with status: OUT_OF_RANGE: End of sequence\n",
      "\t [[{{node MultiDeviceIteratorGetNextFromShard}}]]\n",
      "\t [[RemoteCall]]\n",
      "2024-07-16 12:47:35.697885: W tensorflow/core/framework/local_rendezvous.cc:404] Local rendezvous is aborting with status: OUT_OF_RANGE: End of sequence\n",
      "\t [[{{node IteratorGetNext}}]]\n"
     ]
    },
    {
     "name": "stdout",
     "output_type": "stream",
     "text": [
      " eval | step:  228200 | steps/sec:    6.6 | eval time:   42.3 sec | output: \n",
      "    {'box_loss': 0.0034008278,\n",
      "     'cls_loss': 0.22955768,\n",
      "     'model_loss': 0.39959908,\n",
      "     'steps_per_second': 6.5691786491398805,\n",
      "     'total_loss': 0.51166886,\n",
      "     'validation_loss': 0.51166886}\n",
      "train | step:  228200 | training until step 229200...\n",
      "train | step:  229200 | steps/sec:    3.9 | output: \n",
      "    {'box_loss': 0.0013595577,\n",
      "     'cls_loss': 0.11950614,\n",
      "     'learning_rate': 0.0012,\n",
      "     'model_loss': 0.18748371,\n",
      "     'total_loss': 0.29944828,\n",
      "     'training_loss': 0.29944828}\n",
      "saved checkpoint to out/retinanet_resnet_fpn/ckpt-229200.\n",
      " eval | step:  229200 | running 278 steps of evaluation...\n"
     ]
    },
    {
     "name": "stderr",
     "output_type": "stream",
     "text": [
      "2024-07-16 12:51:48.610366: W tensorflow/core/framework/local_rendezvous.cc:404] Local rendezvous is aborting with status: OUT_OF_RANGE: End of sequence\n",
      "\t [[{{node MultiDeviceIteratorGetNextFromShard}}]]\n",
      "2024-07-16 12:51:48.610484: W tensorflow/core/framework/local_rendezvous.cc:404] Local rendezvous is aborting with status: OUT_OF_RANGE: End of sequence\n",
      "\t [[{{node MultiDeviceIteratorGetNextFromShard}}]]\n",
      "\t [[RemoteCall]]\n",
      "2024-07-16 12:51:48.611221: W tensorflow/core/framework/local_rendezvous.cc:404] Local rendezvous is aborting with status: OUT_OF_RANGE: End of sequence\n",
      "\t [[{{node IteratorGetNext}}]]\n"
     ]
    },
    {
     "name": "stdout",
     "output_type": "stream",
     "text": [
      " eval | step:  229200 | steps/sec:    6.8 | eval time:   41.1 sec | output: \n",
      "    {'box_loss': 0.0034227644,\n",
      "     'cls_loss': 0.23410904,\n",
      "     'model_loss': 0.40524724,\n",
      "     'steps_per_second': 6.762283608466516,\n",
      "     'total_loss': 0.5171072,\n",
      "     'validation_loss': 0.5171072}\n",
      "train | step:  229200 | training until step 230200...\n",
      "train | step:  230200 | steps/sec:    4.0 | output: \n",
      "    {'box_loss': 0.0013263325,\n",
      "     'cls_loss': 0.117364846,\n",
      "     'learning_rate': 0.0012,\n",
      "     'model_loss': 0.18368137,\n",
      "     'total_loss': 0.295437,\n",
      "     'training_loss': 0.295437}\n",
      "saved checkpoint to out/retinanet_resnet_fpn/ckpt-230200.\n",
      " eval | step:  230200 | running 278 steps of evaluation...\n"
     ]
    }
   ],
   "source": [
    "send_pushover_notification(\"Starting Training\", \"Tensorflow Models\")\n",
    "\n",
    "with intercept_stdout(send_notification):\n",
    "    model, eval_logs = tfm.core.train_lib.run_experiment(\n",
    "        distribution_strategy=distribution_strategy,\n",
    "        task=task,\n",
    "        mode='train_and_eval',\n",
    "        params=exp_config,\n",
    "        model_dir=MODEL_DIR,\n",
    "        run_post_eval=True)"
   ]
  },
  {
   "cell_type": "code",
   "execution_count": 9,
   "metadata": {},
   "outputs": [
    {
     "name": "stdout",
     "output_type": "stream",
     "text": [
      "WARNING:tensorflow:Skipping full serialization of TF-Keras layer <official.vision.modeling.retinanet_model.RetinaNetModel object at 0x148a59e73190>, because it is not built.\n"
     ]
    },
    {
     "name": "stderr",
     "output_type": "stream",
     "text": [
      "WARNING:tensorflow:Skipping full serialization of TF-Keras layer <official.vision.modeling.retinanet_model.RetinaNetModel object at 0x148a59e73190>, because it is not built.\n"
     ]
    },
    {
     "name": "stdout",
     "output_type": "stream",
     "text": [
      "WARNING:tensorflow:Skipping full serialization of TF-Keras layer <official.vision.modeling.layers.detection_generator.MultilevelDetectionGenerator object at 0x148a5a196710>, because it is not built.\n"
     ]
    },
    {
     "name": "stderr",
     "output_type": "stream",
     "text": [
      "WARNING:tensorflow:Skipping full serialization of TF-Keras layer <official.vision.modeling.layers.detection_generator.MultilevelDetectionGenerator object at 0x148a5a196710>, because it is not built.\n"
     ]
    },
    {
     "name": "stdout",
     "output_type": "stream",
     "text": [
      "INFO:tensorflow:Assets written to: out/retinanet_resnet_fpn/final/assets\n"
     ]
    },
    {
     "name": "stderr",
     "output_type": "stream",
     "text": [
      "INFO:tensorflow:Assets written to: out/retinanet_resnet_fpn/final/assets\n"
     ]
    }
   ],
   "source": [
    "send_pushover_notification(\"Finished Training\", \"Tensorflow Models\")\n",
    "\n",
    "export_saved_model_lib.export_inference_graph(\n",
    "    input_type='image_tensor',\n",
    "    batch_size=1,\n",
    "    input_image_size=[IMAGE_SIZE[1], IMAGE_SIZE[0]],\n",
    "    params=exp_config,\n",
    "    checkpoint_path=tf.train.latest_checkpoint(MODEL_DIR),\n",
    "    export_dir=f'{MODEL_DIR}/final')"
   ]
  }
 ],
 "metadata": {
  "kernelspec": {
   "display_name": "Tensorflow Models",
   "language": "python",
   "name": "tf_models"
  },
  "language_info": {
   "codemirror_mode": {
    "name": "ipython",
    "version": 3
   },
   "file_extension": ".py",
   "mimetype": "text/x-python",
   "name": "python",
   "nbconvert_exporter": "python",
   "pygments_lexer": "ipython3",
   "version": "3.11.9"
  }
 },
 "nbformat": 4,
 "nbformat_minor": 4
}
